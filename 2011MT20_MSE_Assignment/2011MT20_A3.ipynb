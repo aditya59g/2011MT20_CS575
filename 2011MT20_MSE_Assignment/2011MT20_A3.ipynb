{
  "nbformat": 4,
  "nbformat_minor": 0,
  "metadata": {
    "colab": {
      "name": "2011MT20_A3.ipynb",
      "provenance": [],
      "collapsed_sections": []
    },
    "kernelspec": {
      "name": "python3",
      "display_name": "Python 3"
    }
  },
  "cells": [
    {
      "cell_type": "code",
      "metadata": {
        "id": "8k1I9pDcC9wD"
      },
      "source": [
        "import numpy as np\r\n",
        "import pandas as pd"
      ],
      "execution_count": 1,
      "outputs": []
    },
    {
      "cell_type": "markdown",
      "metadata": {
        "id": "D80C__0tJ8vO"
      },
      "source": [
        "**load data**"
      ]
    },
    {
      "cell_type": "code",
      "metadata": {
        "id": "82xs60fVFiNc"
      },
      "source": [
        "df = pd.read_excel('dataset_metrics.xlsx') "
      ],
      "execution_count": 4,
      "outputs": []
    },
    {
      "cell_type": "code",
      "metadata": {
        "colab": {
          "base_uri": "https://localhost:8080/",
          "height": 195
        },
        "id": "Yakz_NoeF1Zo",
        "outputId": "46e5977a-82f1-4dfd-82da-60911c40f0da"
      },
      "source": [
        "df.head()"
      ],
      "execution_count": 5,
      "outputs": [
        {
          "output_type": "execute_result",
          "data": {
            "text/html": [
              "<div>\n",
              "<style scoped>\n",
              "    .dataframe tbody tr th:only-of-type {\n",
              "        vertical-align: middle;\n",
              "    }\n",
              "\n",
              "    .dataframe tbody tr th {\n",
              "        vertical-align: top;\n",
              "    }\n",
              "\n",
              "    .dataframe thead th {\n",
              "        text-align: right;\n",
              "    }\n",
              "</style>\n",
              "<table border=\"1\" class=\"dataframe\">\n",
              "  <thead>\n",
              "    <tr style=\"text-align: right;\">\n",
              "      <th></th>\n",
              "      <th>actual_y</th>\n",
              "      <th>predicted_y</th>\n",
              "    </tr>\n",
              "  </thead>\n",
              "  <tbody>\n",
              "    <tr>\n",
              "      <th>0</th>\n",
              "      <td>12</td>\n",
              "      <td>11</td>\n",
              "    </tr>\n",
              "    <tr>\n",
              "      <th>1</th>\n",
              "      <td>15</td>\n",
              "      <td>16</td>\n",
              "    </tr>\n",
              "    <tr>\n",
              "      <th>2</th>\n",
              "      <td>9</td>\n",
              "      <td>7</td>\n",
              "    </tr>\n",
              "    <tr>\n",
              "      <th>3</th>\n",
              "      <td>7</td>\n",
              "      <td>13</td>\n",
              "    </tr>\n",
              "    <tr>\n",
              "      <th>4</th>\n",
              "      <td>13</td>\n",
              "      <td>13</td>\n",
              "    </tr>\n",
              "  </tbody>\n",
              "</table>\n",
              "</div>"
            ],
            "text/plain": [
              "   actual_y  predicted_y\n",
              "0        12           11\n",
              "1        15           16\n",
              "2         9            7\n",
              "3         7           13\n",
              "4        13           13"
            ]
          },
          "metadata": {
            "tags": []
          },
          "execution_count": 5
        }
      ]
    },
    {
      "cell_type": "code",
      "metadata": {
        "id": "HoCaZZJmG-3p"
      },
      "source": [
        "df = df.values"
      ],
      "execution_count": 8,
      "outputs": []
    },
    {
      "cell_type": "code",
      "metadata": {
        "id": "Yx25c9m3HmfJ"
      },
      "source": [
        "e = df[:,0]\r\n",
        "s = df[:,1]"
      ],
      "execution_count": 11,
      "outputs": []
    },
    {
      "cell_type": "markdown",
      "metadata": {
        "id": "HfHe4sv6H4BL"
      },
      "source": [
        "**1) Bias**"
      ]
    },
    {
      "cell_type": "code",
      "metadata": {
        "colab": {
          "base_uri": "https://localhost:8080/"
        },
        "id": "ibljVbp4GEl0",
        "outputId": "d7521b98-f679-4e1c-9972-69f29516c06b"
      },
      "source": [
        "def bias(e,s):\r\n",
        "  sum = 0\r\n",
        "  for i in range(len(e)):\r\n",
        "      sum += e[i] - s[i]\r\n",
        "  b = sum/len(e)\r\n",
        "  return b\r\n",
        "\r\n",
        "print('bias : ',bias(e,s))"
      ],
      "execution_count": 15,
      "outputs": [
        {
          "output_type": "stream",
          "text": [
            "bias :  -0.5\n"
          ],
          "name": "stdout"
        }
      ]
    },
    {
      "cell_type": "markdown",
      "metadata": {
        "id": "-ALN0a5jIZGs"
      },
      "source": [
        "**2) PBias**"
      ]
    },
    {
      "cell_type": "code",
      "metadata": {
        "colab": {
          "base_uri": "https://localhost:8080/"
        },
        "id": "--8iKZ4AGdu5",
        "outputId": "6e58b9be-8560-44dd-832a-7d8767380e88"
      },
      "source": [
        "def pbias(e,s):\r\n",
        "  num = 0\r\n",
        "  den = 0\r\n",
        "  for i in range(len(e)):\r\n",
        "      num += e[i] - s[i]\r\n",
        "      den += e[i]\r\n",
        "  pb = num/den\r\n",
        "  return pb*100\r\n",
        "\r\n",
        "print('p-bias : ',pbias(e,s))"
      ],
      "execution_count": 17,
      "outputs": [
        {
          "output_type": "stream",
          "text": [
            "p-bias :  -3.125\n"
          ],
          "name": "stdout"
        }
      ]
    },
    {
      "cell_type": "markdown",
      "metadata": {
        "id": "7qFhCgJFJ2Ry"
      },
      "source": [
        "**3) log Nash-Sutcliffe (NSE)**"
      ]
    },
    {
      "cell_type": "code",
      "metadata": {
        "colab": {
          "base_uri": "https://localhost:8080/"
        },
        "id": "uhdDt6R3IuP9",
        "outputId": "34e15795-1545-4c97-d06f-4d2826373ae3"
      },
      "source": [
        "def NSE(e,s):\r\n",
        "  diff=e-s\r\n",
        "  sum1=0\r\n",
        "  sum2=0\r\n",
        "  for i in diff:\r\n",
        "    sum1 += i**2\r\n",
        "  m=0\r\n",
        "  for j in e:\r\n",
        "    m += j\r\n",
        "  mean = m/len(e)\r\n",
        "  for k in e:\r\n",
        "    sum2 += (k-(mean))**2\r\n",
        "  NSE_val = 1-(sum1/sum2)\r\n",
        "  return NSE_val\r\n",
        "\r\n",
        "print('Nash-Sutcliffe : ',NSE(e,s))"
      ],
      "execution_count": 21,
      "outputs": [
        {
          "output_type": "stream",
          "text": [
            "Nash-Sutcliffe :  0.8417085427135679\n"
          ],
          "name": "stdout"
        }
      ]
    },
    {
      "cell_type": "markdown",
      "metadata": {
        "id": "4_wcEBtsNgeb"
      },
      "source": [
        "**4) log Nash-Sutcliffe**"
      ]
    },
    {
      "cell_type": "code",
      "metadata": {
        "colab": {
          "base_uri": "https://localhost:8080/"
        },
        "id": "Vp3AkuflMPZ5",
        "outputId": "b082df80-9e5d-4976-e4ab-6c4fc6d080b5"
      },
      "source": [
        "def log_NSE(e,s):\r\n",
        "  diff = np.log(e)-np.log(s)\r\n",
        "  sum1=0\r\n",
        "  sum2=0\r\n",
        "  for i in diff:\r\n",
        "    sum1 += i**2\r\n",
        "  m=0\r\n",
        "  for j in e:\r\n",
        "    m += j\r\n",
        "  mean = m/len(e)\r\n",
        "  for k in e:\r\n",
        "    sum2 += (np.log(k) - np.log(mean))**2\r\n",
        "  NSE_val = 1-(sum1/sum2)\r\n",
        "  return NSE_val\r\n",
        "\r\n",
        "print('log Nash-Sutcliffe : ',log_NSE(e,s))"
      ],
      "execution_count": 23,
      "outputs": [
        {
          "output_type": "stream",
          "text": [
            "log Nash-Sutcliffe :  0.7121054364600313\n"
          ],
          "name": "stdout"
        }
      ]
    },
    {
      "cell_type": "markdown",
      "metadata": {
        "id": "otZ82NAPPuO1"
      },
      "source": [
        "**5) correlation coefficient**"
      ]
    },
    {
      "cell_type": "markdown",
      "metadata": {
        "id": "YCXCei_UQ4f6"
      },
      "source": [
        "mean function"
      ]
    },
    {
      "cell_type": "code",
      "metadata": {
        "id": "DUoQ-TlKQ3Xf"
      },
      "source": [
        "def meanfunction(col):\r\n",
        "  sum=0\r\n",
        "  for i in col:\r\n",
        "    sum += i\r\n",
        "  meanvalue = sum/len(col)\r\n",
        "  return meanvalue"
      ],
      "execution_count": 26,
      "outputs": []
    },
    {
      "cell_type": "code",
      "metadata": {
        "colab": {
          "base_uri": "https://localhost:8080/"
        },
        "id": "AORnVu8gNfu2",
        "outputId": "3771bcf2-acd1-4e47-fbe6-a8095a6069e9"
      },
      "source": [
        "def correlationfunction(e,s):\r\n",
        "  mean_e = meanfunction(e)\r\n",
        "  mean_s = meanfunction(s)\r\n",
        "  \r\n",
        "  sum = 0\r\n",
        "  for i,j in zip(e,s): \r\n",
        "    sum += (i - mean_e)*(j - mean_s)\r\n",
        "  sum1 = 0\r\n",
        "  for p in e: \r\n",
        "    sum1 += (p - mean_e)**2\r\n",
        "  sum2 = 0\r\n",
        "  for q in s: \r\n",
        "    sum2 += (q - mean_s)**2\r\n",
        "    \r\n",
        "  cc = sum/(np.sqrt(sum1)*np.sqrt(sum2)) \r\n",
        "  return cc \r\n",
        "\r\n",
        "print(\"correlation coefficient :\", correlationfunction(e,s))"
      ],
      "execution_count": 36,
      "outputs": [
        {
          "output_type": "stream",
          "text": [
            "correlation coefficient : 0.9208893410030699\n"
          ],
          "name": "stdout"
        }
      ]
    },
    {
      "cell_type": "markdown",
      "metadata": {
        "id": "eo565GX5VaCp"
      },
      "source": [
        "**6) rsquared**"
      ]
    },
    {
      "cell_type": "code",
      "metadata": {
        "colab": {
          "base_uri": "https://localhost:8080/"
        },
        "id": "okGvpzfnNfqs",
        "outputId": "0c5987c7-140d-4841-b6c1-dec77483036f"
      },
      "source": [
        "def rsquared(e,s):\r\n",
        "  mean_e = meanfunction(e)\r\n",
        "  mean_s = meanfunction(s)\r\n",
        "  \r\n",
        "  sum = 0\r\n",
        "  for i,j in zip(e,s): \r\n",
        "    sum += (i - mean_e)*(j - mean_s)\r\n",
        "  sum1 = 0\r\n",
        "  for p in e: \r\n",
        "    sum1 += (p - mean_e)**2\r\n",
        "  sum2 = 0\r\n",
        "  for q in s: \r\n",
        "    sum2 += (q - mean_s)**2\r\n",
        "    \r\n",
        "  cc = sum/(np.sqrt(sum1)*np.sqrt(sum2)) \r\n",
        "  return (cc)**2 \r\n",
        "\r\n",
        "print(\"r^2 :\", rsquared(e,s))"
      ],
      "execution_count": 37,
      "outputs": [
        {
          "output_type": "stream",
          "text": [
            "r^2 : 0.8480371783730682\n"
          ],
          "name": "stdout"
        }
      ]
    },
    {
      "cell_type": "markdown",
      "metadata": {
        "id": "CaNfauzvWK4F"
      },
      "source": [
        "**7) MSE**"
      ]
    },
    {
      "cell_type": "code",
      "metadata": {
        "colab": {
          "base_uri": "https://localhost:8080/"
        },
        "id": "um9vQgtyNfn4",
        "outputId": "555ab50e-6124-402e-fd80-22d7b408c964"
      },
      "source": [
        "def mse(e,s):\r\n",
        "  sum = 0\r\n",
        "  for i in range(len(e)):\r\n",
        "      sum += (e[i] - s[i])**2\r\n",
        "  b = sum/len(e)\r\n",
        "  return b\r\n",
        "\r\n",
        "print('MSE : ',mse(e,s))"
      ],
      "execution_count": 38,
      "outputs": [
        {
          "output_type": "stream",
          "text": [
            "MSE :  6.3\n"
          ],
          "name": "stdout"
        }
      ]
    },
    {
      "cell_type": "markdown",
      "metadata": {
        "id": "yj3kAzmEWwQH"
      },
      "source": [
        "**8) RMSE**"
      ]
    },
    {
      "cell_type": "code",
      "metadata": {
        "colab": {
          "base_uri": "https://localhost:8080/"
        },
        "id": "Tf12F8v0NfmN",
        "outputId": "b6ddce50-79f5-4371-b62e-27efe0061782"
      },
      "source": [
        "def rmse(e,s):\r\n",
        "  sum = 0\r\n",
        "  for i in range(len(e)):\r\n",
        "      sum += (e[i] - s[i])**2\r\n",
        "  b = np.sqrt(sum/len(e))\r\n",
        "  return b\r\n",
        "\r\n",
        "print('RMSE : ',rmse(e,s))"
      ],
      "execution_count": 39,
      "outputs": [
        {
          "output_type": "stream",
          "text": [
            "RMSE :  2.5099800796022267\n"
          ],
          "name": "stdout"
        }
      ]
    },
    {
      "cell_type": "markdown",
      "metadata": {
        "id": "uaxkFohyX7e3"
      },
      "source": [
        "**9) MAE**"
      ]
    },
    {
      "cell_type": "code",
      "metadata": {
        "colab": {
          "base_uri": "https://localhost:8080/"
        },
        "id": "s3B1bU23X438",
        "outputId": "160e53f3-ab16-405d-d5de-0e325e06c96b"
      },
      "source": [
        "def mae(e,s):\r\n",
        "  sum = 0\r\n",
        "  for i in range(len(e)):\r\n",
        "      sum += abs(e[i] - s[i])\r\n",
        "  b = sum/len(e)\r\n",
        "  return b\r\n",
        "\r\n",
        "print('MAE : ',mae(e,s))"
      ],
      "execution_count": 40,
      "outputs": [
        {
          "output_type": "stream",
          "text": [
            "MAE :  1.9\n"
          ],
          "name": "stdout"
        }
      ]
    },
    {
      "cell_type": "markdown",
      "metadata": {
        "id": "1UMUUxVsYekY"
      },
      "source": [
        "**10) RRMSE**"
      ]
    },
    {
      "cell_type": "code",
      "metadata": {
        "colab": {
          "base_uri": "https://localhost:8080/"
        },
        "id": "-Nk9GHMoYY6J",
        "outputId": "b77abdcf-cf2a-42fc-f5ab-7da5e7cb3a29"
      },
      "source": [
        "def rrmse(e,s):\r\n",
        "  sum = 0\r\n",
        "  for i in range(len(e)):\r\n",
        "      sum += (e[i] - s[i])**2\r\n",
        "  b = np.sqrt(sum/len(e))\r\n",
        "  mean_e = meanfunction(e)\r\n",
        "  return b/mean_e\r\n",
        "\r\n",
        "print('RRMSE : ',rrmse(e,s))"
      ],
      "execution_count": 41,
      "outputs": [
        {
          "output_type": "stream",
          "text": [
            "RRMSE :  0.15687375497513917\n"
          ],
          "name": "stdout"
        }
      ]
    },
    {
      "cell_type": "markdown",
      "metadata": {
        "id": "z4xiioOrZNNF"
      },
      "source": [
        "**11) agreement index**"
      ]
    },
    {
      "cell_type": "code",
      "metadata": {
        "colab": {
          "base_uri": "https://localhost:8080/"
        },
        "id": "FY8jsmMbY8cR",
        "outputId": "ed4cc7b1-06da-4a80-c5f5-bfb3a176d2fd"
      },
      "source": [
        "def agreement_index(e,s):\r\n",
        "  sum = 0\r\n",
        "  for i in range(len(e)):\r\n",
        "      sum += (e[i] - s[i])**2\r\n",
        "\r\n",
        "  mean_e = meanfunction(e)\r\n",
        "  sum1=0\r\n",
        "  for p,q in zip(e,s):\r\n",
        "    sum1 += (abs(q-mean_e) + abs(p-mean_e))**2\r\n",
        "  \r\n",
        "  d = 1-(sum/sum1)\r\n",
        "  return d\r\n",
        "\r\n",
        "print('agreement index : ',agreement_index(e,s))"
      ],
      "execution_count": 44,
      "outputs": [
        {
          "output_type": "stream",
          "text": [
            "agreement index :  0.955096222380613\n"
          ],
          "name": "stdout"
        }
      ]
    },
    {
      "cell_type": "markdown",
      "metadata": {
        "id": "aEgd-nACZThk"
      },
      "source": [
        "**12) covariance**"
      ]
    },
    {
      "cell_type": "code",
      "metadata": {
        "colab": {
          "base_uri": "https://localhost:8080/"
        },
        "id": "gfXXK36tZFYQ",
        "outputId": "6466099f-882d-448b-f190-cb3652aa3ec8"
      },
      "source": [
        "def covariance(e,s):  \r\n",
        "  mean_e = meanfunction(e)\r\n",
        "  mean_s = meanfunction(s)\r\n",
        "  sum=0\r\n",
        "  for p,q in zip(e,s):\r\n",
        "    sum += (p-mean_e)*(q-mean_s)\r\n",
        "  \r\n",
        "  return sum/len(e)\r\n",
        "\r\n",
        "print('covariance : ',covariance(e,s))"
      ],
      "execution_count": 58,
      "outputs": [
        {
          "output_type": "stream",
          "text": [
            "covariance :  33.5\n"
          ],
          "name": "stdout"
        }
      ]
    },
    {
      "cell_type": "markdown",
      "metadata": {
        "id": "xuyES0hmcYWV"
      },
      "source": [
        "13) Kling-Gupta Efficiency (kge)"
      ]
    },
    {
      "cell_type": "code",
      "metadata": {
        "colab": {
          "base_uri": "https://localhost:8080/"
        },
        "id": "QS6GPI8-ZHYV",
        "outputId": "0fcf46b6-d91b-4d7b-9e6a-397dc741c0e1"
      },
      "source": [
        "def stdfunction(a):\r\n",
        "  mean_value = meanfunction(a)\r\n",
        "  x = a - mean_value\r\n",
        "  y = (x)**2\r\n",
        "  z=0\r\n",
        "  for i in y:\r\n",
        "    z += i\r\n",
        "  var_value = z/(len(a))\r\n",
        "  std_value = np.sqrt(var_value)\r\n",
        "  return std_value\r\n",
        "\r\n",
        "def kge_func(e,s):\r\n",
        "  cc = correlationfunction(e,s)\r\n",
        "  mean_e = meanfunction(e)\r\n",
        "  mean_s = meanfunction(s)\r\n",
        "  std_e = stdfunction(e)\r\n",
        "  std_s = stdfunction(s)\r\n",
        "  \r\n",
        "  kge = 1 - (np.sqrt((cc-1)**2 + (mean_e/mean_s)**2 + (std_e/std_s)**2))\r\n",
        "  return kge\r\n",
        "\r\n",
        "print('Kling-Gupta E\u000eciency : ', kge_func(e,s))  "
      ],
      "execution_count": 59,
      "outputs": [
        {
          "output_type": "stream",
          "text": [
            "Kling-Gupta E\u000eciency :  -0.46409125077961644\n"
          ],
          "name": "stdout"
        }
      ]
    },
    {
      "cell_type": "markdown",
      "metadata": {
        "id": "-WRlHt28eYTN"
      },
      "source": [
        "**14) RSR**"
      ]
    },
    {
      "cell_type": "code",
      "metadata": {
        "colab": {
          "base_uri": "https://localhost:8080/"
        },
        "id": "Z0Q8atumeF80",
        "outputId": "882ca293-0ff7-4c5f-85fa-18c7fe16c660"
      },
      "source": [
        "def rsr_func(e,s):\r\n",
        "  num = rmse(e,s)           # rmse function and stdfunction is defined in earlier cell\r\n",
        "  den = stdfunction(e)\r\n",
        "  rsr = num/den\r\n",
        "  return rsr\r\n",
        "\r\n",
        "print('RSR : ', rsr_func(e,s))"
      ],
      "execution_count": 52,
      "outputs": [
        {
          "output_type": "stream",
          "text": [
            "RSR :  0.37744179890122\n"
          ],
          "name": "stdout"
        }
      ]
    },
    {
      "cell_type": "markdown",
      "metadata": {
        "id": "WdZJkYibfeGI"
      },
      "source": [
        "**15) Volume Error**"
      ]
    },
    {
      "cell_type": "code",
      "metadata": {
        "colab": {
          "base_uri": "https://localhost:8080/"
        },
        "id": "OIdbWGTzfHsK",
        "outputId": "ae26f1f3-2fcb-4d31-e018-85fefe0ed135"
      },
      "source": [
        "def VE_func(e,s):\r\n",
        "  num = 0\r\n",
        "  den = 0\r\n",
        "  for i in range(len(e)):\r\n",
        "      num += s[i] - e[i]\r\n",
        "      den += e[i]\r\n",
        "  ve = num/den\r\n",
        "  return ve\r\n",
        "\r\n",
        "print('Volume Error : ',VE_func(e,s))"
      ],
      "execution_count": 53,
      "outputs": [
        {
          "output_type": "stream",
          "text": [
            "Volume Error :  0.03125\n"
          ],
          "name": "stdout"
        }
      ]
    },
    {
      "cell_type": "code",
      "metadata": {
        "id": "0j3s-wWAgC6K"
      },
      "source": [
        ""
      ],
      "execution_count": null,
      "outputs": []
    }
  ]
}