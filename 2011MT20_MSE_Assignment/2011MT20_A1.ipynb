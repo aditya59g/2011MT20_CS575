{
  "nbformat": 4,
  "nbformat_minor": 0,
  "metadata": {
    "colab": {
      "name": "2011MT20_A1.ipynb",
      "provenance": [],
      "collapsed_sections": []
    },
    "kernelspec": {
      "name": "python3",
      "display_name": "Python 3"
    }
  },
  "cells": [
    {
      "cell_type": "markdown",
      "metadata": {
        "id": "Ug8il8G6CACR"
      },
      "source": [
        "** ANS 1**                                       "
      ]
    },
    {
      "cell_type": "code",
      "metadata": {
        "id": "3BR_i2RPpVeQ"
      },
      "source": [
        "import pandas as pd\r\n",
        "import numpy as np\r\n",
        "import matplotlib.pyplot as plt\r\n",
        "from statsmodels.graphics.tsaplots import plot_acf,plot_pacf\r\n",
        "from statsmodels.tsa.stattools import adfuller,kpss"
      ],
      "execution_count": 145,
      "outputs": []
    },
    {
      "cell_type": "markdown",
      "metadata": {
        "id": "dRwaaUntarDj"
      },
      "source": [
        "Defining ADF,KPSS, mean and autocovariance functions. Some of them are going to use in every case so I will call these functions from respective parts."
      ]
    },
    {
      "cell_type": "markdown",
      "metadata": {
        "id": "dDsozyE2gz2J"
      },
      "source": [
        "ADF Test function"
      ]
    },
    {
      "cell_type": "code",
      "metadata": {
        "id": "JBti0myxbQ6U"
      },
      "source": [
        "def adf_test(atr):\r\n",
        "    #Perform Dickey-Fuller test:\r\n",
        "    timeseries = atr\r\n",
        "    print ('Results of Dickey-Fuller Test \\n')\r\n",
        "    dftest = adfuller(timeseries, autolag='AIC')\r\n",
        "    dfoutput = pd.Series(dftest[0:4], index=['Test Statistic','p-value','#Lags Used','Number of Observations Used'])\r\n",
        "    for key,value in dftest[4].items():\r\n",
        "       dfoutput['Critical Value (%s)'%key] = value\r\n",
        "    print(dfoutput)"
      ],
      "execution_count": 146,
      "outputs": []
    },
    {
      "cell_type": "markdown",
      "metadata": {
        "id": "znUce22pg2_5"
      },
      "source": [
        "KPSS Test function"
      ]
    },
    {
      "cell_type": "code",
      "metadata": {
        "id": "KwMxxma6bRi6"
      },
      "source": [
        "def kpss_test(atr):\r\n",
        "    print ('Results of KPSS Test \\n')\r\n",
        "    kpsstest = kpss(atr, regression='c')\r\n",
        "    kpss_output = pd.Series(kpsstest[0:3], index=['Test Statistic','p-value','Lags Used'])\r\n",
        "    for key,value in kpsstest[3].items():\r\n",
        "        kpss_output['Critical Value (%s)'%key] = value\r\n",
        "    print (kpss_output)"
      ],
      "execution_count": 147,
      "outputs": []
    },
    {
      "cell_type": "markdown",
      "metadata": {
        "id": "JDP9XAfvg5Qa"
      },
      "source": [
        "mean function"
      ]
    },
    {
      "cell_type": "code",
      "metadata": {
        "id": "vIMp0lbibQzw"
      },
      "source": [
        "def meanfunction(a):\r\n",
        "  sum=0\r\n",
        "  for i in a:\r\n",
        "    sum += i\r\n",
        "  meanvalue = sum/len(a)\r\n",
        "  return meanvalue"
      ],
      "execution_count": 148,
      "outputs": []
    },
    {
      "cell_type": "markdown",
      "metadata": {
        "id": "JCQGxIpYg9Bx"
      },
      "source": [
        "autocovariance function"
      ]
    },
    {
      "cell_type": "code",
      "metadata": {
        "id": "J4ws1cChbQwv"
      },
      "source": [
        "def autocovariance(a,N,k,m):  # N=length of data, k=lag, m=mean\r\n",
        "    autoCov = 0\r\n",
        "    for i in np.arange(0, N-k):\r\n",
        "        autoCov += ((a[i+k])-m)*(a[i]-m)\r\n",
        "    return (1/(N-1))*autoCov"
      ],
      "execution_count": 149,
      "outputs": []
    },
    {
      "cell_type": "markdown",
      "metadata": {
        "id": "l7GoeFPby8kg"
      },
      "source": [
        "Random error terms for each cases\r\n"
      ]
    },
    {
      "cell_type": "code",
      "metadata": {
        "id": "kHVSHUwozBoq"
      },
      "source": [
        "# error term generating \r\n",
        "mu, sigma = 0, 1 # mean and standard deviation\r\n",
        "error_term = np.random.normal(mu, sigma, 104)"
      ],
      "execution_count": 150,
      "outputs": []
    },
    {
      "cell_type": "markdown",
      "metadata": {
        "id": "y4AmvTQYO84q"
      },
      "source": [
        "## **CASE A:**"
      ]
    },
    {
      "cell_type": "code",
      "metadata": {
        "id": "h465jT_uACJ-"
      },
      "source": [
        "# time series data \r\n",
        "y = []\r\n",
        "for i in range(100):  \r\n",
        "  yt = error_term[i+3] - error_term[i]\r\n",
        "  y.append(yt)"
      ],
      "execution_count": 151,
      "outputs": []
    },
    {
      "cell_type": "code",
      "metadata": {
        "colab": {
          "base_uri": "https://localhost:8080/",
          "height": 282
        },
        "id": "Kf7wxbkhHNDT",
        "outputId": "27ed0039-416e-4eca-e545-d565b36223d9"
      },
      "source": [
        "plt.plot(y)"
      ],
      "execution_count": 152,
      "outputs": [
        {
          "output_type": "execute_result",
          "data": {
            "text/plain": [
              "[<matplotlib.lines.Line2D at 0x7f2d07c80bd0>]"
            ]
          },
          "metadata": {
            "tags": []
          },
          "execution_count": 152
        },
        {
          "output_type": "display_data",
          "data": {
            "image/png": "[encoded data removed]",
            "text/plain": [
              "<Figure size 432x288 with 1 Axes>"
            ]
          },
          "metadata": {
            "tags": [],
            "needs_background": "light"
          }
        }
      ]
    },
    {
      "cell_type": "markdown",
      "metadata": {
        "id": "PThuJSHfglW9"
      },
      "source": [
        "ACF PACF Plot"
      ]
    },
    {
      "cell_type": "code",
      "metadata": {
        "colab": {
          "base_uri": "https://localhost:8080/",
          "height": 545
        },
        "id": "6h2PJsq1Jdix",
        "outputId": "a4b498e7-98f9-4a6f-fae2-f2a3a5a15275"
      },
      "source": [
        "plot_acf(y, lags = 25)\r\n",
        "plt.show()\r\n",
        "plot_pacf(y, lags = 25)\r\n",
        "plt.show()"
      ],
      "execution_count": 153,
      "outputs": [
        {
          "output_type": "display_data",
          "data": {
            "image/png": "[encoded data removed]",
            "text/plain": [
              "<Figure size 432x288 with 1 Axes>"
            ]
          },
          "metadata": {
            "tags": [],
            "needs_background": "light"
          }
        },
        {
          "output_type": "display_data",
          "data": {
            "image/png": "[encoded data removed]",
            "text/plain": [
              "<Figure size 432x288 with 1 Axes>"
            ]
          },
          "metadata": {
            "tags": [],
            "needs_background": "light"
          }
        }
      ]
    },
    {
      "cell_type": "markdown",
      "metadata": {
        "id": "51BklZqmfTq4"
      },
      "source": [
        "Only at lag 3 autocorelation value is outside the significant value so we can say that the series is stationary from ACF plot. To confirm Below is the result of ADF,KPSS test."
      ]
    },
    {
      "cell_type": "code",
      "metadata": {
        "colab": {
          "base_uri": "https://localhost:8080/"
        },
        "id": "gmxBwIQwY5U2",
        "outputId": "963d1598-9566-4693-ce26-314e62f458a2"
      },
      "source": [
        "adf_test(y)"
      ],
      "execution_count": 154,
      "outputs": [
        {
          "output_type": "stream",
          "text": [
            "Results of Dickey-Fuller Test \n",
            "\n",
            "Test Statistic                 -5.624009\n",
            "p-value                         0.000001\n",
            "#Lags Used                      8.000000\n",
            "Number of Observations Used    91.000000\n",
            "Critical Value (1%)            -3.504343\n",
            "Critical Value (5%)            -2.893866\n",
            "Critical Value (10%)           -2.584015\n",
            "dtype: float64\n"
          ],
          "name": "stdout"
        }
      ]
    },
    {
      "cell_type": "markdown",
      "metadata": {
        "id": "KdIs7RppgGSB"
      },
      "source": [
        "From ADF test we got p value 0.000166 which is lesser than 0.05 so we can say that series is stationary.  "
      ]
    },
    {
      "cell_type": "code",
      "metadata": {
        "colab": {
          "base_uri": "https://localhost:8080/"
        },
        "id": "AdMmbwOINB8a",
        "outputId": "33fe495c-b93f-453c-a8ab-f6a4d7525fbc"
      },
      "source": [
        "kpss_test(y)"
      ],
      "execution_count": 155,
      "outputs": [
        {
          "output_type": "stream",
          "text": [
            "Results of KPSS Test \n",
            "\n",
            "Test Statistic            0.086049\n",
            "p-value                   0.100000\n",
            "Lags Used                12.000000\n",
            "Critical Value (10%)      0.347000\n",
            "Critical Value (5%)       0.463000\n",
            "Critical Value (2.5%)     0.574000\n",
            "Critical Value (1%)       0.739000\n",
            "dtype: float64\n"
          ],
          "name": "stdout"
        },
        {
          "output_type": "stream",
          "text": [
            "/usr/local/lib/python3.7/dist-packages/statsmodels/tsa/stattools.py:1685: FutureWarning: The behavior of using lags=None will change in the next release. Currently lags=None is the same as lags='legacy', and so a sample-size lag length is used. After the next release, the default will change to be the same as lags='auto' which uses an automatic lag length selection method. To silence this warning, either use 'auto' or 'legacy'\n",
            "  warn(msg, FutureWarning)\n",
            "/usr/local/lib/python3.7/dist-packages/statsmodels/tsa/stattools.py:1711: InterpolationWarning: p-value is greater than the indicated p-value\n",
            "  warn(\"p-value is greater than the indicated p-value\", InterpolationWarning)\n"
          ],
          "name": "stderr"
        }
      ]
    },
    {
      "cell_type": "markdown",
      "metadata": {
        "id": "wBq6AJwhgcgZ"
      },
      "source": [
        "ADF Test : The test statistic is less than the critical value, so we can reject the null hypothesis. So we can say that it is stationary series.\r\n",
        "\r\n",
        "Kpss Test : The test statistic is less than the critical value so we fail to reject the null hypothesis. So we can say that it is stationary series.\r\n",
        "\r\n",
        "Both tests are giving stationary so series is stationary."
      ]
    },
    {
      "cell_type": "code",
      "metadata": {
        "colab": {
          "base_uri": "https://localhost:8080/"
        },
        "id": "DVe7J0SGOjpx",
        "outputId": "cae6b4ab-5e90-4a1f-c8fa-f91ac5e7d3be"
      },
      "source": [
        "# mean and autocovariance values\r\n",
        "\r\n",
        "m = meanfunction(y)\r\n",
        "print('mean of the generated series is', meanfunction(y))\r\n",
        "print(\"Autocovariance:\", autocovariance(y, len(y), 1, m))"
      ],
      "execution_count": 156,
      "outputs": [
        {
          "output_type": "stream",
          "text": [
            "mean of the generated series is -0.008032819544621346\n",
            "Autocovariance: -0.1931175124593063\n"
          ],
          "name": "stdout"
        }
      ]
    },
    {
      "cell_type": "markdown",
      "metadata": {
        "id": "F-JrFcnc1JIG"
      },
      "source": [
        "## **CASE B:**"
      ]
    },
    {
      "cell_type": "code",
      "metadata": {
        "id": "Bgzv9VIL1N3x"
      },
      "source": [
        "# time series data \r\n",
        "yb = [3,5]\r\n",
        "for i in range(2,102):  \r\n",
        "  yt = yb[i-1] + (0.9*yb[i-2]) + error_term[i]\r\n",
        "  yb.append(yt)\r\n",
        "del yb[0:2]"
      ],
      "execution_count": 157,
      "outputs": []
    },
    {
      "cell_type": "code",
      "metadata": {
        "colab": {
          "base_uri": "https://localhost:8080/",
          "height": 293
        },
        "id": "0EgMb1ni1N0t",
        "outputId": "4f879faf-690d-4e54-9bd0-11d3c7ab7803"
      },
      "source": [
        "plt.plot(yb)"
      ],
      "execution_count": 158,
      "outputs": [
        {
          "output_type": "execute_result",
          "data": {
            "text/plain": [
              "[<matplotlib.lines.Line2D at 0x7f2d07b80510>]"
            ]
          },
          "metadata": {
            "tags": []
          },
          "execution_count": 158
        },
        {
          "output_type": "display_data",
          "data": {
            "image/png": "[encoded data removed]",
            "text/plain": [
              "<Figure size 432x288 with 1 Axes>"
            ]
          },
          "metadata": {
            "tags": [],
            "needs_background": "light"
          }
        }
      ]
    },
    {
      "cell_type": "code",
      "metadata": {
        "colab": {
          "base_uri": "https://localhost:8080/",
          "height": 545
        },
        "id": "wqeAeYe81NyV",
        "outputId": "1cb3b4f8-1ae1-450a-ceb5-0441df9657ef"
      },
      "source": [
        "plot_acf(yb, lags = 25)\r\n",
        "plt.show()\r\n",
        "plot_pacf(yb, lags = 25)\r\n",
        "plt.show()"
      ],
      "execution_count": 159,
      "outputs": [
        {
          "output_type": "display_data",
          "data": {
            "image/png": "[encoded data removed]",
            "text/plain": [
              "<Figure size 432x288 with 1 Axes>"
            ]
          },
          "metadata": {
            "tags": [],
            "needs_background": "light"
          }
        },
        {
          "output_type": "display_data",
          "data": {
            "image/png": "[encoded data removed]",
            "text/plain": [
              "<Figure size 432x288 with 1 Axes>"
            ]
          },
          "metadata": {
            "tags": [],
            "needs_background": "light"
          }
        }
      ]
    },
    {
      "cell_type": "code",
      "metadata": {
        "colab": {
          "base_uri": "https://localhost:8080/"
        },
        "id": "q9Ds0KvX1Nu9",
        "outputId": "67b5b85c-d4be-4daa-8c23-a60175d3d61f"
      },
      "source": [
        "adf_test(yb)"
      ],
      "execution_count": 160,
      "outputs": [
        {
          "output_type": "stream",
          "text": [
            "Results of Dickey-Fuller Test \n",
            "\n",
            "Test Statistic                 2.486702e+17\n",
            "p-value                        1.000000e+00\n",
            "#Lags Used                     5.000000e+00\n",
            "Number of Observations Used    9.400000e+01\n",
            "Critical Value (1%)           -3.501912e+00\n",
            "Critical Value (5%)           -2.892815e+00\n",
            "Critical Value (10%)          -2.583454e+00\n",
            "dtype: float64\n"
          ],
          "name": "stdout"
        }
      ]
    },
    {
      "cell_type": "markdown",
      "metadata": {
        "id": "D4FVx_3p5j9a"
      },
      "source": [
        "Upto lag 2, ACF value is significant and also from data plot we can tell that given series is non-stationary. \r\n",
        "Also from ADF test, P value is 1 so it is non-stationary."
      ]
    },
    {
      "cell_type": "markdown",
      "metadata": {
        "id": "R0kBAfXl6Y9r"
      },
      "source": [
        "## **CASE C:**"
      ]
    },
    {
      "cell_type": "code",
      "metadata": {
        "id": "nbPfuVta1Nqy"
      },
      "source": [
        "# time series data \r\n",
        "yc = list(np.random.randint(0,20,4))\r\n",
        "for i in range(4,104):  \r\n",
        "  yt = (0.7 * yc[i-1]) + (0.2*yc[i-2]) - (0.1*yc[i-3]) - (0.3*yc[i-4]) + error_term[i]\r\n",
        "  yc.append(yt)\r\n",
        "del yc[0:4]"
      ],
      "execution_count": 161,
      "outputs": []
    },
    {
      "cell_type": "code",
      "metadata": {
        "colab": {
          "base_uri": "https://localhost:8080/",
          "height": 282
        },
        "id": "deQ10Fx590uo",
        "outputId": "d07fdbc6-c285-4ba8-e8c5-0f2f0d97f23f"
      },
      "source": [
        "plt.plot(yc)"
      ],
      "execution_count": 162,
      "outputs": [
        {
          "output_type": "execute_result",
          "data": {
            "text/plain": [
              "[<matplotlib.lines.Line2D at 0x7f2d07e639d0>]"
            ]
          },
          "metadata": {
            "tags": []
          },
          "execution_count": 162
        },
        {
          "output_type": "display_data",
          "data": {
            "image/png": "[encoded data removed]",
            "text/plain": [
              "<Figure size 432x288 with 1 Axes>"
            ]
          },
          "metadata": {
            "tags": [],
            "needs_background": "light"
          }
        }
      ]
    },
    {
      "cell_type": "code",
      "metadata": {
        "colab": {
          "base_uri": "https://localhost:8080/",
          "height": 545
        },
        "id": "uGEwrGsi90sM",
        "outputId": "01abf412-ec69-4cda-914a-5f6fbb1f5573"
      },
      "source": [
        "plot_acf(yc, lags = 25)\r\n",
        "plt.show()\r\n",
        "plot_pacf(yc, lags = 25)\r\n",
        "plt.show()"
      ],
      "execution_count": 163,
      "outputs": [
        {
          "output_type": "display_data",
          "data": {
            "image/png": "[encoded data removed]",
            "text/plain": [
              "<Figure size 432x288 with 1 Axes>"
            ]
          },
          "metadata": {
            "tags": [],
            "needs_background": "light"
          }
        },
        {
          "output_type": "display_data",
          "data": {
            "image/png": "[encoded data removed]",
            "text/plain": [
              "<Figure size 432x288 with 1 Axes>"
            ]
          },
          "metadata": {
            "tags": [],
            "needs_background": "light"
          }
        }
      ]
    },
    {
      "cell_type": "markdown",
      "metadata": {
        "id": "ZCltQaZV_W0g"
      },
      "source": [
        "almost every value is under the significant range so we can say that the series is stationary from ACF plot. To confirm Below is the result of ADF,KPSS test."
      ]
    },
    {
      "cell_type": "code",
      "metadata": {
        "colab": {
          "base_uri": "https://localhost:8080/"
        },
        "id": "T8E-JT7o90pg",
        "outputId": "471170f8-7727-4e99-b9d0-921afabeb26a"
      },
      "source": [
        "adf_test(yc)"
      ],
      "execution_count": 164,
      "outputs": [
        {
          "output_type": "stream",
          "text": [
            "Results of Dickey-Fuller Test \n",
            "\n",
            "Test Statistic                -9.344861e+00\n",
            "p-value                        8.600674e-16\n",
            "#Lags Used                     3.000000e+00\n",
            "Number of Observations Used    9.600000e+01\n",
            "Critical Value (1%)           -3.500379e+00\n",
            "Critical Value (5%)           -2.892152e+00\n",
            "Critical Value (10%)          -2.583100e+00\n",
            "dtype: float64\n"
          ],
          "name": "stdout"
        }
      ]
    },
    {
      "cell_type": "markdown",
      "metadata": {
        "id": "KJnRYAi3A_Ra"
      },
      "source": [
        "From ADF test we got p value 0.001 which is lesser than 0.05 so we can say that series is stationary.  "
      ]
    },
    {
      "cell_type": "code",
      "metadata": {
        "colab": {
          "base_uri": "https://localhost:8080/"
        },
        "id": "EQcJzy8190m3",
        "outputId": "bec80ede-4cc8-4ac5-b409-91ceac6757ca"
      },
      "source": [
        "kpss_test(yc)"
      ],
      "execution_count": 165,
      "outputs": [
        {
          "output_type": "stream",
          "text": [
            "Results of KPSS Test \n",
            "\n",
            "Test Statistic            0.232869\n",
            "p-value                   0.100000\n",
            "Lags Used                12.000000\n",
            "Critical Value (10%)      0.347000\n",
            "Critical Value (5%)       0.463000\n",
            "Critical Value (2.5%)     0.574000\n",
            "Critical Value (1%)       0.739000\n",
            "dtype: float64\n"
          ],
          "name": "stdout"
        },
        {
          "output_type": "stream",
          "text": [
            "/usr/local/lib/python3.7/dist-packages/statsmodels/tsa/stattools.py:1685: FutureWarning: The behavior of using lags=None will change in the next release. Currently lags=None is the same as lags='legacy', and so a sample-size lag length is used. After the next release, the default will change to be the same as lags='auto' which uses an automatic lag length selection method. To silence this warning, either use 'auto' or 'legacy'\n",
            "  warn(msg, FutureWarning)\n",
            "/usr/local/lib/python3.7/dist-packages/statsmodels/tsa/stattools.py:1711: InterpolationWarning: p-value is greater than the indicated p-value\n",
            "  warn(\"p-value is greater than the indicated p-value\", InterpolationWarning)\n"
          ],
          "name": "stderr"
        }
      ]
    },
    {
      "cell_type": "markdown",
      "metadata": {
        "id": "MGhxzES3BIg2"
      },
      "source": [
        "ADF Test : The test statistic is less than the critical value, so we can reject the null hypothesis. So we can say that it is stationary series.\r\n",
        "\r\n",
        "Kpss Test : The test statistic is less than the critical value so we fail to reject the null hypothesis. So we can say that it is stationary series.\r\n",
        "\r\n",
        "Both tests are giving stationary so series is stationary."
      ]
    },
    {
      "cell_type": "code",
      "metadata": {
        "colab": {
          "base_uri": "https://localhost:8080/"
        },
        "id": "uV14tcEVBMBe",
        "outputId": "dbb0f48e-1329-4711-8d9e-94b576445d33"
      },
      "source": [
        "# mean and autocovariance values\r\n",
        "\r\n",
        "mc = meanfunction(yc)\r\n",
        "print('mean of the generated series is', meanfunction(yc))\r\n",
        "print(\"Autocovariance:\", autocovariance(yc, len(yc), 3, mc))"
      ],
      "execution_count": 166,
      "outputs": [
        {
          "output_type": "stream",
          "text": [
            "mean of the generated series is 0.17404339181621747\n",
            "Autocovariance: 0.4752718881331392\n"
          ],
          "name": "stdout"
        }
      ]
    },
    {
      "cell_type": "markdown",
      "metadata": {
        "id": "spHlD7JLwyUc"
      },
      "source": [
        "## **CASE D:**"
      ]
    },
    {
      "cell_type": "code",
      "metadata": {
        "id": "zKAxoNApxGm4"
      },
      "source": [
        "# time series data \r\n",
        "yd = []\r\n",
        "t = 1\r\n",
        "for i in range(100):  \r\n",
        "  yt = t + error_term[i]\r\n",
        "  t += 1\r\n",
        "  yd.append(yt)"
      ],
      "execution_count": 167,
      "outputs": []
    },
    {
      "cell_type": "code",
      "metadata": {
        "colab": {
          "base_uri": "https://localhost:8080/",
          "height": 282
        },
        "id": "__vP5FGFx4Ix",
        "outputId": "8c2264fe-ba86-405b-a5bc-9a6f1412c626"
      },
      "source": [
        "plt.plot(yd)"
      ],
      "execution_count": 168,
      "outputs": [
        {
          "output_type": "execute_result",
          "data": {
            "text/plain": [
              "[<matplotlib.lines.Line2D at 0x7f2d08597890>]"
            ]
          },
          "metadata": {
            "tags": []
          },
          "execution_count": 168
        },
        {
          "output_type": "display_data",
          "data": {
            "image/png": "[encoded data removed]",
            "text/plain": [
              "<Figure size 432x288 with 1 Axes>"
            ]
          },
          "metadata": {
            "tags": [],
            "needs_background": "light"
          }
        }
      ]
    },
    {
      "cell_type": "code",
      "metadata": {
        "colab": {
          "base_uri": "https://localhost:8080/",
          "height": 545
        },
        "id": "8sHq8wTbx4GZ",
        "outputId": "fbccd9a1-8c2f-4337-f8f5-43c3e3b4a02e"
      },
      "source": [
        "plot_acf(yd, lags = 25)\r\n",
        "plt.show()\r\n",
        "plot_pacf(yd, lags = 25)\r\n",
        "plt.show()"
      ],
      "execution_count": 169,
      "outputs": [
        {
          "output_type": "display_data",
          "data": {
            "image/png": "[encoded data removed]",
            "text/plain": [
              "<Figure size 432x288 with 1 Axes>"
            ]
          },
          "metadata": {
            "tags": [],
            "needs_background": "light"
          }
        },
        {
          "output_type": "display_data",
          "data": {
            "image/png": "[encoded data removed]",
            "text/plain": [
              "<Figure size 432x288 with 1 Axes>"
            ]
          },
          "metadata": {
            "tags": [],
            "needs_background": "light"
          }
        }
      ]
    },
    {
      "cell_type": "markdown",
      "metadata": {
        "id": "CO39FjEOz8Mb"
      },
      "source": [
        "Upto lag 9, ACF value is significant and also It is decreasing slowly which shows that the series is non-stationary. "
      ]
    },
    {
      "cell_type": "code",
      "metadata": {
        "colab": {
          "base_uri": "https://localhost:8080/"
        },
        "id": "WQw7mxSkz0Q-",
        "outputId": "5909a1d3-a0c7-4f88-9eb5-ce564735e2b6"
      },
      "source": [
        "adf_test(yd)"
      ],
      "execution_count": 170,
      "outputs": [
        {
          "output_type": "stream",
          "text": [
            "Results of Dickey-Fuller Test \n",
            "\n",
            "Test Statistic                  0.059968\n",
            "p-value                         0.963219\n",
            "#Lags Used                      9.000000\n",
            "Number of Observations Used    90.000000\n",
            "Critical Value (1%)            -3.505190\n",
            "Critical Value (5%)            -2.894232\n",
            "Critical Value (10%)           -2.584210\n",
            "dtype: float64\n"
          ],
          "name": "stdout"
        }
      ]
    },
    {
      "cell_type": "markdown",
      "metadata": {
        "id": "Can72rkk03f6"
      },
      "source": [
        "From ADF test we got p value 0.959 which is greater than 0.05 so we can say that series is non-stationary."
      ]
    },
    {
      "cell_type": "markdown",
      "metadata": {
        "id": "L1ISotN0nK_B"
      },
      "source": [
        "## **CASE E:**"
      ]
    },
    {
      "cell_type": "code",
      "metadata": {
        "id": "gKxFpto9nP83"
      },
      "source": [
        "# time series data \r\n",
        "ye = []\r\n",
        "for i in range(100):  \r\n",
        "  yt = error_term[i]\r\n",
        "  ye.append(yt)"
      ],
      "execution_count": 171,
      "outputs": []
    },
    {
      "cell_type": "code",
      "metadata": {
        "colab": {
          "base_uri": "https://localhost:8080/",
          "height": 282
        },
        "id": "6XV-qYddnP6P",
        "outputId": "92ca473e-9e53-4027-b1eb-4b83367b5007"
      },
      "source": [
        "plt.plot(ye)"
      ],
      "execution_count": 172,
      "outputs": [
        {
          "output_type": "execute_result",
          "data": {
            "text/plain": [
              "[<matplotlib.lines.Line2D at 0x7f2d08044990>]"
            ]
          },
          "metadata": {
            "tags": []
          },
          "execution_count": 172
        },
        {
          "output_type": "display_data",
          "data": {
            "image/png": "[encoded data removed]",
            "text/plain": [
              "<Figure size 432x288 with 1 Axes>"
            ]
          },
          "metadata": {
            "tags": [],
            "needs_background": "light"
          }
        }
      ]
    },
    {
      "cell_type": "code",
      "metadata": {
        "colab": {
          "base_uri": "https://localhost:8080/",
          "height": 545
        },
        "id": "l7Bo1LtenP2i",
        "outputId": "9efbe69d-5ce7-467f-9ee9-9e42009f5372"
      },
      "source": [
        "plot_acf(ye, lags = 25)\r\n",
        "plt.show()\r\n",
        "plot_pacf(ye, lags = 25)\r\n",
        "plt.show()"
      ],
      "execution_count": 173,
      "outputs": [
        {
          "output_type": "display_data",
          "data": {
            "image/png": "[encoded data removed]",
            "text/plain": [
              "<Figure size 432x288 with 1 Axes>"
            ]
          },
          "metadata": {
            "tags": [],
            "needs_background": "light"
          }
        },
        {
          "output_type": "display_data",
          "data": {
            "image/png": "[encoded data removed]",
            "text/plain": [
              "<Figure size 432x288 with 1 Axes>"
            ]
          },
          "metadata": {
            "tags": [],
            "needs_background": "light"
          }
        }
      ]
    },
    {
      "cell_type": "markdown",
      "metadata": {
        "id": "aCjLU5PgufYf"
      },
      "source": [
        "almost every value is under the significant value range so we can say that the series is stationary from ACF plot. To confirm Below is the result of ADF,KPSS test."
      ]
    },
    {
      "cell_type": "code",
      "metadata": {
        "colab": {
          "base_uri": "https://localhost:8080/"
        },
        "id": "Egi9d_YUnP0d",
        "outputId": "805a09eb-d002-4fb0-f430-a2346bcadbb0"
      },
      "source": [
        "adf_test(ye)"
      ],
      "execution_count": 174,
      "outputs": [
        {
          "output_type": "stream",
          "text": [
            "Results of Dickey-Fuller Test \n",
            "\n",
            "Test Statistic                -1.101630e+01\n",
            "p-value                        6.144679e-20\n",
            "#Lags Used                     0.000000e+00\n",
            "Number of Observations Used    9.900000e+01\n",
            "Critical Value (1%)           -3.498198e+00\n",
            "Critical Value (5%)           -2.891208e+00\n",
            "Critical Value (10%)          -2.582596e+00\n",
            "dtype: float64\n"
          ],
          "name": "stdout"
        }
      ]
    },
    {
      "cell_type": "markdown",
      "metadata": {
        "id": "IbEwRXGHwNMy"
      },
      "source": [
        "From ADF test we got p value 0.00 which is lesser than 0.05 so we can say that series is stationary.\r\n"
      ]
    },
    {
      "cell_type": "code",
      "metadata": {
        "colab": {
          "base_uri": "https://localhost:8080/"
        },
        "id": "yUms3Qv2qKWk",
        "outputId": "92e1cf62-3e22-4f4a-b516-23dae19bf995"
      },
      "source": [
        "kpss_test(ye)"
      ],
      "execution_count": 175,
      "outputs": [
        {
          "output_type": "stream",
          "text": [
            "Results of KPSS Test \n",
            "\n",
            "Test Statistic            0.202813\n",
            "p-value                   0.100000\n",
            "Lags Used                12.000000\n",
            "Critical Value (10%)      0.347000\n",
            "Critical Value (5%)       0.463000\n",
            "Critical Value (2.5%)     0.574000\n",
            "Critical Value (1%)       0.739000\n",
            "dtype: float64\n"
          ],
          "name": "stdout"
        },
        {
          "output_type": "stream",
          "text": [
            "/usr/local/lib/python3.7/dist-packages/statsmodels/tsa/stattools.py:1685: FutureWarning: The behavior of using lags=None will change in the next release. Currently lags=None is the same as lags='legacy', and so a sample-size lag length is used. After the next release, the default will change to be the same as lags='auto' which uses an automatic lag length selection method. To silence this warning, either use 'auto' or 'legacy'\n",
            "  warn(msg, FutureWarning)\n",
            "/usr/local/lib/python3.7/dist-packages/statsmodels/tsa/stattools.py:1711: InterpolationWarning: p-value is greater than the indicated p-value\n",
            "  warn(\"p-value is greater than the indicated p-value\", InterpolationWarning)\n"
          ],
          "name": "stderr"
        }
      ]
    },
    {
      "cell_type": "markdown",
      "metadata": {
        "id": "-Ez8iaptwfbg"
      },
      "source": [
        "The test statistic in kpss test is less than the critical value so we fail to reject the null hypothesis. So we can say that it is stationary series."
      ]
    },
    {
      "cell_type": "code",
      "metadata": {
        "colab": {
          "base_uri": "https://localhost:8080/"
        },
        "id": "TeVQm3o4qKUG",
        "outputId": "66cdc7e9-8a00-4de9-afc6-6c26a998e5fc"
      },
      "source": [
        "# mean and autocovariance values\r\n",
        "\r\n",
        "me = meanfunction(ye)\r\n",
        "print('mean of the generated series is', meanfunction(ye))\r\n",
        "print(\"Autocovariance:\", autocovariance(ye, len(ye), 1, me))"
      ],
      "execution_count": 176,
      "outputs": [
        {
          "output_type": "stream",
          "text": [
            "mean of the generated series is 0.12191926909591996\n",
            "Autocovariance: -0.10008606258840692\n"
          ],
          "name": "stdout"
        }
      ]
    },
    {
      "cell_type": "markdown",
      "metadata": {
        "id": "dKzjC_Cad2Vw"
      },
      "source": [
        "## **CASE F:**"
      ]
    },
    {
      "cell_type": "code",
      "metadata": {
        "id": "wjrexSFLh0_c"
      },
      "source": [
        "# time series data \r\n",
        "yf = []\r\n",
        "for i in range(100):  \r\n",
        "  yt = (error_term[i+2] * error_term[i])\r\n",
        "  yf.append(yt)"
      ],
      "execution_count": 177,
      "outputs": []
    },
    {
      "cell_type": "code",
      "metadata": {
        "colab": {
          "base_uri": "https://localhost:8080/",
          "height": 282
        },
        "id": "0BK9jbDoiOcV",
        "outputId": "05a89ea1-57f3-4b43-cec7-3822e688606d"
      },
      "source": [
        "plt.plot(yf)"
      ],
      "execution_count": 178,
      "outputs": [
        {
          "output_type": "execute_result",
          "data": {
            "text/plain": [
              "[<matplotlib.lines.Line2D at 0x7f2d080a2e50>]"
            ]
          },
          "metadata": {
            "tags": []
          },
          "execution_count": 178
        },
        {
          "output_type": "display_data",
          "data": {
            "image/png": "[encoded data removed]",
            "text/plain": [
              "<Figure size 432x288 with 1 Axes>"
            ]
          },
          "metadata": {
            "tags": [],
            "needs_background": "light"
          }
        }
      ]
    },
    {
      "cell_type": "code",
      "metadata": {
        "colab": {
          "base_uri": "https://localhost:8080/",
          "height": 545
        },
        "id": "FQ533eWBiWsn",
        "outputId": "6cb1220b-38d0-4158-d80f-f7e701da0f82"
      },
      "source": [
        "plot_acf(yf, lags = 25)\r\n",
        "plt.show()\r\n",
        "plot_pacf(yf, lags = 25)\r\n",
        "plt.show()"
      ],
      "execution_count": 179,
      "outputs": [
        {
          "output_type": "display_data",
          "data": {
            "image/png": "[encoded data removed]",
            "text/plain": [
              "<Figure size 432x288 with 1 Axes>"
            ]
          },
          "metadata": {
            "tags": [],
            "needs_background": "light"
          }
        },
        {
          "output_type": "display_data",
          "data": {
            "image/png": "[encoded data removed]",
            "text/plain": [
              "<Figure size 432x288 with 1 Axes>"
            ]
          },
          "metadata": {
            "tags": [],
            "needs_background": "light"
          }
        }
      ]
    },
    {
      "cell_type": "markdown",
      "metadata": {
        "id": "rHDAGctujbSk"
      },
      "source": [
        "almost every value is under the significant value range so we can say that the series is stationary from ACF plot. To confirm Below is the result of ADF,KPSS test."
      ]
    },
    {
      "cell_type": "code",
      "metadata": {
        "colab": {
          "base_uri": "https://localhost:8080/"
        },
        "id": "EMBPwfUai6Yn",
        "outputId": "3a53cfc4-23d5-4531-d674-7c24c1662efb"
      },
      "source": [
        "adf_test(yf)"
      ],
      "execution_count": 180,
      "outputs": [
        {
          "output_type": "stream",
          "text": [
            "Results of Dickey-Fuller Test \n",
            "\n",
            "Test Statistic                -8.107493e+00\n",
            "p-value                        1.251425e-12\n",
            "#Lags Used                     1.000000e+00\n",
            "Number of Observations Used    9.800000e+01\n",
            "Critical Value (1%)           -3.498910e+00\n",
            "Critical Value (5%)           -2.891516e+00\n",
            "Critical Value (10%)          -2.582760e+00\n",
            "dtype: float64\n"
          ],
          "name": "stdout"
        }
      ]
    },
    {
      "cell_type": "markdown",
      "metadata": {
        "id": "8RxKobcBkMqE"
      },
      "source": [
        "From ADF test we got p value 0.00 which is lesser than 0.05 so we can say that series is stationary."
      ]
    },
    {
      "cell_type": "code",
      "metadata": {
        "colab": {
          "base_uri": "https://localhost:8080/"
        },
        "id": "ReMsVON9jZtq",
        "outputId": "ee94b7e5-e532-40cc-e289-d6d7c9748a7b"
      },
      "source": [
        "kpss_test(yf)"
      ],
      "execution_count": 181,
      "outputs": [
        {
          "output_type": "stream",
          "text": [
            "Results of KPSS Test \n",
            "\n",
            "Test Statistic            0.184567\n",
            "p-value                   0.100000\n",
            "Lags Used                12.000000\n",
            "Critical Value (10%)      0.347000\n",
            "Critical Value (5%)       0.463000\n",
            "Critical Value (2.5%)     0.574000\n",
            "Critical Value (1%)       0.739000\n",
            "dtype: float64\n"
          ],
          "name": "stdout"
        },
        {
          "output_type": "stream",
          "text": [
            "/usr/local/lib/python3.7/dist-packages/statsmodels/tsa/stattools.py:1685: FutureWarning: The behavior of using lags=None will change in the next release. Currently lags=None is the same as lags='legacy', and so a sample-size lag length is used. After the next release, the default will change to be the same as lags='auto' which uses an automatic lag length selection method. To silence this warning, either use 'auto' or 'legacy'\n",
            "  warn(msg, FutureWarning)\n",
            "/usr/local/lib/python3.7/dist-packages/statsmodels/tsa/stattools.py:1711: InterpolationWarning: p-value is greater than the indicated p-value\n",
            "  warn(\"p-value is greater than the indicated p-value\", InterpolationWarning)\n"
          ],
          "name": "stderr"
        }
      ]
    },
    {
      "cell_type": "markdown",
      "metadata": {
        "id": "Xhr4GFvGkNRO"
      },
      "source": [
        "The test statistic in kpss test is less than the critical value so we fail to reject the null hypothesis. So we can say that it is stationary series."
      ]
    },
    {
      "cell_type": "code",
      "metadata": {
        "colab": {
          "base_uri": "https://localhost:8080/"
        },
        "id": "QCKPqIoujxT5",
        "outputId": "21a8ed43-af5c-4c23-8c08-3a457e3eb4aa"
      },
      "source": [
        "# mean and autocovariance values\r\n",
        "\r\n",
        "mf = meanfunction(yf)\r\n",
        "print('mean of the generated series is', meanfunction(yf))\r\n",
        "print(\"Autocovariance:\", autocovariance(yf, len(yf), 1, mf))"
      ],
      "execution_count": 182,
      "outputs": [
        {
          "output_type": "stream",
          "text": [
            "mean of the generated series is 0.08904256363399882\n",
            "Autocovariance: -0.06438042130781019\n"
          ],
          "name": "stdout"
        }
      ]
    }
  ]
}