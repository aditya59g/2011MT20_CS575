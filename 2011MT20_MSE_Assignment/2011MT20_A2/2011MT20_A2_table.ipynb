{
 "cells": [
  {
   "cell_type": "markdown",
   "metadata": {},
   "source": [
    "## Dataset 1"
   ]
  },
  {
   "attachments": {},
   "cell_type": "markdown",
   "metadata": {},
   "source": [
    "|   Questions related to dataset stationarity    |  Answers |\n",
    "|:-----------------:|:-----------------:|\n",
    "| Dataset |Dataset1_global_mean_temp|\n",
    "|Is Dataset Stationery? |    No                |\n",
    "|If yes, why,? and if not, why not? |ADF test: The test statistic is greater than the critical value, so we fail to reject the null hypothesis. So it is non-stationary series. lso P value is greater than 0.05 so, from that also we can say it in non-stationary.  <br> KPSS Test: The test statistic is greater than the critical value so we can reject the null hypothesis. So it is non-stationary series.| \n",
    "|If differencing was done, how many times it was done? |        1 time done.|"
   ]
  },
  {
   "cell_type": "markdown",
   "metadata": {},
   "source": [
    "\n",
    " | Method | model detail  |  MSE <br> 1   | <br> 2   | <br> 4  | <br>  8 | <br> 12 | <br> 24  | MAE <br> 1   | <br> 2   | <br> 4   | <br>  8 | <br> 12   | <br>  24   |\n",
    "|:-----------------:|:-----------:|:-----|:-----|:-----|:-----|:-----|:-----|:-----|:-----|:-----|:-----|:-----|:-----|\n",
    "| Single Exponential Smoothing | alpha(0.9) | 0.019031   |  0.025219  |  0.026015  |  0.0361  | 0.052196 |0.113739 | 0.110927 |0.128802 |  0.130324 | 0.153946  |   0.187459  |   0.271281  |     \n",
    "| Double Exponential Smoothing| alpha(0.9), beta(0.01) |  0.019111    |  0.019255   |   0.019552      |  0.020172   |  0.020834    |  0.023106   |   0.110918     |   0.111758   |  0.113478    |  0.11708   |   0.120919     | 0.13411   |\n",
    "|Triple Exponential Smoothing| alpha(0.9), beta(0.02), gamma(0.95) |  0.802031    |  0.808338   |  0.650656      | 0.645892    |  0.687599    |0.484885     |   0.814571     |  0.818127    | 0.717812     | 0.71658    |   0.700221     |  0.577785  |\n",
    "|Only AR| AR(2) |  0.019258    |  0.024927   |  254.507765      |  0.03431   |  0.06364    |  0.112656   |  0.109618      |        0.121866   |  2.8611   |   0.134471     |  0.193079  |0.265223|\n",
    "|Only MA| MA(2) | 0.039539     | 0.045166    |  0.045009      | 0.035656    |   0.063314   |   0.094376  |   0.157431     |        0.170707   |  0.168767   |   0.151652     |  0.188364  |0.277943|\n",
    "|ARIMA| ARIMA(0,1,1) |  0.158667    |   0.157589   |   0.142108     |   0.108257  | 0.158486     |  0.146731]   |  0.31091      |   0.315315    |  0.322333    |  0.272688   |   0.346297     | 0.321971   |"
   ]
  },
  {
   "cell_type": "markdown",
   "metadata": {},
   "source": [
    "Please I have ploted all the values in respective files and gave the reason about stationarity there. Due to lack of time i could not make all dataset tables. "
   ]
  }
 ],
 "metadata": {
  "kernelspec": {
   "display_name": "Python 3",
   "language": "python",
   "name": "python3"
  },
  "language_info": {
   "codemirror_mode": {
    "name": "ipython",
    "version": 3
   },
   "file_extension": ".py",
   "mimetype": "text/x-python",
   "name": "python",
   "nbconvert_exporter": "python",
   "pygments_lexer": "ipython3",
   "version": "3.8.5"
  }
 },
 "nbformat": 4,
 "nbformat_minor": 4
}
