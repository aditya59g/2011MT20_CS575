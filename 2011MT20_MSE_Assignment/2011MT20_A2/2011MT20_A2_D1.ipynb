{
  "nbformat": 4,
  "nbformat_minor": 0,
  "metadata": {
    "colab": {
      "name": "2011MT20_A3_D1.ipynb",
      "provenance": [],
      "collapsed_sections": []
    },
    "kernelspec": {
      "name": "python3",
      "display_name": "Python 3"
    }
  },
  "cells": [
    {
      "cell_type": "markdown",
      "metadata": {
        "id": "x44iqQmVYC7z"
      },
      "source": [
        "## Dataset1_Global_mean_temp"
      ]
    },
    {
      "cell_type": "code",
      "metadata": {
        "id": "zVMJhNwLmhrz"
      },
      "source": [
        "import pandas as pd\r\n",
        "import numpy as np\r\n",
        "from statsmodels.tsa.stattools import adfuller,kpss\r\n",
        "from statsmodels.graphics.tsaplots import plot_acf,plot_pacf\r\n",
        "import matplotlib.pyplot as plt\r\n",
        "import warnings\r\n",
        "warnings.simplefilter('ignore')"
      ],
      "execution_count": 207,
      "outputs": []
    },
    {
      "cell_type": "code",
      "metadata": {
        "id": "hscsKoS-pYeH"
      },
      "source": [
        "df = pd.read_csv('Dataset1_global_mean_temp.csv', names = [\"global mean temp\"])"
      ],
      "execution_count": 208,
      "outputs": []
    },
    {
      "cell_type": "code",
      "metadata": {
        "colab": {
          "base_uri": "https://localhost:8080/",
          "height": 195
        },
        "id": "CB59CAtDqArV",
        "outputId": "8b3eaa81-2162-4d62-fe8d-7adb58b3e0a2"
      },
      "source": [
        "df.head()"
      ],
      "execution_count": 209,
      "outputs": [
        {
          "output_type": "execute_result",
          "data": {
            "text/html": [
              "<div>\n",
              "<style scoped>\n",
              "    .dataframe tbody tr th:only-of-type {\n",
              "        vertical-align: middle;\n",
              "    }\n",
              "\n",
              "    .dataframe tbody tr th {\n",
              "        vertical-align: top;\n",
              "    }\n",
              "\n",
              "    .dataframe thead th {\n",
              "        text-align: right;\n",
              "    }\n",
              "</style>\n",
              "<table border=\"1\" class=\"dataframe\">\n",
              "  <thead>\n",
              "    <tr style=\"text-align: right;\">\n",
              "      <th></th>\n",
              "      <th>global mean temp</th>\n",
              "    </tr>\n",
              "  </thead>\n",
              "  <tbody>\n",
              "    <tr>\n",
              "      <th>0</th>\n",
              "      <td>-0.36</td>\n",
              "    </tr>\n",
              "    <tr>\n",
              "      <th>1</th>\n",
              "      <td>-0.30</td>\n",
              "    </tr>\n",
              "    <tr>\n",
              "      <th>2</th>\n",
              "      <td>-0.23</td>\n",
              "    </tr>\n",
              "    <tr>\n",
              "      <th>3</th>\n",
              "      <td>-0.23</td>\n",
              "    </tr>\n",
              "    <tr>\n",
              "      <th>4</th>\n",
              "      <td>-0.51</td>\n",
              "    </tr>\n",
              "  </tbody>\n",
              "</table>\n",
              "</div>"
            ],
            "text/plain": [
              "   global mean temp\n",
              "0             -0.36\n",
              "1             -0.30\n",
              "2             -0.23\n",
              "3             -0.23\n",
              "4             -0.51"
            ]
          },
          "metadata": {
            "tags": []
          },
          "execution_count": 209
        }
      ]
    },
    {
      "cell_type": "code",
      "metadata": {
        "colab": {
          "base_uri": "https://localhost:8080/",
          "height": 282
        },
        "id": "2NVEfs-itbGT",
        "outputId": "acc9eb74-6083-4884-ecaf-c9b5e23f4f43"
      },
      "source": [
        "plt.plot(df['global mean temp'])"
      ],
      "execution_count": 210,
      "outputs": [
        {
          "output_type": "execute_result",
          "data": {
            "text/plain": [
              "[<matplotlib.lines.Line2D at 0x7f887f0a7a10>]"
            ]
          },
          "metadata": {
            "tags": []
          },
          "execution_count": 210
        },
        {
          "output_type": "display_data",
          "data": {
            "image/png": "[encoded data removed]",
            "text/plain": [
              "<Figure size 432x288 with 1 Axes>"
            ]
          },
          "metadata": {
            "tags": [],
            "needs_background": "light"
          }
        }
      ]
    },
    {
      "cell_type": "markdown",
      "metadata": {
        "id": "7MM7yZlsvTsr"
      },
      "source": [
        "From data plot, we can say that it is a non-stationary data series."
      ]
    },
    {
      "cell_type": "markdown",
      "metadata": {
        "id": "zLuzarVVp8On"
      },
      "source": [
        "**ADF Test**"
      ]
    },
    {
      "cell_type": "code",
      "metadata": {
        "colab": {
          "base_uri": "https://localhost:8080/"
        },
        "id": "35g3Q7B1p09S",
        "outputId": "d6f9b43d-1830-45f7-d747-4e54d6b65d19"
      },
      "source": [
        "def adf_test(atr):\r\n",
        "    #Perform Dickey-Fuller test:\r\n",
        "    timeseries = df[atr].dropna()\r\n",
        "    print ('Results of Dickey-Fuller Test for ',atr,'\\n')\r\n",
        "    dftest = adfuller(timeseries, autolag='AIC')\r\n",
        "    dfoutput = pd.Series(dftest[0:4], index=['Test Statistic','p-value','#Lags Used','Number of Observations Used'])\r\n",
        "    for key,value in dftest[4].items():\r\n",
        "       dfoutput['Critical Value (%s)'%key] = value\r\n",
        "    print(dfoutput)\r\n",
        "\r\n",
        "#apply adf test on the series\r\n",
        "adf_test('global mean temp')"
      ],
      "execution_count": 211,
      "outputs": [
        {
          "output_type": "stream",
          "text": [
            "Results of Dickey-Fuller Test for  global mean temp \n",
            "\n",
            "Test Statistic                   0.330692\n",
            "p-value                          0.978710\n",
            "#Lags Used                       3.000000\n",
            "Number of Observations Used    130.000000\n",
            "Critical Value (1%)             -3.481682\n",
            "Critical Value (5%)             -2.884042\n",
            "Critical Value (10%)            -2.578770\n",
            "dtype: float64\n"
          ],
          "name": "stdout"
        }
      ]
    },
    {
      "cell_type": "markdown",
      "metadata": {
        "id": "c50w669Kuatb"
      },
      "source": [
        "ADF test: The test statistic is greater than the critical value, so we fail to reject the null hypothesis. So it is non-stationary series.\r\n",
        "Also P value is greater than 0.05 so, from that also we can say it in non-stationary. "
      ]
    },
    {
      "cell_type": "markdown",
      "metadata": {
        "id": "ZjDyJwqKtoN0"
      },
      "source": [
        "**KPSS Test**"
      ]
    },
    {
      "cell_type": "code",
      "metadata": {
        "colab": {
          "base_uri": "https://localhost:8080/"
        },
        "id": "Ilqq78RRtAiP",
        "outputId": "58a4e6e3-0b2b-4445-bdf0-59065d316181"
      },
      "source": [
        "def kpss_test(atr):\r\n",
        "    timeseries = df[atr].dropna()\r\n",
        "    print ('Results of KPSS Test for ',atr)\r\n",
        "    kpsstest = kpss(timeseries, regression='c')\r\n",
        "    kpss_output = pd.Series(kpsstest[0:3], index=['Test Statistic','p-value','Lags Used'])\r\n",
        "    for key,value in kpsstest[3].items():\r\n",
        "        kpss_output['Critical Value (%s)'%key] = value\r\n",
        "    print (kpss_output)\r\n",
        "kpss_test('global mean temp')"
      ],
      "execution_count": 212,
      "outputs": [
        {
          "output_type": "stream",
          "text": [
            "Results of KPSS Test for  global mean temp\n",
            "Test Statistic            0.937789\n",
            "p-value                   0.010000\n",
            "Lags Used                13.000000\n",
            "Critical Value (10%)      0.347000\n",
            "Critical Value (5%)       0.463000\n",
            "Critical Value (2.5%)     0.574000\n",
            "Critical Value (1%)       0.739000\n",
            "dtype: float64\n"
          ],
          "name": "stdout"
        }
      ]
    },
    {
      "cell_type": "markdown",
      "metadata": {
        "id": "V7yvqiNNutVZ"
      },
      "source": [
        "KPSS Test: The test statistic is greater than the critical value so we can reject the null hypothesis. So it is non-stationary series.\r\n"
      ]
    },
    {
      "cell_type": "markdown",
      "metadata": {
        "id": "_6Z08HImsJvj"
      },
      "source": [
        "**Differencing with period 1 to make non-stationary data to stationary dataseries.**"
      ]
    },
    {
      "cell_type": "code",
      "metadata": {
        "id": "VP6ZodUktI_T"
      },
      "source": [
        "df['Diff'] = df['global mean temp'].diff(periods=1)"
      ],
      "execution_count": 213,
      "outputs": []
    },
    {
      "cell_type": "code",
      "metadata": {
        "colab": {
          "base_uri": "https://localhost:8080/",
          "height": 402
        },
        "id": "lG1HYwKHGAH0",
        "outputId": "2917a196-6b1a-4e63-ae25-998c156987cd"
      },
      "source": [
        "df"
      ],
      "execution_count": 214,
      "outputs": [
        {
          "output_type": "execute_result",
          "data": {
            "text/html": [
              "<div>\n",
              "<style scoped>\n",
              "    .dataframe tbody tr th:only-of-type {\n",
              "        vertical-align: middle;\n",
              "    }\n",
              "\n",
              "    .dataframe tbody tr th {\n",
              "        vertical-align: top;\n",
              "    }\n",
              "\n",
              "    .dataframe thead th {\n",
              "        text-align: right;\n",
              "    }\n",
              "</style>\n",
              "<table border=\"1\" class=\"dataframe\">\n",
              "  <thead>\n",
              "    <tr style=\"text-align: right;\">\n",
              "      <th></th>\n",
              "      <th>global mean temp</th>\n",
              "      <th>Diff</th>\n",
              "    </tr>\n",
              "  </thead>\n",
              "  <tbody>\n",
              "    <tr>\n",
              "      <th>0</th>\n",
              "      <td>-0.36</td>\n",
              "      <td>NaN</td>\n",
              "    </tr>\n",
              "    <tr>\n",
              "      <th>1</th>\n",
              "      <td>-0.30</td>\n",
              "      <td>0.06</td>\n",
              "    </tr>\n",
              "    <tr>\n",
              "      <th>2</th>\n",
              "      <td>-0.23</td>\n",
              "      <td>0.07</td>\n",
              "    </tr>\n",
              "    <tr>\n",
              "      <th>3</th>\n",
              "      <td>-0.23</td>\n",
              "      <td>0.00</td>\n",
              "    </tr>\n",
              "    <tr>\n",
              "      <th>4</th>\n",
              "      <td>-0.51</td>\n",
              "      <td>-0.28</td>\n",
              "    </tr>\n",
              "    <tr>\n",
              "      <th>...</th>\n",
              "      <td>...</td>\n",
              "      <td>...</td>\n",
              "    </tr>\n",
              "    <tr>\n",
              "      <th>129</th>\n",
              "      <td>0.79</td>\n",
              "      <td>0.14</td>\n",
              "    </tr>\n",
              "    <tr>\n",
              "      <th>130</th>\n",
              "      <td>0.92</td>\n",
              "      <td>0.13</td>\n",
              "    </tr>\n",
              "    <tr>\n",
              "      <th>131</th>\n",
              "      <td>0.78</td>\n",
              "      <td>-0.14</td>\n",
              "    </tr>\n",
              "    <tr>\n",
              "      <th>132</th>\n",
              "      <td>0.76</td>\n",
              "      <td>-0.02</td>\n",
              "    </tr>\n",
              "    <tr>\n",
              "      <th>133</th>\n",
              "      <td>0.81</td>\n",
              "      <td>0.05</td>\n",
              "    </tr>\n",
              "  </tbody>\n",
              "</table>\n",
              "<p>134 rows × 2 columns</p>\n",
              "</div>"
            ],
            "text/plain": [
              "     global mean temp  Diff\n",
              "0               -0.36   NaN\n",
              "1               -0.30  0.06\n",
              "2               -0.23  0.07\n",
              "3               -0.23  0.00\n",
              "4               -0.51 -0.28\n",
              "..                ...   ...\n",
              "129              0.79  0.14\n",
              "130              0.92  0.13\n",
              "131              0.78 -0.14\n",
              "132              0.76 -0.02\n",
              "133              0.81  0.05\n",
              "\n",
              "[134 rows x 2 columns]"
            ]
          },
          "metadata": {
            "tags": []
          },
          "execution_count": 214
        }
      ]
    },
    {
      "cell_type": "code",
      "metadata": {
        "colab": {
          "base_uri": "https://localhost:8080/"
        },
        "id": "4RTvI2S37ZRE",
        "outputId": "b9fec388-2944-4fcd-ef28-fea7acb82b7e"
      },
      "source": [
        "adf_test('Diff')"
      ],
      "execution_count": 215,
      "outputs": [
        {
          "output_type": "stream",
          "text": [
            "Results of Dickey-Fuller Test for  Diff \n",
            "\n",
            "Test Statistic                -1.130253e+01\n",
            "p-value                        1.296867e-20\n",
            "#Lags Used                     2.000000e+00\n",
            "Number of Observations Used    1.300000e+02\n",
            "Critical Value (1%)           -3.481682e+00\n",
            "Critical Value (5%)           -2.884042e+00\n",
            "Critical Value (10%)          -2.578770e+00\n",
            "dtype: float64\n"
          ],
          "name": "stdout"
        }
      ]
    },
    {
      "cell_type": "markdown",
      "metadata": {
        "id": "8QPoWeu2s2qp"
      },
      "source": [
        "p value is less than the 0.05 so data is stationary."
      ]
    },
    {
      "cell_type": "code",
      "metadata": {
        "colab": {
          "base_uri": "https://localhost:8080/",
          "height": 265
        },
        "id": "3ivGsOXIx-17",
        "outputId": "3ae96672-87b1-4528-81ed-176c39c7811d"
      },
      "source": [
        "df['Diff'].plot()\r\n",
        "plt.show()"
      ],
      "execution_count": 216,
      "outputs": [
        {
          "output_type": "display_data",
          "data": {
            "image/png": "[encoded data removed]",
            "text/plain": [
              "<Figure size 432x288 with 1 Axes>"
            ]
          },
          "metadata": {
            "tags": [],
            "needs_background": "light"
          }
        }
      ]
    },
    {
      "cell_type": "code",
      "metadata": {
        "id": "jHuiToDslAOW"
      },
      "source": [
        "data1 = df.iloc[:,0].values\r\n",
        "dataset_array1 = [data1[0::1],data1[0::2],data1[0::4],data1[0::8],data1[0::12],data1[0::24]]"
      ],
      "execution_count": 217,
      "outputs": []
    },
    {
      "cell_type": "code",
      "metadata": {
        "id": "_AeHRsQ6Ig87"
      },
      "source": [
        "def plotting_function(MSE,MAE,name):\r\n",
        "  interval = [1,2,3,4,5,6]\r\n",
        "\r\n",
        "  barWidth = 0.25  \r\n",
        "  r1 = np.arange(len(interval))\r\n",
        "  r2 = [x + barWidth for x in r1]\r\n",
        "  \r\n",
        "  # Make the plot\r\n",
        "  plt.bar(r1, MSE, color='b', width=barWidth, label='MSE')\r\n",
        "  plt.bar(r2, MAE, color='g', width=barWidth, label='MAE')\r\n",
        "\r\n",
        "  plt.xlabel('interval', fontweight='bold')\r\n",
        "  plt.xticks([r + barWidth for r in range(len(interval))], ['1', '2', '4', '8', '12','24'])\r\n",
        "  plt.title('MSE and MAE plot for '+(name))\r\n",
        "  plt.legend()\r\n",
        "  plt.show()\r\n",
        " "
      ],
      "execution_count": 218,
      "outputs": []
    },
    {
      "cell_type": "markdown",
      "metadata": {
        "id": "TGkRrLc62laR"
      },
      "source": [
        "**single exponential smoothing**"
      ]
    },
    {
      "cell_type": "code",
      "metadata": {
        "id": "JGc-Q1YyJppf"
      },
      "source": [
        "def single_exp(data,interval,alpha):\r\n",
        "  array1=data\r\n",
        "  \r\n",
        "  fv = np.array([None] * len(array1))\r\n",
        "  for i in range(interval):\r\n",
        "    fv[i]=array1[i]\r\n",
        "   \r\n",
        "  for i in range(interval, len(array1)):\r\n",
        "    fv[i] = alpha * array1[i-interval] + (1 - alpha) * fv[i - interval]\r\n",
        "  array = array1-fv\r\n",
        "  arr = pd.DataFrame.from_dict({\"global mean temp\":array1,\"Forecasted value\":fv,\"Error\":array})\r\n",
        "  return arr"
      ],
      "execution_count": 219,
      "outputs": []
    },
    {
      "cell_type": "code",
      "metadata": {
        "id": "O20tgYH7Qw7M",
        "colab": {
          "base_uri": "https://localhost:8080/"
        },
        "outputId": "251c0f5d-bb70-4781-e686-c434ee65703d"
      },
      "source": [
        "interval = [1,2,4,8,12,24]\r\n",
        "mse1=[]\r\n",
        "mae1=[]\r\n",
        "for i in interval:\r\n",
        "  a = single_exp(df.iloc[:,0],i,0.9)\r\n",
        "  mse_val = ((a.Error)**2).sum()/(len(a.Error)-i)\r\n",
        "  mae_val = (abs(a.Error)).sum()/(len(a.Error)-i)\r\n",
        "  mse1.append(round(mse_val,6))\r\n",
        "  mae1.append(round(mae_val,6))\r\n",
        "\r\n",
        "print('MSE for each interval respectively \\n',mse1)\r\n",
        "print('MSE for each interval respectively \\n',mae1)"
      ],
      "execution_count": 220,
      "outputs": [
        {
          "output_type": "stream",
          "text": [
            "MSE for each interval respectively \n",
            " [0.019031, 0.025219, 0.026015, 0.0361, 0.052196, 0.113739]\n",
            "MSE for each interval respectively \n",
            " [0.110927, 0.128802, 0.130324, 0.153946, 0.187459, 0.271281]\n"
          ],
          "name": "stdout"
        }
      ]
    },
    {
      "cell_type": "code",
      "metadata": {
        "colab": {
          "base_uri": "https://localhost:8080/",
          "height": 295
        },
        "id": "CMKGbOi0Jcnb",
        "outputId": "59da6f4d-d7b4-45ee-8299-a79a9f1ad17e"
      },
      "source": [
        "plotting_function(mse1,mae1,'single exponential smoothing')"
      ],
      "execution_count": 221,
      "outputs": [
        {
          "output_type": "display_data",
          "data": {
            "image/png": "[encoded data removed]",
            "text/plain": [
              "<Figure size 432x288 with 1 Axes>"
            ]
          },
          "metadata": {
            "tags": [],
            "needs_background": "light"
          }
        }
      ]
    },
    {
      "cell_type": "markdown",
      "metadata": {
        "id": "z2vWzVqJs9Y8"
      },
      "source": [
        "**Double Exponential Smoothing**"
      ]
    },
    {
      "cell_type": "code",
      "metadata": {
        "id": "pR1gtCEzQw4E"
      },
      "source": [
        "def double_exp(data,interval,alpha,beta):\r\n",
        "  array=data\r\n",
        "  f = np.array([None] * len(array))\r\n",
        "  a = np.array([None] * len(array))\r\n",
        "  b = np.array([None] * len(array))\r\n",
        "  \r\n",
        "\r\n",
        "  f[0]=data[0]\r\n",
        "  a[0] = array[0]\r\n",
        "  b[0] = (array[(len(array)-1)] - array[0])/(len(array)-1)\r\n",
        "\r\n",
        "  if interval<2:\r\n",
        "    f[1] = a[0]+b[0]\r\n",
        "    for i in range(2, len(array)):\r\n",
        "      a[i-1] = alpha*array[i-1] + (1-alpha)*(a[i-2]+b[i-2])\r\n",
        "      b[i-1] = beta*(a[i-1]-a[i-2]) + (1-beta)*b[i-2]\r\n",
        "      f[i] = a[i-1] + b[i-1]\r\n",
        "    arr = pd.DataFrame.from_dict({\"global mean temp\":array,\"Forecasted value\":f,\"Error\":array-f})\r\n",
        "  else:\r\n",
        "    for i in range(2,interval):\r\n",
        "      a[i-1] = alpha*array[i-1] + (1-alpha)*(a[i-2]+b[i-2])\r\n",
        "      b[i-1] = beta*(a[i-1]-a[i-2]) + (1-beta)*b[i-2]\r\n",
        "\r\n",
        "    for i in range(1,interval):\r\n",
        "      f[i] = a[i-1] + b[i-1]\r\n",
        "\r\n",
        "    for i in range(interval, len(array)):\r\n",
        "      a[i-1] = alpha*array[i-1] + (1-alpha)*(a[i-2]+b[i-2])\r\n",
        "      b[i-1] = beta*(a[i-1]-a[i-2]) + (1-beta)*b[i-2]\r\n",
        "      f[i] = a[i-1] + b[i-1]\r\n",
        "    arr = pd.DataFrame.from_dict({\"global mean temp\":array,\"Forecasted value\":f,\"Error\":array-f})\r\n",
        "  return arr"
      ],
      "execution_count": 222,
      "outputs": []
    },
    {
      "cell_type": "code",
      "metadata": {
        "colab": {
          "base_uri": "https://localhost:8080/"
        },
        "id": "sz9h8HQL4OR1",
        "outputId": "25449a95-eef7-490a-8e22-45490d5229e7"
      },
      "source": [
        "interval = [1,2,4,8,12,24]\r\n",
        "mse2=[]\r\n",
        "mae2=[]\r\n",
        "for i in interval:\r\n",
        "  a = double_exp(df.iloc[:,0],i,0.9,0.01)\r\n",
        "  mse_val = ((a.Error)**2).sum()/(len(a.Error)-i)\r\n",
        "  mae_val = (abs(a.Error)).sum()/(len(a.Error)-i)\r\n",
        "  mse2.append(round(mse_val,6))\r\n",
        "  mae2.append(round(mae_val,6))\r\n",
        "\r\n",
        "print('MSE for each interval respectively \\n',mse2)\r\n",
        "print('MSE for each interval respectively \\n',mae2)"
      ],
      "execution_count": 223,
      "outputs": [
        {
          "output_type": "stream",
          "text": [
            "MSE for each interval respectively \n",
            " [0.019111, 0.019255, 0.019552, 0.020172, 0.020834, 0.023106]\n",
            "MSE for each interval respectively \n",
            " [0.110918, 0.111758, 0.113478, 0.11708, 0.120919, 0.13411]\n"
          ],
          "name": "stdout"
        }
      ]
    },
    {
      "cell_type": "code",
      "metadata": {
        "colab": {
          "base_uri": "https://localhost:8080/",
          "height": 295
        },
        "id": "np9zyNuZMfgV",
        "outputId": "bd67560e-1ff6-4272-d0f9-f77567542f72"
      },
      "source": [
        "plotting_function(mse2,mae2,'double exponential smoothing')"
      ],
      "execution_count": 224,
      "outputs": [
        {
          "output_type": "display_data",
          "data": {
            "image/png": "[encoded data removed]",
            "text/plain": [
              "<Figure size 432x288 with 1 Axes>"
            ]
          },
          "metadata": {
            "tags": [],
            "needs_background": "light"
          }
        }
      ]
    },
    {
      "cell_type": "markdown",
      "metadata": {
        "id": "UE-Ob6iByCO5"
      },
      "source": [
        "**Triple Exponential Smoothing**"
      ]
    },
    {
      "cell_type": "code",
      "metadata": {
        "id": "Hzpd0J0pB8sJ"
      },
      "source": [
        "def initial_trend(data, season_len):\r\n",
        "    sum = 0.0\r\n",
        "    for i in range(season_len):\r\n",
        "        sum += float(data[i+season_len] - data[i]) / season_len\r\n",
        "    return sum / season_len\r\n",
        "\r\n",
        "def initial_seasonal(data, season_len):\r\n",
        "  seasonals = {}\r\n",
        "  season_averages = []\r\n",
        "  n_seasons = int(len(data)/season_len)\r\n",
        "  # compute season averages\r\n",
        "  for j in range(n_seasons):\r\n",
        "    avg = ((data[(season_len*j):(season_len*j)+season_len]).sum())/float(season_len)\r\n",
        "    season_averages.append(avg)\r\n",
        "  # initial values\r\n",
        "  for i in range(season_len):\r\n",
        "    sum = 0.0\r\n",
        "    for j in range(n_seasons):\r\n",
        "      sum += data[season_len*j+i]-season_averages[j]\r\n",
        "    seasonals[i] = sum/n_seasons\r\n",
        "  return seasonals\r\n",
        "\r\n",
        "def triple_exp(data, season_len, alpha, beta, gamma, n_preds):\r\n",
        "  result = []\r\n",
        "  error = []\r\n",
        "  seasonals = initial_seasonal(data, season_len)\r\n",
        "  for i in range(len(data)+n_preds):\r\n",
        "    if i == 0: # initial values\r\n",
        "      smooth = data[0]\r\n",
        "      trend = initial_trend(data, season_len)\r\n",
        "      result.append(data[0])\r\n",
        "      continue\r\n",
        "    if i >= len(data): # we are forecasting\r\n",
        "      m = i - len(data) + 1\r\n",
        "      result.append((smooth + m*trend) + seasonals[i%season_len])\r\n",
        "    else:\r\n",
        "      val = data[i]\r\n",
        "      last_smooth, smooth = smooth, alpha*(val-seasonals[i%season_len]) + (1-alpha)*(smooth+trend)\r\n",
        "      trend = beta * (smooth-last_smooth) + (1-beta)*trend\r\n",
        "      seasonals[i%season_len] = gamma*(val-smooth) + (1-gamma)*seasonals[i%season_len]\r\n",
        "      forecast = smooth+trend+seasonals[i%season_len]\r\n",
        "      error = data - forecast\r\n",
        "      result.append(forecast)\r\n",
        "      \r\n",
        "  SE = np.square(error)\r\n",
        "  SSE = 0\r\n",
        "  for i in SE:\r\n",
        "    SSE+= i\r\n",
        "  mse_val = SSE/(len(data)-1)\r\n",
        "  mae_val = np.sum(abs(error)/len(error))\r\n",
        "  return mse_val,mae_val"
      ],
      "execution_count": 225,
      "outputs": []
    },
    {
      "cell_type": "code",
      "metadata": {
        "colab": {
          "base_uri": "https://localhost:8080/"
        },
        "id": "J_h0dT874PaB",
        "outputId": "bf7c3c7a-d4f3-4617-8250-7202f91f104a"
      },
      "source": [
        "mse3 = []\r\n",
        "mae3 = []\r\n",
        "final_forecasted_list = []\r\n",
        "for dataframe in dataset_array1:\r\n",
        "  mse_val,mae_val = triple_exp(dataframe,1,0.9,0.02,0.95,1)\r\n",
        "  mse3.append(round(mse_val,6))\r\n",
        "  mae3.append(round(mae_val,6))\r\n",
        "\r\n",
        "print('MSE for each interval respectively \\n',mse3)\r\n",
        "print('MSE for each interval respectively \\n',mae3)"
      ],
      "execution_count": 240,
      "outputs": [
        {
          "output_type": "stream",
          "text": [
            "MSE for each interval respectively \n",
            " [0.802031, 0.808338, 0.650656, 0.645892, 0.687599, 0.484885]\n",
            "MSE for each interval respectively \n",
            " [0.814571, 0.818127, 0.717812, 0.71658, 0.700221, 0.577785]\n"
          ],
          "name": "stdout"
        }
      ]
    },
    {
      "cell_type": "code",
      "metadata": {
        "colab": {
          "base_uri": "https://localhost:8080/",
          "height": 295
        },
        "id": "dmpRCtkrMrSA",
        "outputId": "990a139a-ef08-4c3a-8e7a-347225946843"
      },
      "source": [
        "plotting_function(mse3,mae3,'triple exponential smoothing')"
      ],
      "execution_count": 241,
      "outputs": [
        {
          "output_type": "display_data",
          "data": {
            "image/png": "[encoded data removed]",
            "text/plain": [
              "<Figure size 432x288 with 1 Axes>"
            ]
          },
          "metadata": {
            "tags": [],
            "needs_background": "light"
          }
        }
      ]
    },
    {
      "cell_type": "markdown",
      "metadata": {
        "id": "l1TbBf_36RHQ"
      },
      "source": [
        "**ACF PACF Plot**"
      ]
    },
    {
      "cell_type": "code",
      "metadata": {
        "colab": {
          "base_uri": "https://localhost:8080/",
          "height": 545
        },
        "id": "yfsntbp135f0",
        "outputId": "6b0ebf1f-3e25-41aa-8e78-808fe318efca"
      },
      "source": [
        "plot_acf(df.iloc[:,1].dropna(), lags=10)\r\n",
        "plt.show()\r\n",
        "plot_pacf(df.iloc[:,1].dropna(), lags=10)\r\n",
        "plt.show()"
      ],
      "execution_count": 228,
      "outputs": [
        {
          "output_type": "display_data",
          "data": {
            "image/png": "[encoded data removed]",
            "text/plain": [
              "<Figure size 432x288 with 1 Axes>"
            ]
          },
          "metadata": {
            "tags": [],
            "needs_background": "light"
          }
        },
        {
          "output_type": "display_data",
          "data": {
            "image/png": "[encoded data removed]",
            "text/plain": [
              "<Figure size 432x288 with 1 Axes>"
            ]
          },
          "metadata": {
            "tags": [],
            "needs_background": "light"
          }
        }
      ]
    },
    {
      "cell_type": "markdown",
      "metadata": {
        "id": "iRLRGZRY5rEv"
      },
      "source": [
        "Checking for\r\n",
        "AR(1), AR(2), AR(3), AR(5) : from partial autocorelation plot.\r\n",
        "\r\n",
        "MA(1) : from autocorelation plot."
      ]
    },
    {
      "cell_type": "markdown",
      "metadata": {
        "id": "uHFh9P7_yHfs"
      },
      "source": [
        "pmdarima package install"
      ]
    },
    {
      "cell_type": "code",
      "metadata": {
        "colab": {
          "base_uri": "https://localhost:8080/"
        },
        "id": "v_agQdKEVRM2",
        "outputId": "aab8ed41-53af-4806-849a-4a98dd598d0c"
      },
      "source": [
        "!pip3 install pmdarima"
      ],
      "execution_count": 229,
      "outputs": [
        {
          "output_type": "stream",
          "text": [
            "Requirement already satisfied: pmdarima in /usr/local/lib/python3.7/dist-packages (1.8.0)\n",
            "Requirement already satisfied: Cython<0.29.18,>=0.29 in /usr/local/lib/python3.7/dist-packages (from pmdarima) (0.29.17)\n",
            "Requirement already satisfied: scipy>=1.3.2 in /usr/local/lib/python3.7/dist-packages (from pmdarima) (1.4.1)\n",
            "Requirement already satisfied: numpy>=1.17.3 in /usr/local/lib/python3.7/dist-packages (from pmdarima) (1.19.5)\n",
            "Requirement already satisfied: urllib3 in /usr/local/lib/python3.7/dist-packages (from pmdarima) (1.24.3)\n",
            "Requirement already satisfied: setuptools!=50.0.0,>=38.6.0 in /usr/local/lib/python3.7/dist-packages (from pmdarima) (53.0.0)\n",
            "Requirement already satisfied: pandas>=0.19 in /usr/local/lib/python3.7/dist-packages (from pmdarima) (1.1.5)\n",
            "Requirement already satisfied: joblib>=0.11 in /usr/local/lib/python3.7/dist-packages (from pmdarima) (1.0.1)\n",
            "Requirement already satisfied: statsmodels!=0.12.0,>=0.11 in /usr/local/lib/python3.7/dist-packages (from pmdarima) (0.12.2)\n",
            "Requirement already satisfied: scikit-learn>=0.22 in /usr/local/lib/python3.7/dist-packages (from pmdarima) (0.22.2.post1)\n",
            "Requirement already satisfied: python-dateutil>=2.7.3 in /usr/local/lib/python3.7/dist-packages (from pandas>=0.19->pmdarima) (2.8.1)\n",
            "Requirement already satisfied: pytz>=2017.2 in /usr/local/lib/python3.7/dist-packages (from pandas>=0.19->pmdarima) (2018.9)\n",
            "Requirement already satisfied: patsy>=0.5 in /usr/local/lib/python3.7/dist-packages (from statsmodels!=0.12.0,>=0.11->pmdarima) (0.5.1)\n",
            "Requirement already satisfied: six>=1.5 in /usr/local/lib/python3.7/dist-packages (from python-dateutil>=2.7.3->pandas>=0.19->pmdarima) (1.15.0)\n"
          ],
          "name": "stdout"
        }
      ]
    },
    {
      "cell_type": "code",
      "metadata": {
        "colab": {
          "base_uri": "https://localhost:8080/"
        },
        "id": "BFInJMkLzpfr",
        "outputId": "168a18e4-ad14-4e1d-a030-8f9954dadd98"
      },
      "source": [
        "import pmdarima as pm\r\n",
        "model = pm.auto_arima(df.iloc[:,0], start_p=1, start_q=1,test='adf',max_p=5, max_q=3,m=1,d=None,seasonal=False,start_P=0, D=0, \r\n",
        "                      trace=True,error_action='ignore',  suppress_warnings=True,stepwise=True)\r\n",
        "print(model.summary())"
      ],
      "execution_count": 230,
      "outputs": [
        {
          "output_type": "stream",
          "text": [
            "Performing stepwise search to minimize aic\n",
            " ARIMA(1,1,1)(0,0,0)[0] intercept   : AIC=-172.662, Time=0.26 sec\n",
            " ARIMA(0,1,0)(0,0,0)[0] intercept   : AIC=-138.203, Time=0.04 sec\n",
            " ARIMA(1,1,0)(0,0,0)[0] intercept   : AIC=-150.647, Time=0.16 sec\n",
            " ARIMA(0,1,1)(0,0,0)[0] intercept   : AIC=-170.641, Time=0.10 sec\n",
            " ARIMA(0,1,0)(0,0,0)[0]             : AIC=-139.692, Time=0.03 sec\n",
            " ARIMA(2,1,1)(0,0,0)[0] intercept   : AIC=-171.777, Time=0.46 sec\n",
            " ARIMA(1,1,2)(0,0,0)[0] intercept   : AIC=-171.188, Time=0.30 sec\n",
            " ARIMA(0,1,2)(0,0,0)[0] intercept   : AIC=-173.183, Time=0.15 sec\n",
            " ARIMA(0,1,3)(0,0,0)[0] intercept   : AIC=-171.195, Time=0.40 sec\n",
            " ARIMA(1,1,3)(0,0,0)[0] intercept   : AIC=-172.644, Time=0.49 sec\n",
            " ARIMA(0,1,2)(0,0,0)[0]             : AIC=-168.699, Time=0.08 sec\n",
            "\n",
            "Best model:  ARIMA(0,1,2)(0,0,0)[0] intercept\n",
            "Total fit time: 2.485 seconds\n",
            "                               SARIMAX Results                                \n",
            "==============================================================================\n",
            "Dep. Variable:                      y   No. Observations:                  134\n",
            "Model:               SARIMAX(0, 1, 2)   Log Likelihood                  90.592\n",
            "Date:                Mon, 01 Mar 2021   AIC                           -173.183\n",
            "Time:                        05:15:32   BIC                           -161.622\n",
            "Sample:                             0   HQIC                          -168.485\n",
            "                                - 134                                         \n",
            "Covariance Type:                  opg                                         \n",
            "==============================================================================\n",
            "                 coef    std err          z      P>|z|      [0.025      0.975]\n",
            "------------------------------------------------------------------------------\n",
            "intercept      0.0090      0.003      3.000      0.003       0.003       0.015\n",
            "ma.L1         -0.5536      0.091     -6.055      0.000      -0.733      -0.374\n",
            "ma.L2         -0.1737      0.092     -1.880      0.060      -0.355       0.007\n",
            "sigma2         0.0149      0.002      7.529      0.000       0.011       0.019\n",
            "===================================================================================\n",
            "Ljung-Box (L1) (Q):                   0.00   Jarque-Bera (JB):                 0.68\n",
            "Prob(Q):                              0.99   Prob(JB):                         0.71\n",
            "Heteroskedasticity (H):               1.14   Skew:                            -0.11\n",
            "Prob(H) (two-sided):                  0.66   Kurtosis:                         2.72\n",
            "===================================================================================\n",
            "\n",
            "Warnings:\n",
            "[1] Covariance matrix calculated using the outer product of gradients (complex-step).\n"
          ],
          "name": "stdout"
        }
      ]
    },
    {
      "cell_type": "markdown",
      "metadata": {
        "id": "BqZRnHcM_usY"
      },
      "source": [
        "**AR model**"
      ]
    },
    {
      "cell_type": "code",
      "metadata": {
        "id": "EoeO0hP73ppj"
      },
      "source": [
        "from statsmodels.tsa.arima_model import ARIMA\r\n",
        "def ar_model(data):\r\n",
        "  model=ARIMA(data,order=(2,0,0)).fit()\r\n",
        "  prediction = model.fittedvalues\r\n",
        "  error = data - prediction\r\n",
        "  mse_val = np.sum((error)**2)/len(error)\r\n",
        "  mae_val = np.sum(abs(error))/len(error)\r\n",
        "  return mse_val,mae_val,prediction"
      ],
      "execution_count": 231,
      "outputs": []
    },
    {
      "cell_type": "code",
      "metadata": {
        "colab": {
          "base_uri": "https://localhost:8080/"
        },
        "id": "h240IiIs2D_i",
        "outputId": "94d08651-7f55-496a-f997-76a56a485b4b"
      },
      "source": [
        "mse4 = []\r\n",
        "mae4 = []\r\n",
        "final_forecasted_list = []\r\n",
        "for dataframe in dataset_array1:\r\n",
        "  mse_val,mae_val,prediction = ar_model(dataframe)\r\n",
        "  mse4.append(round(mse_val,6))\r\n",
        "  mae4.append(round(mae_val,6))\r\n",
        "  final_forecasted_list.append(prediction)\r\n",
        "\r\n",
        "print('MSE for each interval respectively \\n',mse4)\r\n",
        "print('MSE for each interval respectively \\n',mae4)"
      ],
      "execution_count": 232,
      "outputs": [
        {
          "output_type": "stream",
          "text": [
            "MSE for each interval respectively \n",
            " [0.019258, 0.024927, 254.507765, 0.03431, 0.06364, 0.112656]\n",
            "MSE for each interval respectively \n",
            " [0.109618, 0.121866, 2.8611, 0.134471, 0.193079, 0.265223]\n"
          ],
          "name": "stdout"
        }
      ]
    },
    {
      "cell_type": "code",
      "metadata": {
        "colab": {
          "base_uri": "https://localhost:8080/",
          "height": 295
        },
        "id": "7vRy7w0cM2fT",
        "outputId": "34065702-1470-4360-c119-09e7f3bf2ae7"
      },
      "source": [
        "plotting_function(mse4,mae4,'AR Model')"
      ],
      "execution_count": 233,
      "outputs": [
        {
          "output_type": "display_data",
          "data": {
            "image/png": "[encoded data removed]",
            "text/plain": [
              "<Figure size 432x288 with 1 Axes>"
            ]
          },
          "metadata": {
            "tags": [],
            "needs_background": "light"
          }
        }
      ]
    },
    {
      "cell_type": "markdown",
      "metadata": {
        "id": "sv42iqpP_zxA"
      },
      "source": [
        "**MA Model**"
      ]
    },
    {
      "cell_type": "code",
      "metadata": {
        "id": "An5M7F2zDRzF"
      },
      "source": [
        "def ma_model(data):\r\n",
        "  model=ARIMA(data,order=(0,0,2)).fit()\r\n",
        "  prediction = model.fittedvalues\r\n",
        "  error = data - prediction\r\n",
        "  mse_val = np.sum((error)**2)/len(error)\r\n",
        "  mae_val = np.sum(abs(error))/len(error)\r\n",
        "  return mse_val,mae_val,prediction"
      ],
      "execution_count": 234,
      "outputs": []
    },
    {
      "cell_type": "code",
      "metadata": {
        "colab": {
          "base_uri": "https://localhost:8080/"
        },
        "id": "W38JKzhU8puF",
        "outputId": "81a69493-8185-4b33-cca2-5caeb7b50841"
      },
      "source": [
        "mse5 = []\r\n",
        "mae5 = []\r\n",
        "final_forecasted_list = []\r\n",
        "for dataframe in dataset_array1:\r\n",
        "  mse_val,mae_val,prediction = ma_model(dataframe)\r\n",
        "  mse5.append(round(mse_val,6))\r\n",
        "  mae5.append(round(mae_val,6))\r\n",
        "  final_forecasted_list.append(prediction)\r\n",
        "\r\n",
        "print('MSE for each interval respectively \\n',mse5)\r\n",
        "print('MSE for each interval respectively \\n',mae5)"
      ],
      "execution_count": 235,
      "outputs": [
        {
          "output_type": "stream",
          "text": [
            "MSE for each interval respectively \n",
            " [0.039539, 0.045166, 0.045009, 0.035656, 0.063314, 0.094376]\n",
            "MSE for each interval respectively \n",
            " [0.157431, 0.170707, 0.168767, 0.151652, 0.188364, 0.277943]\n"
          ],
          "name": "stdout"
        }
      ]
    },
    {
      "cell_type": "code",
      "metadata": {
        "colab": {
          "base_uri": "https://localhost:8080/",
          "height": 295
        },
        "id": "n9H88t0HNHwf",
        "outputId": "df75b168-7bef-4fd3-ff2b-98924bc5763b"
      },
      "source": [
        "plotting_function(mse5,mae5,'MA Model')"
      ],
      "execution_count": 236,
      "outputs": [
        {
          "output_type": "display_data",
          "data": {
            "image/png": "[encoded data removed]",
            "text/plain": [
              "<Figure size 432x288 with 1 Axes>"
            ]
          },
          "metadata": {
            "tags": [],
            "needs_background": "light"
          }
        }
      ]
    },
    {
      "cell_type": "markdown",
      "metadata": {
        "id": "xeNbZWGP_31g"
      },
      "source": [
        "**ARIMA Model**"
      ]
    },
    {
      "cell_type": "code",
      "metadata": {
        "id": "puFXKa2HDeFC"
      },
      "source": [
        "def arima_model(data):\r\n",
        "  model=ARIMA(data,order=(0,1,1)).fit()\r\n",
        "  prediction = model.fittedvalues\r\n",
        "  data = np.delete(data,[0])\r\n",
        "  error = data - prediction\r\n",
        "  mse_val = np.sum((error)**2)/len(error)\r\n",
        "  mae_val = np.sum(abs(error))/len(error)\r\n",
        "  return mse_val,mae_val,prediction"
      ],
      "execution_count": 237,
      "outputs": []
    },
    {
      "cell_type": "code",
      "metadata": {
        "colab": {
          "base_uri": "https://localhost:8080/"
        },
        "id": "x9Vqk9WJ9BeM",
        "outputId": "3cd95cb4-7f86-4b4b-fa61-c1cc470c5c9e"
      },
      "source": [
        "mse6 = []\r\n",
        "mae6 = []\r\n",
        "final_forecasted_list = []\r\n",
        "for dataframe in dataset_array1:\r\n",
        "  mse_val,mae_val,prediction = arima_model(dataframe)\r\n",
        "  mse6.append(round(mse_val,6))\r\n",
        "  mae6.append(round(mae_val,6))\r\n",
        "  final_forecasted_list.append(prediction)\r\n",
        "\r\n",
        "print('MSE for each interval respectively \\n',mse6)\r\n",
        "print('MSE for each interval respectively \\n',mae6)"
      ],
      "execution_count": 238,
      "outputs": [
        {
          "output_type": "stream",
          "text": [
            "MSE for each interval respectively \n",
            " [0.158667, 0.157589, 0.142108, 0.108257, 0.158486, 0.146731]\n",
            "MSE for each interval respectively \n",
            " [0.310911, 0.315315, 0.322333, 0.272688, 0.346297, 0.321971]\n"
          ],
          "name": "stdout"
        }
      ]
    },
    {
      "cell_type": "code",
      "metadata": {
        "id": "z9CIdpgvXwhu",
        "colab": {
          "base_uri": "https://localhost:8080/",
          "height": 295
        },
        "outputId": "6f82b7a9-d7c8-471f-e3d6-38ef25c49ee1"
      },
      "source": [
        "plotting_function(mse6,mae6,'ARIMA Model')"
      ],
      "execution_count": 239,
      "outputs": [
        {
          "output_type": "display_data",
          "data": {
            "image/png": "[encoded data removed]",
            "text/plain": [
              "<Figure size 432x288 with 1 Axes>"
            ]
          },
          "metadata": {
            "tags": [],
            "needs_background": "light"
          }
        }
      ]
    },
    {
      "cell_type": "code",
      "metadata": {
        "id": "n9dbl6cRNjw8"
      },
      "source": [
        ""
      ],
      "execution_count": 239,
      "outputs": []
    }
  ]
}