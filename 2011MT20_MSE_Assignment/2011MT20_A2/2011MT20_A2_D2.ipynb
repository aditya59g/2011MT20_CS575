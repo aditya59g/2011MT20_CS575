{
  "nbformat": 4,
  "nbformat_minor": 0,
  "metadata": {
    "colab": {
      "name": "2011MT20_A3_D2.ipynb",
      "provenance": [],
      "collapsed_sections": []
    },
    "kernelspec": {
      "name": "python3",
      "display_name": "Python 3"
    }
  },
  "cells": [
    {
      "cell_type": "markdown",
      "metadata": {
        "id": "x44iqQmVYC7z"
      },
      "source": [
        "## Dataset2_month_temp"
      ]
    },
    {
      "cell_type": "code",
      "metadata": {
        "id": "zVMJhNwLmhrz"
      },
      "source": [
        "import pandas as pd\r\n",
        "import numpy as np\r\n",
        "from statsmodels.tsa.stattools import adfuller,kpss\r\n",
        "from statsmodels.graphics.tsaplots import plot_acf,plot_pacf\r\n",
        "import matplotlib.pyplot as plt\r\n",
        "import warnings\r\n",
        "warnings.simplefilter('ignore')"
      ],
      "execution_count": 1,
      "outputs": []
    },
    {
      "cell_type": "code",
      "metadata": {
        "id": "hscsKoS-pYeH"
      },
      "source": [
        "df = pd.read_csv('Dataset2_month_temp.csv', names = [\"month_temp\"])"
      ],
      "execution_count": 2,
      "outputs": []
    },
    {
      "cell_type": "code",
      "metadata": {
        "colab": {
          "base_uri": "https://localhost:8080/",
          "height": 195
        },
        "id": "CB59CAtDqArV",
        "outputId": "dc63e85d-9620-4e81-9845-5d5dc7d121a0"
      },
      "source": [
        "df.head()"
      ],
      "execution_count": 3,
      "outputs": [
        {
          "output_type": "execute_result",
          "data": {
            "text/html": [
              "<div>\n",
              "<style scoped>\n",
              "    .dataframe tbody tr th:only-of-type {\n",
              "        vertical-align: middle;\n",
              "    }\n",
              "\n",
              "    .dataframe tbody tr th {\n",
              "        vertical-align: top;\n",
              "    }\n",
              "\n",
              "    .dataframe thead th {\n",
              "        text-align: right;\n",
              "    }\n",
              "</style>\n",
              "<table border=\"1\" class=\"dataframe\">\n",
              "  <thead>\n",
              "    <tr style=\"text-align: right;\">\n",
              "      <th></th>\n",
              "      <th>month_temp</th>\n",
              "    </tr>\n",
              "  </thead>\n",
              "  <tbody>\n",
              "    <tr>\n",
              "      <th>0</th>\n",
              "      <td>0.24</td>\n",
              "    </tr>\n",
              "    <tr>\n",
              "      <th>1</th>\n",
              "      <td>0.46</td>\n",
              "    </tr>\n",
              "    <tr>\n",
              "      <th>2</th>\n",
              "      <td>0.31</td>\n",
              "    </tr>\n",
              "    <tr>\n",
              "      <th>3</th>\n",
              "      <td>0.33</td>\n",
              "    </tr>\n",
              "    <tr>\n",
              "      <th>4</th>\n",
              "      <td>0.27</td>\n",
              "    </tr>\n",
              "  </tbody>\n",
              "</table>\n",
              "</div>"
            ],
            "text/plain": [
              "   month_temp\n",
              "0        0.24\n",
              "1        0.46\n",
              "2        0.31\n",
              "3        0.33\n",
              "4        0.27"
            ]
          },
          "metadata": {
            "tags": []
          },
          "execution_count": 3
        }
      ]
    },
    {
      "cell_type": "code",
      "metadata": {
        "colab": {
          "base_uri": "https://localhost:8080/",
          "height": 282
        },
        "id": "2NVEfs-itbGT",
        "outputId": "8384f6f5-c4b0-4651-cf29-24cf8f1043c7"
      },
      "source": [
        "plt.plot(df['month_temp'])"
      ],
      "execution_count": 4,
      "outputs": [
        {
          "output_type": "execute_result",
          "data": {
            "text/plain": [
              "[<matplotlib.lines.Line2D at 0x7fac77de60d0>]"
            ]
          },
          "metadata": {
            "tags": []
          },
          "execution_count": 4
        },
        {
          "output_type": "display_data",
          "data": {
            "image/png": "[encoded data removed]",
            "text/plain": [
              "<Figure size 432x288 with 1 Axes>"
            ]
          },
          "metadata": {
            "tags": [],
            "needs_background": "light"
          }
        }
      ]
    },
    {
      "cell_type": "markdown",
      "metadata": {
        "id": "7MM7yZlsvTsr"
      },
      "source": [
        "From data plot, we can say that it is a non-stationary data series."
      ]
    },
    {
      "cell_type": "markdown",
      "metadata": {
        "id": "zLuzarVVp8On"
      },
      "source": [
        "**ADF Test**"
      ]
    },
    {
      "cell_type": "code",
      "metadata": {
        "colab": {
          "base_uri": "https://localhost:8080/"
        },
        "id": "35g3Q7B1p09S",
        "outputId": "fb55843c-662a-4496-ca8c-e87c719b6905"
      },
      "source": [
        "def adf_test(atr):\r\n",
        "    #Perform Dickey-Fuller test:\r\n",
        "    timeseries = df[atr].dropna()\r\n",
        "    print ('Results of Dickey-Fuller Test for ',atr,'\\n')\r\n",
        "    dftest = adfuller(timeseries, autolag='AIC')\r\n",
        "    dfoutput = pd.Series(dftest[0:4], index=['Test Statistic','p-value','#Lags Used','Number of Observations Used'])\r\n",
        "    for key,value in dftest[4].items():\r\n",
        "       dfoutput['Critical Value (%s)'%key] = value\r\n",
        "    print(dfoutput)\r\n",
        "\r\n",
        "#apply adf test on the series\r\n",
        "adf_test('month_temp')"
      ],
      "execution_count": 5,
      "outputs": [
        {
          "output_type": "stream",
          "text": [
            "Results of Dickey-Fuller Test for  month_temp \n",
            "\n",
            "Test Statistic                  -4.044912\n",
            "p-value                          0.001193\n",
            "#Lags Used                       3.000000\n",
            "Number of Observations Used    219.000000\n",
            "Critical Value (1%)             -3.460567\n",
            "Critical Value (5%)             -2.874830\n",
            "Critical Value (10%)            -2.573853\n",
            "dtype: float64\n"
          ],
          "name": "stdout"
        }
      ]
    },
    {
      "cell_type": "markdown",
      "metadata": {
        "id": "c50w669Kuatb"
      },
      "source": [
        "ADF test: The test statistic is less than the critical value, so we can reject the null hypothesis. So it is stationary series.\r\n",
        "Also P value is less than 0.05 so, from that also we can say it is stationary. "
      ]
    },
    {
      "cell_type": "markdown",
      "metadata": {
        "id": "ZjDyJwqKtoN0"
      },
      "source": [
        "**KPSS Test**"
      ]
    },
    {
      "cell_type": "code",
      "metadata": {
        "colab": {
          "base_uri": "https://localhost:8080/"
        },
        "id": "Ilqq78RRtAiP",
        "outputId": "0bb4cb88-3cdc-4f4f-f018-bf2ceba68896"
      },
      "source": [
        "def kpss_test(atr):\r\n",
        "    timeseries = df[atr].dropna()\r\n",
        "    print ('Results of KPSS Test for ',atr)\r\n",
        "    kpsstest = kpss(timeseries, regression='c')\r\n",
        "    kpss_output = pd.Series(kpsstest[0:3], index=['Test Statistic','p-value','Lags Used'])\r\n",
        "    for key,value in kpsstest[3].items():\r\n",
        "        kpss_output['Critical Value (%s)'%key] = value\r\n",
        "    print (kpss_output)\r\n",
        "kpss_test('month_temp')"
      ],
      "execution_count": 6,
      "outputs": [
        {
          "output_type": "stream",
          "text": [
            "Results of KPSS Test for  month_temp\n",
            "Test Statistic            0.664381\n",
            "p-value                   0.016784\n",
            "Lags Used                15.000000\n",
            "Critical Value (10%)      0.347000\n",
            "Critical Value (5%)       0.463000\n",
            "Critical Value (2.5%)     0.574000\n",
            "Critical Value (1%)       0.739000\n",
            "dtype: float64\n"
          ],
          "name": "stdout"
        }
      ]
    },
    {
      "cell_type": "markdown",
      "metadata": {
        "id": "V7yvqiNNutVZ"
      },
      "source": [
        "KPSS Test: The test statistic is greater than the critical value so we can reject the null hypothesis. So it is non-stationary series.\r\n"
      ]
    },
    {
      "cell_type": "markdown",
      "metadata": {
        "id": "fwdHipuZOl5O"
      },
      "source": [
        "SO from both tests, we can say it is differencing stationary series."
      ]
    },
    {
      "cell_type": "markdown",
      "metadata": {
        "id": "_6Z08HImsJvj"
      },
      "source": [
        "**Differencing with period 1 to make non-stationary data to stationary dataseries.**"
      ]
    },
    {
      "cell_type": "code",
      "metadata": {
        "id": "VP6ZodUktI_T"
      },
      "source": [
        "df['Diff'] = df['month_temp'].diff(periods=1)"
      ],
      "execution_count": 7,
      "outputs": []
    },
    {
      "cell_type": "code",
      "metadata": {
        "colab": {
          "base_uri": "https://localhost:8080/",
          "height": 402
        },
        "id": "lG1HYwKHGAH0",
        "outputId": "0e53e049-e135-4d50-dddc-2fd91d9bc4c7"
      },
      "source": [
        "df"
      ],
      "execution_count": 8,
      "outputs": [
        {
          "output_type": "execute_result",
          "data": {
            "text/html": [
              "<div>\n",
              "<style scoped>\n",
              "    .dataframe tbody tr th:only-of-type {\n",
              "        vertical-align: middle;\n",
              "    }\n",
              "\n",
              "    .dataframe tbody tr th {\n",
              "        vertical-align: top;\n",
              "    }\n",
              "\n",
              "    .dataframe thead th {\n",
              "        text-align: right;\n",
              "    }\n",
              "</style>\n",
              "<table border=\"1\" class=\"dataframe\">\n",
              "  <thead>\n",
              "    <tr style=\"text-align: right;\">\n",
              "      <th></th>\n",
              "      <th>month_temp</th>\n",
              "      <th>Diff</th>\n",
              "    </tr>\n",
              "  </thead>\n",
              "  <tbody>\n",
              "    <tr>\n",
              "      <th>0</th>\n",
              "      <td>0.24</td>\n",
              "      <td>NaN</td>\n",
              "    </tr>\n",
              "    <tr>\n",
              "      <th>1</th>\n",
              "      <td>0.46</td>\n",
              "      <td>0.22</td>\n",
              "    </tr>\n",
              "    <tr>\n",
              "      <th>2</th>\n",
              "      <td>0.31</td>\n",
              "      <td>-0.15</td>\n",
              "    </tr>\n",
              "    <tr>\n",
              "      <th>3</th>\n",
              "      <td>0.33</td>\n",
              "      <td>0.02</td>\n",
              "    </tr>\n",
              "    <tr>\n",
              "      <th>4</th>\n",
              "      <td>0.27</td>\n",
              "      <td>-0.06</td>\n",
              "    </tr>\n",
              "    <tr>\n",
              "      <th>...</th>\n",
              "      <td>...</td>\n",
              "      <td>...</td>\n",
              "    </tr>\n",
              "    <tr>\n",
              "      <th>218</th>\n",
              "      <td>0.69</td>\n",
              "      <td>0.24</td>\n",
              "    </tr>\n",
              "    <tr>\n",
              "      <th>219</th>\n",
              "      <td>0.73</td>\n",
              "      <td>0.04</td>\n",
              "    </tr>\n",
              "    <tr>\n",
              "      <th>220</th>\n",
              "      <td>0.78</td>\n",
              "      <td>0.05</td>\n",
              "    </tr>\n",
              "    <tr>\n",
              "      <th>221</th>\n",
              "      <td>0.62</td>\n",
              "      <td>-0.16</td>\n",
              "    </tr>\n",
              "    <tr>\n",
              "      <th>222</th>\n",
              "      <td>0.52</td>\n",
              "      <td>-0.10</td>\n",
              "    </tr>\n",
              "  </tbody>\n",
              "</table>\n",
              "<p>223 rows × 2 columns</p>\n",
              "</div>"
            ],
            "text/plain": [
              "     month_temp  Diff\n",
              "0          0.24   NaN\n",
              "1          0.46  0.22\n",
              "2          0.31 -0.15\n",
              "3          0.33  0.02\n",
              "4          0.27 -0.06\n",
              "..          ...   ...\n",
              "218        0.69  0.24\n",
              "219        0.73  0.04\n",
              "220        0.78  0.05\n",
              "221        0.62 -0.16\n",
              "222        0.52 -0.10\n",
              "\n",
              "[223 rows x 2 columns]"
            ]
          },
          "metadata": {
            "tags": []
          },
          "execution_count": 8
        }
      ]
    },
    {
      "cell_type": "code",
      "metadata": {
        "colab": {
          "base_uri": "https://localhost:8080/"
        },
        "id": "4RTvI2S37ZRE",
        "outputId": "68596521-269f-4379-be33-6b73f1ddcf9b"
      },
      "source": [
        "adf_test('Diff')"
      ],
      "execution_count": 9,
      "outputs": [
        {
          "output_type": "stream",
          "text": [
            "Results of Dickey-Fuller Test for  Diff \n",
            "\n",
            "Test Statistic                -1.306250e+01\n",
            "p-value                        2.033688e-24\n",
            "#Lags Used                     2.000000e+00\n",
            "Number of Observations Used    2.190000e+02\n",
            "Critical Value (1%)           -3.460567e+00\n",
            "Critical Value (5%)           -2.874830e+00\n",
            "Critical Value (10%)          -2.573853e+00\n",
            "dtype: float64\n"
          ],
          "name": "stdout"
        }
      ]
    },
    {
      "cell_type": "markdown",
      "metadata": {
        "id": "8QPoWeu2s2qp"
      },
      "source": [
        "p value is less than the 0.05 so data is stationary."
      ]
    },
    {
      "cell_type": "code",
      "metadata": {
        "colab": {
          "base_uri": "https://localhost:8080/",
          "height": 265
        },
        "id": "3ivGsOXIx-17",
        "outputId": "4b891dba-bca9-4982-9e7f-5f0e9391e30d"
      },
      "source": [
        "df['Diff'].plot()\r\n",
        "plt.show()"
      ],
      "execution_count": 10,
      "outputs": [
        {
          "output_type": "display_data",
          "data": {
            "image/png": "[encoded data removed]",
            "text/plain": [
              "<Figure size 432x288 with 1 Axes>"
            ]
          },
          "metadata": {
            "tags": [],
            "needs_background": "light"
          }
        }
      ]
    },
    {
      "cell_type": "code",
      "metadata": {
        "id": "jHuiToDslAOW"
      },
      "source": [
        "data1 = df.iloc[:,0].values\r\n",
        "dataset_array1 = [data1[0::1],data1[0::2],data1[0::4],data1[0::8],data1[0::12],data1[0::24]]"
      ],
      "execution_count": 11,
      "outputs": []
    },
    {
      "cell_type": "code",
      "metadata": {
        "id": "_AeHRsQ6Ig87"
      },
      "source": [
        "def plotting_function(MSE,MAE,name):\r\n",
        "  interval = [1,2,3,4,5,6]\r\n",
        "\r\n",
        "  barWidth = 0.25  \r\n",
        "  r1 = np.arange(len(interval))\r\n",
        "  r2 = [x + barWidth for x in r1]\r\n",
        "  \r\n",
        "  # Make the plot\r\n",
        "  plt.bar(r1, MSE, color='b', width=barWidth, label='MSE')\r\n",
        "  plt.bar(r2, MAE, color='g', width=barWidth, label='MAE')\r\n",
        "\r\n",
        "  plt.xlabel('interval', fontweight='bold')\r\n",
        "  plt.xticks([r + barWidth for r in range(len(interval))], ['1', '2', '4', '8', '12','24'])\r\n",
        "  plt.title('MSE and MAE plot for '+(name))\r\n",
        "  plt.legend()\r\n",
        "  plt.show()\r\n",
        " "
      ],
      "execution_count": 12,
      "outputs": []
    },
    {
      "cell_type": "markdown",
      "metadata": {
        "id": "TGkRrLc62laR"
      },
      "source": [
        "**single exponential smoothing**"
      ]
    },
    {
      "cell_type": "code",
      "metadata": {
        "id": "JGc-Q1YyJppf"
      },
      "source": [
        "def single_exp(data,interval,alpha):\r\n",
        "  array1=data\r\n",
        "  \r\n",
        "  fv = np.array([None] * len(array1))\r\n",
        "  for i in range(interval):\r\n",
        "    fv[i]=array1[i]\r\n",
        "   \r\n",
        "  for i in range(interval, len(array1)):\r\n",
        "    fv[i] = alpha * array1[i-interval] + (1 - alpha) * fv[i - interval]\r\n",
        "  array = array1-fv\r\n",
        "  arr = pd.DataFrame.from_dict({\"month_temp\":array1,\"Forecasted value\":fv,\"Error\":array})\r\n",
        "  return arr"
      ],
      "execution_count": 13,
      "outputs": []
    },
    {
      "cell_type": "code",
      "metadata": {
        "id": "O20tgYH7Qw7M",
        "colab": {
          "base_uri": "https://localhost:8080/"
        },
        "outputId": "7cdbe109-5aeb-4252-c735-7afbf7a549cb"
      },
      "source": [
        "interval = [1,2,4,8,12,24]\r\n",
        "mse1=[]\r\n",
        "mae1=[]\r\n",
        "for i in interval:\r\n",
        "  a = single_exp(df.iloc[:,0],i,0.9)\r\n",
        "  mse_val = ((a.Error)**2).sum()/(len(a.Error)-i)\r\n",
        "  mae_val = (abs(a.Error)).sum()/(len(a.Error)-i)\r\n",
        "  mse1.append(round(mse_val,6))\r\n",
        "  mae1.append(round(mae_val,6))\r\n",
        "\r\n",
        "print('MSE for each interval respectively \\n',mse1)\r\n",
        "print('MSE for each interval respectively \\n',mae1)"
      ],
      "execution_count": 14,
      "outputs": [
        {
          "output_type": "stream",
          "text": [
            "MSE for each interval respectively \n",
            " [0.013647, 0.016664, 0.020484, 0.027139, 0.030466, 0.030698]\n",
            "MSE for each interval respectively \n",
            " [0.092136, 0.100468, 0.116237, 0.133239, 0.138717, 0.139302]\n"
          ],
          "name": "stdout"
        }
      ]
    },
    {
      "cell_type": "code",
      "metadata": {
        "colab": {
          "base_uri": "https://localhost:8080/",
          "height": 295
        },
        "id": "CMKGbOi0Jcnb",
        "outputId": "6bf10035-f74d-4871-f294-5e979e8fb4c6"
      },
      "source": [
        "plotting_function(mse1,mae1,'single exponential smoothing')"
      ],
      "execution_count": 15,
      "outputs": [
        {
          "output_type": "display_data",
          "data": {
            "image/png": "[encoded data removed]",
            "text/plain": [
              "<Figure size 432x288 with 1 Axes>"
            ]
          },
          "metadata": {
            "tags": [],
            "needs_background": "light"
          }
        }
      ]
    },
    {
      "cell_type": "markdown",
      "metadata": {
        "id": "z2vWzVqJs9Y8"
      },
      "source": [
        "**Double Exponential Smoothing**"
      ]
    },
    {
      "cell_type": "code",
      "metadata": {
        "id": "pR1gtCEzQw4E"
      },
      "source": [
        "def double_exp(data,interval,alpha,beta):\r\n",
        "  array=data\r\n",
        "  f = np.array([None] * len(array))\r\n",
        "  a = np.array([None] * len(array))\r\n",
        "  b = np.array([None] * len(array))\r\n",
        "  \r\n",
        "\r\n",
        "  f[0]=data[0]\r\n",
        "  a[0] = array[0]\r\n",
        "  b[0] = (array[(len(array)-1)] - array[0])/(len(array)-1)\r\n",
        "\r\n",
        "  if interval<2:\r\n",
        "    f[1] = a[0]+b[0]\r\n",
        "    for i in range(2, len(array)):\r\n",
        "      a[i-1] = alpha*array[i-1] + (1-alpha)*(a[i-2]+b[i-2])\r\n",
        "      b[i-1] = beta*(a[i-1]-a[i-2]) + (1-beta)*b[i-2]\r\n",
        "      f[i] = a[i-1] + b[i-1]\r\n",
        "    arr = pd.DataFrame.from_dict({\"month_temp\":array,\"Forecasted value\":f,\"Error\":array-f})\r\n",
        "  else:\r\n",
        "    for i in range(2,interval):\r\n",
        "      a[i-1] = alpha*array[i-1] + (1-alpha)*(a[i-2]+b[i-2])\r\n",
        "      b[i-1] = beta*(a[i-1]-a[i-2]) + (1-beta)*b[i-2]\r\n",
        "\r\n",
        "    for i in range(1,interval):\r\n",
        "      f[i] = a[i-1] + b[i-1]\r\n",
        "\r\n",
        "    for i in range(interval, len(array)):\r\n",
        "      a[i-1] = alpha*array[i-1] + (1-alpha)*(a[i-2]+b[i-2])\r\n",
        "      b[i-1] = beta*(a[i-1]-a[i-2]) + (1-beta)*b[i-2]\r\n",
        "      f[i] = a[i-1] + b[i-1]\r\n",
        "    arr = pd.DataFrame.from_dict({\"month_temp\":array,\"Forecasted value\":f,\"Error\":array-f})\r\n",
        "  return arr"
      ],
      "execution_count": 16,
      "outputs": []
    },
    {
      "cell_type": "code",
      "metadata": {
        "colab": {
          "base_uri": "https://localhost:8080/"
        },
        "id": "sz9h8HQL4OR1",
        "outputId": "93e5be64-e63d-488c-f7e4-d5f104a97743"
      },
      "source": [
        "interval = [1,2,4,8,12,24]\r\n",
        "mse2=[]\r\n",
        "mae2=[]\r\n",
        "for i in interval:\r\n",
        "  a = double_exp(df.iloc[:,0],i,0.9,0.01)\r\n",
        "  mse_val = ((a.Error)**2).sum()/(len(a.Error)-i)\r\n",
        "  mae_val = (abs(a.Error)).sum()/(len(a.Error)-i)\r\n",
        "  mse2.append(round(mse_val,6))\r\n",
        "  mae2.append(round(mae_val,6))\r\n",
        "\r\n",
        "print('MSE for each interval respectively \\n',mse2)\r\n",
        "print('MSE for each interval respectively \\n',mae2)"
      ],
      "execution_count": 17,
      "outputs": [
        {
          "output_type": "stream",
          "text": [
            "MSE for each interval respectively \n",
            " [0.013771, 0.013833, 0.013959, 0.014219, 0.014489, 0.015362]\n",
            "MSE for each interval respectively \n",
            " [0.092392, 0.09281, 0.093658, 0.0954, 0.097209, 0.103071]\n"
          ],
          "name": "stdout"
        }
      ]
    },
    {
      "cell_type": "code",
      "metadata": {
        "colab": {
          "base_uri": "https://localhost:8080/",
          "height": 295
        },
        "id": "np9zyNuZMfgV",
        "outputId": "b9d61ff2-85fe-499f-daad-cb83e0d58402"
      },
      "source": [
        "plotting_function(mse2,mae2,'double exponential smoothing')"
      ],
      "execution_count": 18,
      "outputs": [
        {
          "output_type": "display_data",
          "data": {
            "image/png": "[encoded data removed]",
            "text/plain": [
              "<Figure size 432x288 with 1 Axes>"
            ]
          },
          "metadata": {
            "tags": [],
            "needs_background": "light"
          }
        }
      ]
    },
    {
      "cell_type": "markdown",
      "metadata": {
        "id": "UE-Ob6iByCO5"
      },
      "source": [
        "**Triple Exponential Smoothing**"
      ]
    },
    {
      "cell_type": "code",
      "metadata": {
        "id": "Hzpd0J0pB8sJ"
      },
      "source": [
        "def initial_trend(data, season_len):\r\n",
        "    sum = 0.0\r\n",
        "    for i in range(season_len):\r\n",
        "        sum += float(data[i+season_len] - data[i]) / season_len\r\n",
        "    return sum / season_len\r\n",
        "\r\n",
        "def initial_seasonal(data, season_len):\r\n",
        "  seasonals = {}\r\n",
        "  season_averages = []\r\n",
        "  n_seasons = int(len(data)/season_len)\r\n",
        "  # compute season averages\r\n",
        "  for j in range(n_seasons):\r\n",
        "    avg = ((data[(season_len*j):(season_len*j)+season_len]).sum())/float(season_len)\r\n",
        "    season_averages.append(avg)\r\n",
        "  # initial values\r\n",
        "  for i in range(season_len):\r\n",
        "    sum = 0.0\r\n",
        "    for j in range(n_seasons):\r\n",
        "      sum += data[season_len*j+i]-season_averages[j]\r\n",
        "    seasonals[i] = sum/n_seasons\r\n",
        "  return seasonals\r\n",
        "\r\n",
        "def triple_exp(data, season_len, alpha, beta, gamma, n_preds):\r\n",
        "  result = []\r\n",
        "  error = []\r\n",
        "  seasonals = initial_seasonal(data, season_len)\r\n",
        "  for i in range(len(data)+n_preds):\r\n",
        "    if i == 0: # initial values\r\n",
        "      smooth = data[0]\r\n",
        "      trend = initial_trend(data, season_len)\r\n",
        "      result.append(data[0])\r\n",
        "      continue\r\n",
        "    if i >= len(data): # we are forecasting\r\n",
        "      m = i - len(data) + 1\r\n",
        "      result.append((smooth + m*trend) + seasonals[i%season_len])\r\n",
        "    else:\r\n",
        "      val = data[i]\r\n",
        "      last_smooth, smooth = smooth, alpha*(val-seasonals[i%season_len]) + (1-alpha)*(smooth+trend)\r\n",
        "      trend = beta * (smooth-last_smooth) + (1-beta)*trend\r\n",
        "      seasonals[i%season_len] = gamma*(val-smooth) + (1-gamma)*seasonals[i%season_len]\r\n",
        "      forecast = smooth+trend+seasonals[i%season_len]\r\n",
        "      error = data - forecast\r\n",
        "      result.append(forecast)\r\n",
        "      \r\n",
        "  SE = np.square(error)\r\n",
        "  SSE = 0\r\n",
        "  for i in SE:\r\n",
        "    SSE+= i\r\n",
        "  mse_val = SSE/(len(data)-1)\r\n",
        "  mae_val = np.sum(abs(error)/len(error))\r\n",
        "  return mse_val,mae_val"
      ],
      "execution_count": 19,
      "outputs": []
    },
    {
      "cell_type": "code",
      "metadata": {
        "colab": {
          "base_uri": "https://localhost:8080/"
        },
        "id": "J_h0dT874PaB",
        "outputId": "bce8ffae-9dce-4c32-b0e8-bc8195889ebc"
      },
      "source": [
        "mse3 = []\r\n",
        "mae3 = []\r\n",
        "final_forecasted_list = []\r\n",
        "for dataframe in dataset_array1:\r\n",
        "  mse_val,mae_val = triple_exp(dataframe,1,0.9,0.02,0.95,1)\r\n",
        "  mse3.append(round(mse_val,6))\r\n",
        "  mae3.append(round(mae_val,6))\r\n",
        "\r\n",
        "print('MSE for each interval respectively \\n',mse3)\r\n",
        "print('MSE for each interval respectively \\n',mae3)"
      ],
      "execution_count": 20,
      "outputs": [
        {
          "output_type": "stream",
          "text": [
            "MSE for each interval respectively \n",
            " [0.019402, 0.021931, 0.093266, 0.056315, 0.084807, 0.330376]\n",
            "MSE for each interval respectively \n",
            " [0.112635, 0.118614, 0.265638, 0.182602, 0.233556, 0.512892]\n"
          ],
          "name": "stdout"
        }
      ]
    },
    {
      "cell_type": "code",
      "metadata": {
        "colab": {
          "base_uri": "https://localhost:8080/",
          "height": 295
        },
        "id": "dmpRCtkrMrSA",
        "outputId": "b7bff65b-43a2-424d-8843-70d4831a6cd9"
      },
      "source": [
        "plotting_function(mse3,mae3,'triple exponential smoothing')"
      ],
      "execution_count": 21,
      "outputs": [
        {
          "output_type": "display_data",
          "data": {
            "image/png": "[encoded data removed]",
            "text/plain": [
              "<Figure size 432x288 with 1 Axes>"
            ]
          },
          "metadata": {
            "tags": [],
            "needs_background": "light"
          }
        }
      ]
    },
    {
      "cell_type": "markdown",
      "metadata": {
        "id": "l1TbBf_36RHQ"
      },
      "source": [
        "**ACF PACF Plot**"
      ]
    },
    {
      "cell_type": "code",
      "metadata": {
        "colab": {
          "base_uri": "https://localhost:8080/",
          "height": 545
        },
        "id": "yfsntbp135f0",
        "outputId": "c62944f9-6a0c-4dd8-965a-bf5a34073aa3"
      },
      "source": [
        "plot_acf(df.iloc[:,1].dropna(), lags=10)\r\n",
        "plt.show()\r\n",
        "plot_pacf(df.iloc[:,1].dropna(), lags=10)\r\n",
        "plt.show()"
      ],
      "execution_count": 22,
      "outputs": [
        {
          "output_type": "display_data",
          "data": {
            "image/png": "[encoded data removed]",
            "text/plain": [
              "<Figure size 432x288 with 1 Axes>"
            ]
          },
          "metadata": {
            "tags": [],
            "needs_background": "light"
          }
        },
        {
          "output_type": "display_data",
          "data": {
            "image/png": "[encoded data removed]",
            "text/plain": [
              "<Figure size 432x288 with 1 Axes>"
            ]
          },
          "metadata": {
            "tags": [],
            "needs_background": "light"
          }
        }
      ]
    },
    {
      "cell_type": "markdown",
      "metadata": {
        "id": "iRLRGZRY5rEv"
      },
      "source": [
        "Checking for\r\n",
        "AR(1), AR(3), AR(5) : from partial autocorelation plot.\r\n",
        "\r\n",
        "MA(1),MA(3),MA(5) : from autocorelation plot."
      ]
    },
    {
      "cell_type": "markdown",
      "metadata": {
        "id": "uHFh9P7_yHfs"
      },
      "source": [
        "pmdarima package install"
      ]
    },
    {
      "cell_type": "code",
      "metadata": {
        "colab": {
          "base_uri": "https://localhost:8080/"
        },
        "id": "v_agQdKEVRM2",
        "outputId": "a1f65e95-316c-441d-8a18-e6a548318418"
      },
      "source": [
        "!pip3 install pmdarima"
      ],
      "execution_count": 23,
      "outputs": [
        {
          "output_type": "stream",
          "text": [
            "Requirement already satisfied: pmdarima in /usr/local/lib/python3.7/dist-packages (1.8.0)\n",
            "Requirement already satisfied: joblib>=0.11 in /usr/local/lib/python3.7/dist-packages (from pmdarima) (1.0.1)\n",
            "Requirement already satisfied: pandas>=0.19 in /usr/local/lib/python3.7/dist-packages (from pmdarima) (1.1.5)\n",
            "Requirement already satisfied: scipy>=1.3.2 in /usr/local/lib/python3.7/dist-packages (from pmdarima) (1.4.1)\n",
            "Requirement already satisfied: Cython<0.29.18,>=0.29 in /usr/local/lib/python3.7/dist-packages (from pmdarima) (0.29.17)\n",
            "Requirement already satisfied: scikit-learn>=0.22 in /usr/local/lib/python3.7/dist-packages (from pmdarima) (0.22.2.post1)\n",
            "Requirement already satisfied: statsmodels!=0.12.0,>=0.11 in /usr/local/lib/python3.7/dist-packages (from pmdarima) (0.12.2)\n",
            "Requirement already satisfied: urllib3 in /usr/local/lib/python3.7/dist-packages (from pmdarima) (1.24.3)\n",
            "Requirement already satisfied: setuptools!=50.0.0,>=38.6.0 in /usr/local/lib/python3.7/dist-packages (from pmdarima) (53.0.0)\n",
            "Requirement already satisfied: numpy>=1.17.3 in /usr/local/lib/python3.7/dist-packages (from pmdarima) (1.19.5)\n",
            "Requirement already satisfied: pytz>=2017.2 in /usr/local/lib/python3.7/dist-packages (from pandas>=0.19->pmdarima) (2018.9)\n",
            "Requirement already satisfied: python-dateutil>=2.7.3 in /usr/local/lib/python3.7/dist-packages (from pandas>=0.19->pmdarima) (2.8.1)\n",
            "Requirement already satisfied: patsy>=0.5 in /usr/local/lib/python3.7/dist-packages (from statsmodels!=0.12.0,>=0.11->pmdarima) (0.5.1)\n",
            "Requirement already satisfied: six>=1.5 in /usr/local/lib/python3.7/dist-packages (from python-dateutil>=2.7.3->pandas>=0.19->pmdarima) (1.15.0)\n"
          ],
          "name": "stdout"
        }
      ]
    },
    {
      "cell_type": "code",
      "metadata": {
        "colab": {
          "base_uri": "https://localhost:8080/"
        },
        "id": "BFInJMkLzpfr",
        "outputId": "f2a26493-8d85-456a-aedf-2e90c0197cfd"
      },
      "source": [
        "import pmdarima as pm\r\n",
        "model = pm.auto_arima(df.iloc[:,0], start_p=1, start_q=1,test='adf',max_p=5, max_q=3,m=1,d=None,seasonal=False,start_P=0, D=0, \r\n",
        "                      trace=True,error_action='ignore',  suppress_warnings=True,stepwise=True)\r\n",
        "print(model.summary())"
      ],
      "execution_count": 24,
      "outputs": [
        {
          "output_type": "stream",
          "text": [
            "Performing stepwise search to minimize aic\n",
            " ARIMA(1,0,1)(0,0,0)[0]             : AIC=-348.834, Time=0.23 sec\n",
            " ARIMA(0,0,0)(0,0,0)[0]             : AIC=377.837, Time=0.02 sec\n",
            " ARIMA(1,0,0)(0,0,0)[0]             : AIC=-305.484, Time=0.04 sec\n",
            " ARIMA(0,0,1)(0,0,0)[0]             : AIC=164.742, Time=0.06 sec\n",
            " ARIMA(2,0,1)(0,0,0)[0]             : AIC=-350.560, Time=0.21 sec\n",
            " ARIMA(2,0,0)(0,0,0)[0]             : AIC=-337.521, Time=0.08 sec\n",
            " ARIMA(3,0,1)(0,0,0)[0]             : AIC=-355.547, Time=0.30 sec\n",
            " ARIMA(3,0,0)(0,0,0)[0]             : AIC=inf, Time=0.13 sec\n",
            " ARIMA(4,0,1)(0,0,0)[0]             : AIC=-351.456, Time=0.34 sec\n",
            " ARIMA(3,0,2)(0,0,0)[0]             : AIC=-356.991, Time=0.58 sec\n",
            " ARIMA(2,0,2)(0,0,0)[0]             : AIC=-347.901, Time=0.36 sec\n",
            " ARIMA(4,0,2)(0,0,0)[0]             : AIC=-355.302, Time=0.53 sec\n",
            " ARIMA(3,0,3)(0,0,0)[0]             : AIC=-354.965, Time=0.32 sec\n",
            " ARIMA(2,0,3)(0,0,0)[0]             : AIC=-355.692, Time=0.40 sec\n",
            " ARIMA(4,0,3)(0,0,0)[0]             : AIC=-354.380, Time=0.56 sec\n",
            " ARIMA(3,0,2)(0,0,0)[0] intercept   : AIC=-363.650, Time=0.66 sec\n",
            " ARIMA(2,0,2)(0,0,0)[0] intercept   : AIC=-363.197, Time=0.67 sec\n",
            " ARIMA(3,0,1)(0,0,0)[0] intercept   : AIC=-361.875, Time=0.56 sec\n",
            " ARIMA(4,0,2)(0,0,0)[0] intercept   : AIC=-362.930, Time=0.70 sec\n",
            " ARIMA(3,0,3)(0,0,0)[0] intercept   : AIC=-362.613, Time=0.70 sec\n",
            " ARIMA(2,0,1)(0,0,0)[0] intercept   : AIC=-362.433, Time=0.40 sec\n",
            " ARIMA(2,0,3)(0,0,0)[0] intercept   : AIC=-364.620, Time=0.58 sec\n",
            " ARIMA(1,0,3)(0,0,0)[0] intercept   : AIC=-360.440, Time=0.72 sec\n",
            " ARIMA(1,0,2)(0,0,0)[0] intercept   : AIC=-359.751, Time=0.47 sec\n",
            "\n",
            "Best model:  ARIMA(2,0,3)(0,0,0)[0] intercept\n",
            "Total fit time: 9.662 seconds\n",
            "                               SARIMAX Results                                \n",
            "==============================================================================\n",
            "Dep. Variable:                      y   No. Observations:                  223\n",
            "Model:               SARIMAX(2, 0, 3)   Log Likelihood                 189.310\n",
            "Date:                Mon, 01 Mar 2021   AIC                           -364.620\n",
            "Time:                        05:26:50   BIC                           -340.770\n",
            "Sample:                             0   HQIC                          -354.992\n",
            "                                - 223                                         \n",
            "Covariance Type:                  opg                                         \n",
            "==============================================================================\n",
            "                 coef    std err          z      P>|z|      [0.025      0.975]\n",
            "------------------------------------------------------------------------------\n",
            "intercept      0.1124      0.059      1.896      0.058      -0.004       0.229\n",
            "ar.L1          0.0463      0.148      0.312      0.755      -0.245       0.337\n",
            "ar.L2          0.7454      0.115      6.498      0.000       0.521       0.970\n",
            "ma.L1          0.4373      0.167      2.622      0.009       0.110       0.764\n",
            "ma.L2         -0.3507      0.117     -3.004      0.003      -0.579      -0.122\n",
            "ma.L3         -0.1584      0.091     -1.744      0.081      -0.336       0.020\n",
            "sigma2         0.0107      0.001     10.549      0.000       0.009       0.013\n",
            "===================================================================================\n",
            "Ljung-Box (L1) (Q):                   0.04   Jarque-Bera (JB):                 0.04\n",
            "Prob(Q):                              0.84   Prob(JB):                         0.98\n",
            "Heteroskedasticity (H):               0.72   Skew:                            -0.00\n",
            "Prob(H) (two-sided):                  0.16   Kurtosis:                         3.06\n",
            "===================================================================================\n",
            "\n",
            "Warnings:\n",
            "[1] Covariance matrix calculated using the outer product of gradients (complex-step).\n"
          ],
          "name": "stdout"
        }
      ]
    },
    {
      "cell_type": "markdown",
      "metadata": {
        "id": "BqZRnHcM_usY"
      },
      "source": [
        "**AR model**"
      ]
    },
    {
      "cell_type": "code",
      "metadata": {
        "id": "EoeO0hP73ppj"
      },
      "source": [
        "from statsmodels.tsa.arima_model import ARIMA\r\n",
        "def ar_model(data):\r\n",
        "  model=ARIMA(data,order=(2,0,0)).fit()\r\n",
        "  prediction = model.fittedvalues\r\n",
        "  error = data - prediction\r\n",
        "  mse_val = np.sum((error)**2)/len(error)\r\n",
        "  mae_val = np.sum(abs(error))/len(error)\r\n",
        "  return mse_val,mae_val,prediction"
      ],
      "execution_count": 25,
      "outputs": []
    },
    {
      "cell_type": "code",
      "metadata": {
        "colab": {
          "base_uri": "https://localhost:8080/"
        },
        "id": "h240IiIs2D_i",
        "outputId": "2d6fa7aa-db9a-46fd-f8d9-a4e6126f97d5"
      },
      "source": [
        "mse4 = []\r\n",
        "mae4 = []\r\n",
        "final_forecasted_list = []\r\n",
        "for dataframe in dataset_array1:\r\n",
        "  mse_val,mae_val,prediction = ar_model(dataframe)\r\n",
        "  mse4.append(round(mse_val,6))\r\n",
        "  mae4.append(round(mae_val,6))\r\n",
        "  final_forecasted_list.append(prediction)\r\n",
        "\r\n",
        "print('MSE for each interval respectively \\n',mse4)\r\n",
        "print('MSE for each interval respectively \\n',mae4)"
      ],
      "execution_count": 26,
      "outputs": [
        {
          "output_type": "stream",
          "text": [
            "MSE for each interval respectively \n",
            " [0.011325, 0.014669, 0.016696, 0.018922, 0.034283, 0.02252]\n",
            "MSE for each interval respectively \n",
            " [0.085273, 0.095156, 0.097788, 0.109238, 0.152433, 0.121277]\n"
          ],
          "name": "stdout"
        }
      ]
    },
    {
      "cell_type": "code",
      "metadata": {
        "colab": {
          "base_uri": "https://localhost:8080/",
          "height": 295
        },
        "id": "7vRy7w0cM2fT",
        "outputId": "675c650b-360d-44ff-e79c-b70a737e3f0d"
      },
      "source": [
        "plotting_function(mse4,mae4,'AR Model')"
      ],
      "execution_count": 27,
      "outputs": [
        {
          "output_type": "display_data",
          "data": {
            "image/png": "[encoded data removed]",
            "text/plain": [
              "<Figure size 432x288 with 1 Axes>"
            ]
          },
          "metadata": {
            "tags": [],
            "needs_background": "light"
          }
        }
      ]
    },
    {
      "cell_type": "markdown",
      "metadata": {
        "id": "sv42iqpP_zxA"
      },
      "source": [
        "**MA Model**"
      ]
    },
    {
      "cell_type": "code",
      "metadata": {
        "id": "An5M7F2zDRzF"
      },
      "source": [
        "def ma_model(data):\r\n",
        "  model=ARIMA(data,order=(0,0,3)).fit()\r\n",
        "  prediction = model.fittedvalues\r\n",
        "  error = data - prediction\r\n",
        "  mse_val = np.sum((error)**2)/len(error)\r\n",
        "  mae_val = np.sum(abs(error))/len(error)\r\n",
        "  return mse_val,mae_val,prediction"
      ],
      "execution_count": 34,
      "outputs": []
    },
    {
      "cell_type": "code",
      "metadata": {
        "colab": {
          "base_uri": "https://localhost:8080/"
        },
        "id": "W38JKzhU8puF",
        "outputId": "f54778ee-45b0-4d01-b712-10ea3d85728b"
      },
      "source": [
        "mse5 = []\r\n",
        "mae5 = []\r\n",
        "final_forecasted_list = []\r\n",
        "for dataframe in dataset_array1:\r\n",
        "  mse_val,mae_val,prediction = ma_model(dataframe)\r\n",
        "  mse5.append(round(mse_val,6))\r\n",
        "  mae5.append(round(mae_val,6))\r\n",
        "  final_forecasted_list.append(prediction)\r\n",
        "\r\n",
        "print('MSE for each interval respectively \\n',mse5)\r\n",
        "print('MSE for each interval respectively \\n',mae5)"
      ],
      "execution_count": 35,
      "outputs": [
        {
          "output_type": "stream",
          "text": [
            "MSE for each interval respectively \n",
            " [0.0122, 0.015474, 0.016045, 0.018175, 0.030591, 0.019547]\n",
            "MSE for each interval respectively \n",
            " [0.087731, 0.097666, 0.098421, 0.103227, 0.146241, 0.113056]\n"
          ],
          "name": "stdout"
        }
      ]
    },
    {
      "cell_type": "code",
      "metadata": {
        "colab": {
          "base_uri": "https://localhost:8080/",
          "height": 295
        },
        "id": "n9H88t0HNHwf",
        "outputId": "faadacc1-4604-43f5-a9bf-9a8eb25534a8"
      },
      "source": [
        "plotting_function(mse5,mae5,'MA Model')"
      ],
      "execution_count": 36,
      "outputs": [
        {
          "output_type": "display_data",
          "data": {
            "image/png": "[encoded data removed]",
            "text/plain": [
              "<Figure size 432x288 with 1 Axes>"
            ]
          },
          "metadata": {
            "tags": [],
            "needs_background": "light"
          }
        }
      ]
    },
    {
      "cell_type": "markdown",
      "metadata": {
        "id": "xeNbZWGP_31g"
      },
      "source": [
        "**ARIMA Model**"
      ]
    },
    {
      "cell_type": "code",
      "metadata": {
        "id": "puFXKa2HDeFC"
      },
      "source": [
        "def arima_model(data):\r\n",
        "  model=ARIMA(data,order=(0,1,1)).fit()\r\n",
        "  prediction = model.fittedvalues\r\n",
        "  data = np.delete(data,[0])\r\n",
        "  error = data - prediction\r\n",
        "  mse_val = np.sum((error)**2)/len(error)\r\n",
        "  mae_val = np.sum(abs(error))/len(error)\r\n",
        "  return mse_val,mae_val,prediction"
      ],
      "execution_count": 47,
      "outputs": []
    },
    {
      "cell_type": "code",
      "metadata": {
        "colab": {
          "base_uri": "https://localhost:8080/"
        },
        "id": "x9Vqk9WJ9BeM",
        "outputId": "190ceac3-d8f5-42e7-8c9a-325d7402358e"
      },
      "source": [
        "mse6 = []\r\n",
        "mae6 = []\r\n",
        "final_forecasted_list = []\r\n",
        "for dataframe in dataset_array1:\r\n",
        "  mse_val,mae_val,prediction = arima_model(dataframe)\r\n",
        "  mse6.append(round(mse_val,6))\r\n",
        "  mae6.append(round(mae_val,6))\r\n",
        "  final_forecasted_list.append(prediction)\r\n",
        "\r\n",
        "print('MSE for each interval respectively \\n',mse6)\r\n",
        "print('MSE for each interval respectively \\n',mae6)"
      ],
      "execution_count": 48,
      "outputs": [
        {
          "output_type": "stream",
          "text": [
            "MSE for each interval respectively \n",
            " [0.323165, 0.33308, 0.312935, 0.311519, 0.354497, 0.263685]\n",
            "MSE for each interval respectively \n",
            " [0.545577, 0.551101, 0.531739, 0.523724, 0.550318, 0.490124]\n"
          ],
          "name": "stdout"
        }
      ]
    },
    {
      "cell_type": "code",
      "metadata": {
        "id": "z9CIdpgvXwhu",
        "colab": {
          "base_uri": "https://localhost:8080/",
          "height": 295
        },
        "outputId": "763447ff-5510-467b-fd7d-977264ffd7de"
      },
      "source": [
        "plotting_function(mse6,mae6,'ARIMA Model')"
      ],
      "execution_count": 49,
      "outputs": [
        {
          "output_type": "display_data",
          "data": {
            "image/png": "[encoded data removed]",
            "text/plain": [
              "<Figure size 432x288 with 1 Axes>"
            ]
          },
          "metadata": {
            "tags": [],
            "needs_background": "light"
          }
        }
      ]
    },
    {
      "cell_type": "code",
      "metadata": {
        "id": "n9dbl6cRNjw8"
      },
      "source": [
        ""
      ],
      "execution_count": 33,
      "outputs": []
    }
  ]
}