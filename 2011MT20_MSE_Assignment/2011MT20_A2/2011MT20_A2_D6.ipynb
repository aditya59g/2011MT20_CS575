{
  "nbformat": 4,
  "nbformat_minor": 0,
  "metadata": {
    "colab": {
      "name": "2011MT20_A3_D6.ipynb",
      "provenance": [],
      "collapsed_sections": []
    },
    "kernelspec": {
      "name": "python3",
      "display_name": "Python 3"
    }
  },
  "cells": [
    {
      "cell_type": "markdown",
      "metadata": {
        "id": "x44iqQmVYC7z"
      },
      "source": [
        "## Dataset6_ftse"
      ]
    },
    {
      "cell_type": "code",
      "metadata": {
        "id": "zVMJhNwLmhrz"
      },
      "source": [
        "import pandas as pd\r\n",
        "import numpy as np\r\n",
        "from statsmodels.tsa.stattools import adfuller,kpss\r\n",
        "from statsmodels.graphics.tsaplots import plot_acf,plot_pacf\r\n",
        "import matplotlib.pyplot as plt\r\n",
        "import warnings\r\n",
        "warnings.simplefilter('ignore')"
      ],
      "execution_count": 1,
      "outputs": []
    },
    {
      "cell_type": "code",
      "metadata": {
        "id": "hscsKoS-pYeH"
      },
      "source": [
        "df = pd.read_csv('Dataset6_ftse.csv', names = [\"ftse\"])"
      ],
      "execution_count": 2,
      "outputs": []
    },
    {
      "cell_type": "code",
      "metadata": {
        "colab": {
          "base_uri": "https://localhost:8080/",
          "height": 195
        },
        "id": "CB59CAtDqArV",
        "outputId": "6d9b23f1-064f-45e0-ea7a-b2b91ae52e96"
      },
      "source": [
        "df.head()"
      ],
      "execution_count": 3,
      "outputs": [
        {
          "output_type": "execute_result",
          "data": {
            "text/html": [
              "<div>\n",
              "<style scoped>\n",
              "    .dataframe tbody tr th:only-of-type {\n",
              "        vertical-align: middle;\n",
              "    }\n",
              "\n",
              "    .dataframe tbody tr th {\n",
              "        vertical-align: top;\n",
              "    }\n",
              "\n",
              "    .dataframe thead th {\n",
              "        text-align: right;\n",
              "    }\n",
              "</style>\n",
              "<table border=\"1\" class=\"dataframe\">\n",
              "  <thead>\n",
              "    <tr style=\"text-align: right;\">\n",
              "      <th></th>\n",
              "      <th>ftse</th>\n",
              "    </tr>\n",
              "  </thead>\n",
              "  <tbody>\n",
              "    <tr>\n",
              "      <th>0</th>\n",
              "      <td>6567.36</td>\n",
              "    </tr>\n",
              "    <tr>\n",
              "      <th>1</th>\n",
              "      <td>6597.37</td>\n",
              "    </tr>\n",
              "    <tr>\n",
              "      <th>2</th>\n",
              "      <td>6636.16</td>\n",
              "    </tr>\n",
              "    <tr>\n",
              "      <th>3</th>\n",
              "      <td>6682.48</td>\n",
              "    </tr>\n",
              "    <tr>\n",
              "      <th>4</th>\n",
              "      <td>6677.52</td>\n",
              "    </tr>\n",
              "  </tbody>\n",
              "</table>\n",
              "</div>"
            ],
            "text/plain": [
              "      ftse\n",
              "0  6567.36\n",
              "1  6597.37\n",
              "2  6636.16\n",
              "3  6682.48\n",
              "4  6677.52"
            ]
          },
          "metadata": {
            "tags": []
          },
          "execution_count": 3
        }
      ]
    },
    {
      "cell_type": "code",
      "metadata": {
        "colab": {
          "base_uri": "https://localhost:8080/",
          "height": 282
        },
        "id": "2NVEfs-itbGT",
        "outputId": "3907b1d5-3e85-456a-bff9-cddf873ce1f0"
      },
      "source": [
        "plt.plot(df['ftse'])"
      ],
      "execution_count": 4,
      "outputs": [
        {
          "output_type": "execute_result",
          "data": {
            "text/plain": [
              "[<matplotlib.lines.Line2D at 0x7f254a01c6d0>]"
            ]
          },
          "metadata": {
            "tags": []
          },
          "execution_count": 4
        },
        {
          "output_type": "display_data",
          "data": {
            "image/png": "[encoded data removed]",
            "text/plain": [
              "<Figure size 432x288 with 1 Axes>"
            ]
          },
          "metadata": {
            "tags": [],
            "needs_background": "light"
          }
        }
      ]
    },
    {
      "cell_type": "markdown",
      "metadata": {
        "id": "zLuzarVVp8On"
      },
      "source": [
        "**ADF Test**"
      ]
    },
    {
      "cell_type": "code",
      "metadata": {
        "colab": {
          "base_uri": "https://localhost:8080/"
        },
        "id": "35g3Q7B1p09S",
        "outputId": "da7e36d1-511a-4e88-c7ba-80c62fc63f3d"
      },
      "source": [
        "def adf_test(atr):\r\n",
        "    #Perform Dickey-Fuller test:\r\n",
        "    timeseries = df[atr].dropna()\r\n",
        "    print ('Results of Dickey-Fuller Test for ',atr,'\\n')\r\n",
        "    dftest = adfuller(timeseries, autolag='AIC')\r\n",
        "    dfoutput = pd.Series(dftest[0:4], index=['Test Statistic','p-value','#Lags Used','Number of Observations Used'])\r\n",
        "    for key,value in dftest[4].items():\r\n",
        "       dfoutput['Critical Value (%s)'%key] = value\r\n",
        "    print(dfoutput)\r\n",
        "\r\n",
        "#apply adf test on the series\r\n",
        "adf_test('ftse')"
      ],
      "execution_count": 6,
      "outputs": [
        {
          "output_type": "stream",
          "text": [
            "Results of Dickey-Fuller Test for  ftse \n",
            "\n",
            "Test Statistic                  -2.315797\n",
            "p-value                          0.166924\n",
            "#Lags Used                       0.000000\n",
            "Number of Observations Used    140.000000\n",
            "Critical Value (1%)             -3.477945\n",
            "Critical Value (5%)             -2.882416\n",
            "Critical Value (10%)            -2.577902\n",
            "dtype: float64\n"
          ],
          "name": "stdout"
        }
      ]
    },
    {
      "cell_type": "markdown",
      "metadata": {
        "id": "c50w669Kuatb"
      },
      "source": [
        "ADF test: The test statistic is less than the critical value, so we can reject the null hypothesis. So it is stationary series.\r\n",
        "Also P value is approxly 0.05 so, it is stationary."
      ]
    },
    {
      "cell_type": "markdown",
      "metadata": {
        "id": "ZjDyJwqKtoN0"
      },
      "source": [
        "**KPSS Test**"
      ]
    },
    {
      "cell_type": "code",
      "metadata": {
        "colab": {
          "base_uri": "https://localhost:8080/"
        },
        "id": "Ilqq78RRtAiP",
        "outputId": "7074a09c-19f4-4893-afc8-9d6f1e87ad11"
      },
      "source": [
        "def kpss_test(atr):\r\n",
        "    timeseries = df[atr].dropna()\r\n",
        "    print ('Results of KPSS Test for ',atr)\r\n",
        "    kpsstest = kpss(timeseries, regression='c')\r\n",
        "    kpss_output = pd.Series(kpsstest[0:3], index=['Test Statistic','p-value','Lags Used'])\r\n",
        "    for key,value in kpsstest[3].items():\r\n",
        "        kpss_output['Critical Value (%s)'%key] = value\r\n",
        "    print (kpss_output)\r\n",
        "kpss_test('ftse')"
      ],
      "execution_count": 7,
      "outputs": [
        {
          "output_type": "stream",
          "text": [
            "Results of KPSS Test for  ftse\n",
            "Test Statistic            0.348183\n",
            "p-value                   0.099490\n",
            "Lags Used                14.000000\n",
            "Critical Value (10%)      0.347000\n",
            "Critical Value (5%)       0.463000\n",
            "Critical Value (2.5%)     0.574000\n",
            "Critical Value (1%)       0.739000\n",
            "dtype: float64\n"
          ],
          "name": "stdout"
        }
      ]
    },
    {
      "cell_type": "markdown",
      "metadata": {
        "id": "V7yvqiNNutVZ"
      },
      "source": [
        "KPSS Test: The test statistic is less than the critical value so we can't reject the null hypothesis. So it is stationary series.\r\n"
      ]
    },
    {
      "cell_type": "markdown",
      "metadata": {
        "id": "fwdHipuZOl5O"
      },
      "source": [
        "SO from both tests, we can say it is stationary series."
      ]
    },
    {
      "cell_type": "code",
      "metadata": {
        "id": "jHuiToDslAOW"
      },
      "source": [
        "data1 = df.iloc[:,0].values\r\n",
        "dataset_array1 = [data1[0::1],data1[0::2],data1[0::4],data1[0::8],data1[0::12],data1[0::24]]"
      ],
      "execution_count": 9,
      "outputs": []
    },
    {
      "cell_type": "code",
      "metadata": {
        "id": "_AeHRsQ6Ig87"
      },
      "source": [
        "def plotting_function(MSE,MAE,name):\r\n",
        "  interval = [1,2,3,4,5,6]\r\n",
        "\r\n",
        "  barWidth = 0.25  \r\n",
        "  r1 = np.arange(len(interval))\r\n",
        "  r2 = [x + barWidth for x in r1]\r\n",
        "  \r\n",
        "  # Make the plot\r\n",
        "  plt.bar(r1, MSE, color='b', width=barWidth, label='MSE')\r\n",
        "  plt.bar(r2, MAE, color='g', width=barWidth, label='MAE')\r\n",
        "\r\n",
        "  plt.xlabel('interval', fontweight='bold')\r\n",
        "  plt.xticks([r + barWidth for r in range(len(interval))], ['1', '2', '4', '8', '12','24'])\r\n",
        "  plt.title('MSE and MAE plot for '+(name))\r\n",
        "  plt.legend()\r\n",
        "  plt.show()\r\n",
        " "
      ],
      "execution_count": 10,
      "outputs": []
    },
    {
      "cell_type": "markdown",
      "metadata": {
        "id": "TGkRrLc62laR"
      },
      "source": [
        "**single exponential smoothing**"
      ]
    },
    {
      "cell_type": "code",
      "metadata": {
        "id": "JGc-Q1YyJppf"
      },
      "source": [
        "def single_exp(data,interval,alpha):\r\n",
        "  array1=data\r\n",
        "  \r\n",
        "  fv = np.array([None] * len(array1))\r\n",
        "  for i in range(interval):\r\n",
        "    fv[i]=array1[i]\r\n",
        "   \r\n",
        "  for i in range(interval, len(array1)):\r\n",
        "    fv[i] = alpha * array1[i-interval] + (1 - alpha) * fv[i - interval]\r\n",
        "  array = array1-fv\r\n",
        "  arr = pd.DataFrame.from_dict({\"ftse\":array1,\"Forecasted value\":fv,\"Error\":array})\r\n",
        "  return arr"
      ],
      "execution_count": 11,
      "outputs": []
    },
    {
      "cell_type": "code",
      "metadata": {
        "id": "O20tgYH7Qw7M",
        "colab": {
          "base_uri": "https://localhost:8080/"
        },
        "outputId": "d29dc68e-8af2-47b8-9a08-aff06004d34d"
      },
      "source": [
        "interval = [1,2,4,8,12,24]\r\n",
        "mse1=[]\r\n",
        "mae1=[]\r\n",
        "for i in interval:\r\n",
        "  a = single_exp(df.iloc[:,0],i,0.9)\r\n",
        "  mse_val = ((a.Error)**2).sum()/(len(a.Error)-i)\r\n",
        "  mae_val = (abs(a.Error)).sum()/(len(a.Error)-i)\r\n",
        "  mse1.append(round(mse_val,6))\r\n",
        "  mae1.append(round(mae_val,6))\r\n",
        "\r\n",
        "print('MSE for each interval respectively \\n',mse1)\r\n",
        "print('MSE for each interval respectively \\n',mae1)"
      ],
      "execution_count": 12,
      "outputs": [
        {
          "output_type": "stream",
          "text": [
            "MSE for each interval respectively \n",
            " [1672.458875, 3568.779268, 7969.041959, 14638.153482, 19277.444792, 21381.6381]\n",
            "MSE for each interval respectively \n",
            " [31.634948, 46.9068, 70.370794, 93.437646, 107.826145, 121.276231]\n"
          ],
          "name": "stdout"
        }
      ]
    },
    {
      "cell_type": "code",
      "metadata": {
        "colab": {
          "base_uri": "https://localhost:8080/",
          "height": 295
        },
        "id": "CMKGbOi0Jcnb",
        "outputId": "0f96ed84-58bf-4078-9396-ddb29080a652"
      },
      "source": [
        "plotting_function(mse1,mae1,'single exponential smoothing')"
      ],
      "execution_count": 13,
      "outputs": [
        {
          "output_type": "display_data",
          "data": {
            "image/png": "[encoded data removed]",
            "text/plain": [
              "<Figure size 432x288 with 1 Axes>"
            ]
          },
          "metadata": {
            "tags": [],
            "needs_background": "light"
          }
        }
      ]
    },
    {
      "cell_type": "markdown",
      "metadata": {
        "id": "z2vWzVqJs9Y8"
      },
      "source": [
        "**Double Exponential Smoothing**"
      ]
    },
    {
      "cell_type": "code",
      "metadata": {
        "id": "pR1gtCEzQw4E"
      },
      "source": [
        "def double_exp(data,interval,alpha,beta):\r\n",
        "  array=data\r\n",
        "  f = np.array([None] * len(array))\r\n",
        "  a = np.array([None] * len(array))\r\n",
        "  b = np.array([None] * len(array))\r\n",
        "  \r\n",
        "\r\n",
        "  f[0]=data[0]\r\n",
        "  a[0] = array[0]\r\n",
        "  b[0] = (array[(len(array)-1)] - array[0])/(len(array)-1)\r\n",
        "\r\n",
        "  if interval<2:\r\n",
        "    f[1] = a[0]+b[0]\r\n",
        "    for i in range(2, len(array)):\r\n",
        "      a[i-1] = alpha*array[i-1] + (1-alpha)*(a[i-2]+b[i-2])\r\n",
        "      b[i-1] = beta*(a[i-1]-a[i-2]) + (1-beta)*b[i-2]\r\n",
        "      f[i] = a[i-1] + b[i-1]\r\n",
        "    arr = pd.DataFrame.from_dict({\"ftse\":array,\"Forecasted value\":f,\"Error\":array-f})\r\n",
        "  else:\r\n",
        "    for i in range(2,interval):\r\n",
        "      a[i-1] = alpha*array[i-1] + (1-alpha)*(a[i-2]+b[i-2])\r\n",
        "      b[i-1] = beta*(a[i-1]-a[i-2]) + (1-beta)*b[i-2]\r\n",
        "\r\n",
        "    for i in range(1,interval):\r\n",
        "      f[i] = a[i-1] + b[i-1]\r\n",
        "\r\n",
        "    for i in range(interval, len(array)):\r\n",
        "      a[i-1] = alpha*array[i-1] + (1-alpha)*(a[i-2]+b[i-2])\r\n",
        "      b[i-1] = beta*(a[i-1]-a[i-2]) + (1-beta)*b[i-2]\r\n",
        "      f[i] = a[i-1] + b[i-1]\r\n",
        "    arr = pd.DataFrame.from_dict({\"ftse\":array,\"Forecasted value\":f,\"Error\":array-f})\r\n",
        "  return arr"
      ],
      "execution_count": 14,
      "outputs": []
    },
    {
      "cell_type": "code",
      "metadata": {
        "colab": {
          "base_uri": "https://localhost:8080/"
        },
        "id": "sz9h8HQL4OR1",
        "outputId": "b89aaae5-f178-497a-ee55-d75820d10f60"
      },
      "source": [
        "interval = [1,2,4,8,12,24]\r\n",
        "mse2=[]\r\n",
        "mae2=[]\r\n",
        "for i in interval:\r\n",
        "  a = double_exp(df.iloc[:,0],i,0.9,0.01)\r\n",
        "  mse_val = ((a.Error)**2).sum()/(len(a.Error)-i)\r\n",
        "  mae_val = (abs(a.Error)).sum()/(len(a.Error)-i)\r\n",
        "  mse2.append(round(mse_val,6))\r\n",
        "  mae2.append(round(mae_val,6))\r\n",
        "\r\n",
        "print('MSE for each interval respectively \\n',mse2)\r\n",
        "print('MSE for each interval respectively \\n',mae2)"
      ],
      "execution_count": 15,
      "outputs": [
        {
          "output_type": "stream",
          "text": [
            "MSE for each interval respectively \n",
            " [1682.50687, 1694.611236, 1719.350086, 1771.059863, 1825.976448, 2013.256084]\n",
            "MSE for each interval respectively \n",
            " [31.869107, 32.098381, 32.56697, 33.546428, 34.586627, 38.133974]\n"
          ],
          "name": "stdout"
        }
      ]
    },
    {
      "cell_type": "code",
      "metadata": {
        "colab": {
          "base_uri": "https://localhost:8080/",
          "height": 295
        },
        "id": "np9zyNuZMfgV",
        "outputId": "77b19653-4a84-40cd-d8c6-93a8cdb57af7"
      },
      "source": [
        "plotting_function(mse2,mae2,'double exponential smoothing')"
      ],
      "execution_count": 16,
      "outputs": [
        {
          "output_type": "display_data",
          "data": {
            "image/png": "[encoded data removed]",
            "text/plain": [
              "<Figure size 432x288 with 1 Axes>"
            ]
          },
          "metadata": {
            "tags": [],
            "needs_background": "light"
          }
        }
      ]
    },
    {
      "cell_type": "markdown",
      "metadata": {
        "id": "UE-Ob6iByCO5"
      },
      "source": [
        "**Triple Exponential Smoothing**"
      ]
    },
    {
      "cell_type": "code",
      "metadata": {
        "id": "Hzpd0J0pB8sJ"
      },
      "source": [
        "def initial_trend(data, season_len):\r\n",
        "    sum = 0.0\r\n",
        "    for i in range(season_len):\r\n",
        "        sum += float(data[i+season_len] - data[i]) / season_len\r\n",
        "    return sum / season_len\r\n",
        "\r\n",
        "def initial_seasonal(data, season_len):\r\n",
        "  seasonals = {}\r\n",
        "  season_averages = []\r\n",
        "  n_seasons = int(len(data)/season_len)\r\n",
        "  # compute season averages\r\n",
        "  for j in range(n_seasons):\r\n",
        "    avg = ((data[(season_len*j):(season_len*j)+season_len]).sum())/float(season_len)\r\n",
        "    season_averages.append(avg)\r\n",
        "  # initial values\r\n",
        "  for i in range(season_len):\r\n",
        "    sum = 0.0\r\n",
        "    for j in range(n_seasons):\r\n",
        "      sum += data[season_len*j+i]-season_averages[j]\r\n",
        "    seasonals[i] = sum/n_seasons\r\n",
        "  return seasonals\r\n",
        "\r\n",
        "def triple_exp(data, season_len, alpha, beta, gamma, n_preds):\r\n",
        "  result = []\r\n",
        "  error = []\r\n",
        "  seasonals = initial_seasonal(data, season_len)\r\n",
        "  for i in range(len(data)+n_preds):\r\n",
        "    if i == 0: # initial values\r\n",
        "      smooth = data[0]\r\n",
        "      trend = initial_trend(data, season_len)\r\n",
        "      result.append(data[0])\r\n",
        "      continue\r\n",
        "    if i >= len(data): # we are forecasting\r\n",
        "      m = i - len(data) + 1\r\n",
        "      result.append((smooth + m*trend) + seasonals[i%season_len])\r\n",
        "    else:\r\n",
        "      val = data[i]\r\n",
        "      last_smooth, smooth = smooth, alpha*(val-seasonals[i%season_len]) + (1-alpha)*(smooth+trend)\r\n",
        "      trend = beta * (smooth-last_smooth) + (1-beta)*trend\r\n",
        "      seasonals[i%season_len] = gamma*(val-smooth) + (1-gamma)*seasonals[i%season_len]\r\n",
        "      forecast = smooth+trend+seasonals[i%season_len]\r\n",
        "      error = data - forecast\r\n",
        "      result.append(forecast)\r\n",
        "      \r\n",
        "  SE = np.square(error)\r\n",
        "  SSE = 0\r\n",
        "  for i in SE:\r\n",
        "    SSE+= i\r\n",
        "  mse_val = SSE/(len(data)-1)\r\n",
        "  mae_val = np.sum(abs(error)/len(error))\r\n",
        "  return mse_val,mae_val"
      ],
      "execution_count": 17,
      "outputs": []
    },
    {
      "cell_type": "code",
      "metadata": {
        "colab": {
          "base_uri": "https://localhost:8080/"
        },
        "id": "J_h0dT874PaB",
        "outputId": "27987e80-db86-400c-f219-ed0a3e6c365e"
      },
      "source": [
        "mse3 = []\r\n",
        "mae3 = []\r\n",
        "final_forecasted_list = []\r\n",
        "for dataframe in dataset_array1:\r\n",
        "  mse_val,mae_val = triple_exp(dataframe,1,0.9,0.02,0.95,1)\r\n",
        "  mse3.append(round(mse_val,6))\r\n",
        "  mae3.append(round(mae_val,6))\r\n",
        "\r\n",
        "print('MSE for each interval respectively \\n',mse3)\r\n",
        "print('MSE for each interval respectively \\n',mae3)"
      ],
      "execution_count": 18,
      "outputs": [
        {
          "output_type": "stream",
          "text": [
            "MSE for each interval respectively \n",
            " [26286.024081, 30660.42042, 43527.306202, 30415.754299, 14350.665188, 101794.332426]\n",
            "MSE for each interval respectively \n",
            " [122.967619, 138.367839, 174.860681, 131.252106, 100.679956, 269.542665]\n"
          ],
          "name": "stdout"
        }
      ]
    },
    {
      "cell_type": "code",
      "metadata": {
        "colab": {
          "base_uri": "https://localhost:8080/",
          "height": 295
        },
        "id": "dmpRCtkrMrSA",
        "outputId": "1c37c658-3b8a-4280-c1e8-62caa35506c7"
      },
      "source": [
        "plotting_function(mse3,mae3,'triple exponential smoothing')"
      ],
      "execution_count": 19,
      "outputs": [
        {
          "output_type": "display_data",
          "data": {
            "image/png": "[encoded data removed]",
            "text/plain": [
              "<Figure size 432x288 with 1 Axes>"
            ]
          },
          "metadata": {
            "tags": [],
            "needs_background": "light"
          }
        }
      ]
    },
    {
      "cell_type": "markdown",
      "metadata": {
        "id": "l1TbBf_36RHQ"
      },
      "source": [
        "**ACF PACF Plot**"
      ]
    },
    {
      "cell_type": "code",
      "metadata": {
        "colab": {
          "base_uri": "https://localhost:8080/",
          "height": 545
        },
        "id": "yfsntbp135f0",
        "outputId": "b3d25794-afec-44cc-d36e-94276b6172e1"
      },
      "source": [
        "plot_acf(df.iloc[:,1].dropna(), lags=10)\r\n",
        "plt.show()\r\n",
        "plot_pacf(df.iloc[:,1].dropna(), lags=10)\r\n",
        "plt.show()"
      ],
      "execution_count": 20,
      "outputs": [
        {
          "output_type": "display_data",
          "data": {
            "image/png": "[encoded data removed]",
            "text/plain": [
              "<Figure size 432x288 with 1 Axes>"
            ]
          },
          "metadata": {
            "tags": [],
            "needs_background": "light"
          }
        },
        {
          "output_type": "display_data",
          "data": {
            "image/png": "[encoded data removed]",
            "text/plain": [
              "<Figure size 432x288 with 1 Axes>"
            ]
          },
          "metadata": {
            "tags": [],
            "needs_background": "light"
          }
        }
      ]
    },
    {
      "cell_type": "markdown",
      "metadata": {
        "id": "uHFh9P7_yHfs"
      },
      "source": [
        "pmdarima package install"
      ]
    },
    {
      "cell_type": "code",
      "metadata": {
        "colab": {
          "base_uri": "https://localhost:8080/"
        },
        "id": "v_agQdKEVRM2",
        "outputId": "2f7e06ec-b153-4748-b327-d22863168339"
      },
      "source": [
        "!pip3 install pmdarima"
      ],
      "execution_count": 21,
      "outputs": [
        {
          "output_type": "stream",
          "text": [
            "Requirement already satisfied: pmdarima in /usr/local/lib/python3.7/dist-packages (1.8.0)\n",
            "Requirement already satisfied: scipy>=1.3.2 in /usr/local/lib/python3.7/dist-packages (from pmdarima) (1.4.1)\n",
            "Requirement already satisfied: scikit-learn>=0.22 in /usr/local/lib/python3.7/dist-packages (from pmdarima) (0.22.2.post1)\n",
            "Requirement already satisfied: urllib3 in /usr/local/lib/python3.7/dist-packages (from pmdarima) (1.24.3)\n",
            "Requirement already satisfied: joblib>=0.11 in /usr/local/lib/python3.7/dist-packages (from pmdarima) (1.0.1)\n",
            "Requirement already satisfied: pandas>=0.19 in /usr/local/lib/python3.7/dist-packages (from pmdarima) (1.1.5)\n",
            "Requirement already satisfied: numpy>=1.17.3 in /usr/local/lib/python3.7/dist-packages (from pmdarima) (1.19.5)\n",
            "Requirement already satisfied: setuptools!=50.0.0,>=38.6.0 in /usr/local/lib/python3.7/dist-packages (from pmdarima) (53.0.0)\n",
            "Requirement already satisfied: Cython<0.29.18,>=0.29 in /usr/local/lib/python3.7/dist-packages (from pmdarima) (0.29.17)\n",
            "Requirement already satisfied: statsmodels!=0.12.0,>=0.11 in /usr/local/lib/python3.7/dist-packages (from pmdarima) (0.12.2)\n",
            "Requirement already satisfied: python-dateutil>=2.7.3 in /usr/local/lib/python3.7/dist-packages (from pandas>=0.19->pmdarima) (2.8.1)\n",
            "Requirement already satisfied: pytz>=2017.2 in /usr/local/lib/python3.7/dist-packages (from pandas>=0.19->pmdarima) (2018.9)\n",
            "Requirement already satisfied: patsy>=0.5 in /usr/local/lib/python3.7/dist-packages (from statsmodels!=0.12.0,>=0.11->pmdarima) (0.5.1)\n",
            "Requirement already satisfied: six>=1.5 in /usr/local/lib/python3.7/dist-packages (from python-dateutil>=2.7.3->pandas>=0.19->pmdarima) (1.15.0)\n"
          ],
          "name": "stdout"
        }
      ]
    },
    {
      "cell_type": "code",
      "metadata": {
        "colab": {
          "base_uri": "https://localhost:8080/"
        },
        "id": "BFInJMkLzpfr",
        "outputId": "eae18241-9080-4201-e12b-6682927b8fbb"
      },
      "source": [
        "import pmdarima as pm\r\n",
        "model = pm.auto_arima(df.iloc[:,0], start_p=1, start_q=1,test='adf',max_p=5, max_q=3,m=1,d=None,seasonal=False,start_P=0, D=0, \r\n",
        "                      trace=True,error_action='ignore',  suppress_warnings=True,stepwise=True)\r\n",
        "print(model.summary())"
      ],
      "execution_count": 22,
      "outputs": [
        {
          "output_type": "stream",
          "text": [
            "Performing stepwise search to minimize aic\n",
            " ARIMA(1,1,1)(0,0,0)[0] intercept   : AIC=1439.769, Time=0.28 sec\n",
            " ARIMA(0,1,0)(0,0,0)[0] intercept   : AIC=1437.066, Time=0.02 sec\n",
            " ARIMA(1,1,0)(0,0,0)[0] intercept   : AIC=1438.793, Time=0.07 sec\n",
            " ARIMA(0,1,1)(0,0,0)[0] intercept   : AIC=1438.848, Time=0.11 sec\n",
            " ARIMA(0,1,0)(0,0,0)[0]             : AIC=1435.383, Time=0.02 sec\n",
            "\n",
            "Best model:  ARIMA(0,1,0)(0,0,0)[0]          \n",
            "Total fit time: 0.509 seconds\n",
            "                               SARIMAX Results                                \n",
            "==============================================================================\n",
            "Dep. Variable:                      y   No. Observations:                  141\n",
            "Model:               SARIMAX(0, 1, 0)   Log Likelihood                -716.691\n",
            "Date:                Mon, 01 Mar 2021   AIC                           1435.383\n",
            "Time:                        06:03:50   BIC                           1438.324\n",
            "Sample:                             0   HQIC                          1436.578\n",
            "                                - 141                                         \n",
            "Covariance Type:                  opg                                         \n",
            "==============================================================================\n",
            "                 coef    std err          z      P>|z|      [0.025      0.975]\n",
            "------------------------------------------------------------------------------\n",
            "sigma2      1636.9273    178.529      9.169      0.000    1287.018    1986.837\n",
            "===================================================================================\n",
            "Ljung-Box (L1) (Q):                   0.26   Jarque-Bera (JB):                 0.94\n",
            "Prob(Q):                              0.61   Prob(JB):                         0.62\n",
            "Heteroskedasticity (H):               1.93   Skew:                             0.01\n",
            "Prob(H) (two-sided):                  0.03   Kurtosis:                         3.40\n",
            "===================================================================================\n",
            "\n",
            "Warnings:\n",
            "[1] Covariance matrix calculated using the outer product of gradients (complex-step).\n"
          ],
          "name": "stdout"
        }
      ]
    },
    {
      "cell_type": "markdown",
      "metadata": {
        "id": "BqZRnHcM_usY"
      },
      "source": [
        "**AR model**"
      ]
    },
    {
      "cell_type": "code",
      "metadata": {
        "id": "EoeO0hP73ppj"
      },
      "source": [
        "from statsmodels.tsa.arima_model import ARIMA\r\n",
        "def ar_model(data):\r\n",
        "  model=ARIMA(data,order=(1,0,0)).fit()\r\n",
        "  prediction = model.fittedvalues\r\n",
        "  error = data - prediction\r\n",
        "  mse_val = np.sum((error)**2)/len(error)\r\n",
        "  mae_val = np.sum(abs(error))/len(error)\r\n",
        "  return mse_val,mae_val,prediction"
      ],
      "execution_count": 25,
      "outputs": []
    },
    {
      "cell_type": "code",
      "metadata": {
        "colab": {
          "base_uri": "https://localhost:8080/"
        },
        "id": "h240IiIs2D_i",
        "outputId": "6aa3729f-a3e9-44dc-b073-0562ce5433d8"
      },
      "source": [
        "mse4 = []\r\n",
        "mae4 = []\r\n",
        "final_forecasted_list = []\r\n",
        "for dataframe in dataset_array1:\r\n",
        "  mse_val,mae_val,prediction = ar_model(dataframe)\r\n",
        "  mse4.append(round(mse_val,6))\r\n",
        "  mae4.append(round(mae_val,6))\r\n",
        "  final_forecasted_list.append(prediction)\r\n",
        "\r\n",
        "print('MSE for each interval respectively \\n',mse4)\r\n",
        "print('MSE for each interval respectively \\n',mae4)"
      ],
      "execution_count": 26,
      "outputs": [
        {
          "output_type": "stream",
          "text": [
            "MSE for each interval respectively \n",
            " [1730.607587, 3210.008755, 6453.695408, 10696.92366, 11705.442952, 12114.504671]\n",
            "MSE for each interval respectively \n",
            " [31.415877, 45.041177, 63.757767, 80.411194, 99.169848, 93.264671]\n"
          ],
          "name": "stdout"
        }
      ]
    },
    {
      "cell_type": "code",
      "metadata": {
        "colab": {
          "base_uri": "https://localhost:8080/",
          "height": 295
        },
        "id": "7vRy7w0cM2fT",
        "outputId": "aa20c7d8-d299-4350-fb98-ccad2ac72a92"
      },
      "source": [
        "plotting_function(mse4,mae4,'AR Model')"
      ],
      "execution_count": 27,
      "outputs": [
        {
          "output_type": "display_data",
          "data": {
            "image/png": "[encoded data removed]",
            "text/plain": [
              "<Figure size 432x288 with 1 Axes>"
            ]
          },
          "metadata": {
            "tags": [],
            "needs_background": "light"
          }
        }
      ]
    },
    {
      "cell_type": "markdown",
      "metadata": {
        "id": "sv42iqpP_zxA"
      },
      "source": [
        "**MA Model**"
      ]
    },
    {
      "cell_type": "code",
      "metadata": {
        "id": "An5M7F2zDRzF"
      },
      "source": [
        "def ma_model(data):\r\n",
        "  model=ARIMA(data,order=(0,0,1)).fit()\r\n",
        "  prediction = model.fittedvalues\r\n",
        "  error = data - prediction\r\n",
        "  mse_val = np.sum((error)**2)/len(error)\r\n",
        "  mae_val = np.sum(abs(error))/len(error)\r\n",
        "  return mse_val,mae_val,prediction"
      ],
      "execution_count": 28,
      "outputs": []
    },
    {
      "cell_type": "code",
      "metadata": {
        "colab": {
          "base_uri": "https://localhost:8080/"
        },
        "id": "W38JKzhU8puF",
        "outputId": "eab03976-54bb-47ba-f799-43d7e300903e"
      },
      "source": [
        "\r\n",
        "mse5 = []\r\n",
        "mae5 = []\r\n",
        "final_forecasted_list = []\r\n",
        "for dataframe in dataset_array1:\r\n",
        "  mse_val,mae_val,prediction = ma_model(dataframe)\r\n",
        "  mse5.append(round(mse_val,6))\r\n",
        "  mae5.append(round(mae_val,6))\r\n",
        "  final_forecasted_list.append(prediction)\r\n",
        "\r\n",
        "print('MSE for each interval respectively \\n',mse5)\r\n",
        "print('MSE for each interval respectively \\n',mae5)"
      ],
      "execution_count": 29,
      "outputs": [
        {
          "output_type": "stream",
          "text": [
            "MSE for each interval respectively \n",
            " [5014.512369, 5273.467598, 7307.293902, 10669.574975, 10118.782027, 10302.931515]\n",
            "MSE for each interval respectively \n",
            " [60.56038, 60.328257, 66.371851, 81.354384, 93.497286, 92.023897]\n"
          ],
          "name": "stdout"
        }
      ]
    },
    {
      "cell_type": "code",
      "metadata": {
        "colab": {
          "base_uri": "https://localhost:8080/",
          "height": 295
        },
        "id": "n9H88t0HNHwf",
        "outputId": "02bf4ee6-f6fc-49e4-e904-74828a20b400"
      },
      "source": [
        "plotting_function(mse5,mae5,'MA Model')"
      ],
      "execution_count": 30,
      "outputs": [
        {
          "output_type": "display_data",
          "data": {
            "image/png": "[encoded data removed]",
            "text/plain": [
              "<Figure size 432x288 with 1 Axes>"
            ]
          },
          "metadata": {
            "tags": [],
            "needs_background": "light"
          }
        }
      ]
    },
    {
      "cell_type": "markdown",
      "metadata": {
        "id": "xeNbZWGP_31g"
      },
      "source": [
        "**ARIMA Model**"
      ]
    },
    {
      "cell_type": "code",
      "metadata": {
        "id": "puFXKa2HDeFC"
      },
      "source": [
        "def arima_model(data):\r\n",
        "  model=ARIMA(data,order=(0,1,1)).fit()\r\n",
        "  prediction = model.fittedvalues\r\n",
        "  data = np.delete(data,[0])\r\n",
        "  error = data - prediction\r\n",
        "  mse_val = np.sum((error)**2)/len(error)\r\n",
        "  mae_val = np.sum(abs(error))/len(error)\r\n",
        "  return mse_val,mae_val,prediction"
      ],
      "execution_count": 31,
      "outputs": []
    },
    {
      "cell_type": "code",
      "metadata": {
        "colab": {
          "base_uri": "https://localhost:8080/"
        },
        "id": "x9Vqk9WJ9BeM",
        "outputId": "ee872a9b-e2b9-40b5-aa73-17fbb81fd233"
      },
      "source": [
        "mse6 = []\r\n",
        "mae6 = []\r\n",
        "final_forecasted_list = []\r\n",
        "for dataframe in dataset_array1:\r\n",
        "  mse_val,mae_val,prediction = arima_model(dataframe)\r\n",
        "  mse6.append(round(mse_val,6))\r\n",
        "  mae6.append(round(mae_val,6))\r\n",
        "  final_forecasted_list.append(prediction)\r\n",
        "\r\n",
        "print('MSE for each interval respectively \\n',mse6)\r\n",
        "print('MSE for each interval respectively \\n',mae6)"
      ],
      "execution_count": 32,
      "outputs": [
        {
          "output_type": "stream",
          "text": [
            "MSE for each interval respectively \n",
            " [45204998.890783, 45168394.212525, 45162378.929808, 45512173.106636, 45236884.038448, 44708347.847302]\n",
            "MSE for each interval respectively \n",
            " [6722.580322, 6719.947219, 6719.519122, 6744.397919, 6725.209219, 6686.076323]\n"
          ],
          "name": "stdout"
        }
      ]
    },
    {
      "cell_type": "code",
      "metadata": {
        "id": "z9CIdpgvXwhu",
        "colab": {
          "base_uri": "https://localhost:8080/",
          "height": 295
        },
        "outputId": "11cdeb8c-05de-4dd9-c98e-10636e611e78"
      },
      "source": [
        "plotting_function(mse6,mae6,'ARIMA Model')"
      ],
      "execution_count": 33,
      "outputs": [
        {
          "output_type": "display_data",
          "data": {
            "image/png": "[encoded data removed]",
            "text/plain": [
              "<Figure size 432x288 with 1 Axes>"
            ]
          },
          "metadata": {
            "tags": [],
            "needs_background": "light"
          }
        }
      ]
    },
    {
      "cell_type": "code",
      "metadata": {
        "id": "n9dbl6cRNjw8"
      },
      "source": [
        ""
      ],
      "execution_count": null,
      "outputs": []
    }
  ]
}