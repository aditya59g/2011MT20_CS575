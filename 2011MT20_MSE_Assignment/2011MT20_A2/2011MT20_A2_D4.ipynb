{
  "nbformat": 4,
  "nbformat_minor": 0,
  "metadata": {
    "colab": {
      "name": "2011MT20_A3_D4.ipynb",
      "provenance": [],
      "collapsed_sections": []
    },
    "kernelspec": {
      "name": "python3",
      "display_name": "Python 3"
    }
  },
  "cells": [
    {
      "cell_type": "markdown",
      "metadata": {
        "id": "x44iqQmVYC7z"
      },
      "source": [
        "## Dataset4_nasdaq"
      ]
    },
    {
      "cell_type": "code",
      "metadata": {
        "id": "zVMJhNwLmhrz"
      },
      "source": [
        "import pandas as pd\r\n",
        "import numpy as np\r\n",
        "from statsmodels.tsa.stattools import adfuller,kpss\r\n",
        "from statsmodels.graphics.tsaplots import plot_acf,plot_pacf\r\n",
        "import matplotlib.pyplot as plt\r\n",
        "import warnings\r\n",
        "warnings.simplefilter('ignore')"
      ],
      "execution_count": 2,
      "outputs": []
    },
    {
      "cell_type": "code",
      "metadata": {
        "id": "hscsKoS-pYeH"
      },
      "source": [
        "df = pd.read_csv('Dataset4_yahoo304.96.8.14.csv', names = [\"yahoo\"])"
      ],
      "execution_count": 6,
      "outputs": []
    },
    {
      "cell_type": "code",
      "metadata": {
        "colab": {
          "base_uri": "https://localhost:8080/",
          "height": 195
        },
        "id": "CB59CAtDqArV",
        "outputId": "71163fd5-f12f-4834-9b34-244f099eed7e"
      },
      "source": [
        "df.head()"
      ],
      "execution_count": 7,
      "outputs": [
        {
          "output_type": "execute_result",
          "data": {
            "text/html": [
              "<div>\n",
              "<style scoped>\n",
              "    .dataframe tbody tr th:only-of-type {\n",
              "        vertical-align: middle;\n",
              "    }\n",
              "\n",
              "    .dataframe tbody tr th {\n",
              "        vertical-align: top;\n",
              "    }\n",
              "\n",
              "    .dataframe thead th {\n",
              "        text-align: right;\n",
              "    }\n",
              "</style>\n",
              "<table border=\"1\" class=\"dataframe\">\n",
              "  <thead>\n",
              "    <tr style=\"text-align: right;\">\n",
              "      <th></th>\n",
              "      <th>yahoo</th>\n",
              "    </tr>\n",
              "  </thead>\n",
              "  <tbody>\n",
              "    <tr>\n",
              "      <th>0</th>\n",
              "      <td>35.91</td>\n",
              "    </tr>\n",
              "    <tr>\n",
              "      <th>1</th>\n",
              "      <td>35.66</td>\n",
              "    </tr>\n",
              "    <tr>\n",
              "      <th>2</th>\n",
              "      <td>35.79</td>\n",
              "    </tr>\n",
              "    <tr>\n",
              "      <th>3</th>\n",
              "      <td>35.70</td>\n",
              "    </tr>\n",
              "    <tr>\n",
              "      <th>4</th>\n",
              "      <td>36.53</td>\n",
              "    </tr>\n",
              "  </tbody>\n",
              "</table>\n",
              "</div>"
            ],
            "text/plain": [
              "   yahoo\n",
              "0  35.91\n",
              "1  35.66\n",
              "2  35.79\n",
              "3  35.70\n",
              "4  36.53"
            ]
          },
          "metadata": {
            "tags": []
          },
          "execution_count": 7
        }
      ]
    },
    {
      "cell_type": "code",
      "metadata": {
        "colab": {
          "base_uri": "https://localhost:8080/",
          "height": 282
        },
        "id": "2NVEfs-itbGT",
        "outputId": "1bbd0359-6469-4c13-ca48-0bad9c727a95"
      },
      "source": [
        "plt.plot(df['yahoo'])"
      ],
      "execution_count": 9,
      "outputs": [
        {
          "output_type": "execute_result",
          "data": {
            "text/plain": [
              "[<matplotlib.lines.Line2D at 0x7f6ef9f06110>]"
            ]
          },
          "metadata": {
            "tags": []
          },
          "execution_count": 9
        },
        {
          "output_type": "display_data",
          "data": {
            "image/png": "[encoded data removed]",
            "text/plain": [
              "<Figure size 432x288 with 1 Axes>"
            ]
          },
          "metadata": {
            "tags": [],
            "needs_background": "light"
          }
        }
      ]
    },
    {
      "cell_type": "markdown",
      "metadata": {
        "id": "zLuzarVVp8On"
      },
      "source": [
        "**ADF Test**"
      ]
    },
    {
      "cell_type": "code",
      "metadata": {
        "colab": {
          "base_uri": "https://localhost:8080/"
        },
        "id": "35g3Q7B1p09S",
        "outputId": "0f4245fd-9626-4dda-e046-9bdedea61196"
      },
      "source": [
        "def adf_test(atr):\r\n",
        "    #Perform Dickey-Fuller test:\r\n",
        "    timeseries = df[atr].dropna()\r\n",
        "    print ('Results of Dickey-Fuller Test for ',atr,'\\n')\r\n",
        "    dftest = adfuller(timeseries, autolag='AIC')\r\n",
        "    dfoutput = pd.Series(dftest[0:4], index=['Test Statistic','p-value','#Lags Used','Number of Observations Used'])\r\n",
        "    for key,value in dftest[4].items():\r\n",
        "       dfoutput['Critical Value (%s)'%key] = value\r\n",
        "    print(dfoutput)\r\n",
        "\r\n",
        "#apply adf test on the series\r\n",
        "adf_test('yahoo')"
      ],
      "execution_count": 11,
      "outputs": [
        {
          "output_type": "stream",
          "text": [
            "Results of Dickey-Fuller Test for  yahoo \n",
            "\n",
            "Test Statistic                   -3.286733\n",
            "p-value                           0.015482\n",
            "#Lags Used                       30.000000\n",
            "Number of Observations Used    4582.000000\n",
            "Critical Value (1%)              -3.431778\n",
            "Critical Value (5%)              -2.862171\n",
            "Critical Value (10%)             -2.567106\n",
            "dtype: float64\n"
          ],
          "name": "stdout"
        }
      ]
    },
    {
      "cell_type": "markdown",
      "metadata": {
        "id": "c50w669Kuatb"
      },
      "source": [
        "ADF test: The test statistic is less than the critical value, so we can reject the null hypothesis. So it is stationary series.\r\n",
        "Also P value is less than 0.05 so, from that also we can say it is stationary. "
      ]
    },
    {
      "cell_type": "markdown",
      "metadata": {
        "id": "ZjDyJwqKtoN0"
      },
      "source": [
        "**KPSS Test**"
      ]
    },
    {
      "cell_type": "code",
      "metadata": {
        "colab": {
          "base_uri": "https://localhost:8080/"
        },
        "id": "Ilqq78RRtAiP",
        "outputId": "7fd1333b-713f-43f3-869a-8f492580fb61"
      },
      "source": [
        "def kpss_test(atr):\r\n",
        "    timeseries = df[atr].dropna()\r\n",
        "    print ('Results of KPSS Test for ',atr)\r\n",
        "    kpsstest = kpss(timeseries, regression='c')\r\n",
        "    kpss_output = pd.Series(kpsstest[0:3], index=['Test Statistic','p-value','Lags Used'])\r\n",
        "    for key,value in kpsstest[3].items():\r\n",
        "        kpss_output['Critical Value (%s)'%key] = value\r\n",
        "    print (kpss_output)\r\n",
        "kpss_test('yahoo')"
      ],
      "execution_count": 13,
      "outputs": [
        {
          "output_type": "stream",
          "text": [
            "Results of KPSS Test for  yahoo\n",
            "Test Statistic            3.701679\n",
            "p-value                   0.010000\n",
            "Lags Used                32.000000\n",
            "Critical Value (10%)      0.347000\n",
            "Critical Value (5%)       0.463000\n",
            "Critical Value (2.5%)     0.574000\n",
            "Critical Value (1%)       0.739000\n",
            "dtype: float64\n"
          ],
          "name": "stdout"
        }
      ]
    },
    {
      "cell_type": "markdown",
      "metadata": {
        "id": "V7yvqiNNutVZ"
      },
      "source": [
        "KPSS Test: The test statistic is greater than the critical value so we can reject the null hypothesis. So it is non-stationary series.\r\n"
      ]
    },
    {
      "cell_type": "markdown",
      "metadata": {
        "id": "fwdHipuZOl5O"
      },
      "source": [
        "SO from both tests, we can say it is differential stationary series."
      ]
    },
    {
      "cell_type": "markdown",
      "metadata": {
        "id": "_6Z08HImsJvj"
      },
      "source": [
        "**Differencing with period 1 to make non-stationary data to stationary dataseries.**"
      ]
    },
    {
      "cell_type": "code",
      "metadata": {
        "id": "VP6ZodUktI_T"
      },
      "source": [
        "df['Diff'] = df['yahoo'].diff(periods=1)"
      ],
      "execution_count": 15,
      "outputs": []
    },
    {
      "cell_type": "code",
      "metadata": {
        "colab": {
          "base_uri": "https://localhost:8080/",
          "height": 402
        },
        "id": "lG1HYwKHGAH0",
        "outputId": "7ca3e94f-f786-40bf-b16a-e5f128666734"
      },
      "source": [
        "df"
      ],
      "execution_count": 16,
      "outputs": [
        {
          "output_type": "execute_result",
          "data": {
            "text/html": [
              "<div>\n",
              "<style scoped>\n",
              "    .dataframe tbody tr th:only-of-type {\n",
              "        vertical-align: middle;\n",
              "    }\n",
              "\n",
              "    .dataframe tbody tr th {\n",
              "        vertical-align: top;\n",
              "    }\n",
              "\n",
              "    .dataframe thead th {\n",
              "        text-align: right;\n",
              "    }\n",
              "</style>\n",
              "<table border=\"1\" class=\"dataframe\">\n",
              "  <thead>\n",
              "    <tr style=\"text-align: right;\">\n",
              "      <th></th>\n",
              "      <th>yahoo</th>\n",
              "      <th>Diff</th>\n",
              "    </tr>\n",
              "  </thead>\n",
              "  <tbody>\n",
              "    <tr>\n",
              "      <th>0</th>\n",
              "      <td>35.91</td>\n",
              "      <td>NaN</td>\n",
              "    </tr>\n",
              "    <tr>\n",
              "      <th>1</th>\n",
              "      <td>35.66</td>\n",
              "      <td>-0.25</td>\n",
              "    </tr>\n",
              "    <tr>\n",
              "      <th>2</th>\n",
              "      <td>35.79</td>\n",
              "      <td>0.13</td>\n",
              "    </tr>\n",
              "    <tr>\n",
              "      <th>3</th>\n",
              "      <td>35.70</td>\n",
              "      <td>-0.09</td>\n",
              "    </tr>\n",
              "    <tr>\n",
              "      <th>4</th>\n",
              "      <td>36.53</td>\n",
              "      <td>0.83</td>\n",
              "    </tr>\n",
              "    <tr>\n",
              "      <th>...</th>\n",
              "      <td>...</td>\n",
              "      <td>...</td>\n",
              "    </tr>\n",
              "    <tr>\n",
              "      <th>4608</th>\n",
              "      <td>29.25</td>\n",
              "      <td>0.38</td>\n",
              "    </tr>\n",
              "    <tr>\n",
              "      <th>4609</th>\n",
              "      <td>27.00</td>\n",
              "      <td>-2.25</td>\n",
              "    </tr>\n",
              "    <tr>\n",
              "      <th>4610</th>\n",
              "      <td>28.75</td>\n",
              "      <td>1.75</td>\n",
              "    </tr>\n",
              "    <tr>\n",
              "      <th>4611</th>\n",
              "      <td>32.25</td>\n",
              "      <td>3.50</td>\n",
              "    </tr>\n",
              "    <tr>\n",
              "      <th>4612</th>\n",
              "      <td>33.00</td>\n",
              "      <td>0.75</td>\n",
              "    </tr>\n",
              "  </tbody>\n",
              "</table>\n",
              "<p>4613 rows × 2 columns</p>\n",
              "</div>"
            ],
            "text/plain": [
              "      yahoo  Diff\n",
              "0     35.91   NaN\n",
              "1     35.66 -0.25\n",
              "2     35.79  0.13\n",
              "3     35.70 -0.09\n",
              "4     36.53  0.83\n",
              "...     ...   ...\n",
              "4608  29.25  0.38\n",
              "4609  27.00 -2.25\n",
              "4610  28.75  1.75\n",
              "4611  32.25  3.50\n",
              "4612  33.00  0.75\n",
              "\n",
              "[4613 rows x 2 columns]"
            ]
          },
          "metadata": {
            "tags": []
          },
          "execution_count": 16
        }
      ]
    },
    {
      "cell_type": "code",
      "metadata": {
        "colab": {
          "base_uri": "https://localhost:8080/"
        },
        "id": "4RTvI2S37ZRE",
        "outputId": "fbcb48af-e025-43ed-c2c7-033c71f6c38d"
      },
      "source": [
        "adf_test('Diff')"
      ],
      "execution_count": 17,
      "outputs": [
        {
          "output_type": "stream",
          "text": [
            "Results of Dickey-Fuller Test for  Diff \n",
            "\n",
            "Test Statistic                -1.208386e+01\n",
            "p-value                        2.200560e-22\n",
            "#Lags Used                     3.200000e+01\n",
            "Number of Observations Used    4.579000e+03\n",
            "Critical Value (1%)           -3.431779e+00\n",
            "Critical Value (5%)           -2.862171e+00\n",
            "Critical Value (10%)          -2.567106e+00\n",
            "dtype: float64\n"
          ],
          "name": "stdout"
        }
      ]
    },
    {
      "cell_type": "markdown",
      "metadata": {
        "id": "8QPoWeu2s2qp"
      },
      "source": [
        "p value is less than the 0.05 so data is stationary."
      ]
    },
    {
      "cell_type": "code",
      "metadata": {
        "colab": {
          "base_uri": "https://localhost:8080/",
          "height": 265
        },
        "id": "3ivGsOXIx-17",
        "outputId": "dd8c21e9-67ee-41db-a872-72abc3e48e06"
      },
      "source": [
        "df['Diff'].plot()\r\n",
        "plt.show()"
      ],
      "execution_count": 18,
      "outputs": [
        {
          "output_type": "display_data",
          "data": {
            "image/png": "[encoded data removed]",
            "text/plain": [
              "<Figure size 432x288 with 1 Axes>"
            ]
          },
          "metadata": {
            "tags": [],
            "needs_background": "light"
          }
        }
      ]
    },
    {
      "cell_type": "code",
      "metadata": {
        "id": "jHuiToDslAOW"
      },
      "source": [
        "data1 = df.iloc[:,0].values\r\n",
        "dataset_array1 = [data1[0::1],data1[0::2],data1[0::4],data1[0::8],data1[0::12],data1[0::24]]"
      ],
      "execution_count": 19,
      "outputs": []
    },
    {
      "cell_type": "code",
      "metadata": {
        "id": "_AeHRsQ6Ig87"
      },
      "source": [
        "def plotting_function(MSE,MAE,name):\r\n",
        "  interval = [1,2,3,4,5,6]\r\n",
        "\r\n",
        "  barWidth = 0.25  \r\n",
        "  r1 = np.arange(len(interval))\r\n",
        "  r2 = [x + barWidth for x in r1]\r\n",
        "  \r\n",
        "  # Make the plot\r\n",
        "  plt.bar(r1, MSE, color='b', width=barWidth, label='MSE')\r\n",
        "  plt.bar(r2, MAE, color='g', width=barWidth, label='MAE')\r\n",
        "\r\n",
        "  plt.xlabel('interval', fontweight='bold')\r\n",
        "  plt.xticks([r + barWidth for r in range(len(interval))], ['1', '2', '4', '8', '12','24'])\r\n",
        "  plt.title('MSE and MAE plot for '+(name))\r\n",
        "  plt.legend()\r\n",
        "  plt.show()\r\n",
        " "
      ],
      "execution_count": 20,
      "outputs": []
    },
    {
      "cell_type": "markdown",
      "metadata": {
        "id": "TGkRrLc62laR"
      },
      "source": [
        "**single exponential smoothing**"
      ]
    },
    {
      "cell_type": "code",
      "metadata": {
        "id": "JGc-Q1YyJppf"
      },
      "source": [
        "def single_exp(data,interval,alpha):\r\n",
        "  array1=data\r\n",
        "  \r\n",
        "  fv = np.array([None] * len(array1))\r\n",
        "  for i in range(interval):\r\n",
        "    fv[i]=array1[i]\r\n",
        "   \r\n",
        "  for i in range(interval, len(array1)):\r\n",
        "    fv[i] = alpha * array1[i-interval] + (1 - alpha) * fv[i - interval]\r\n",
        "  array = array1-fv\r\n",
        "  arr = pd.DataFrame.from_dict({\"yahoo\":array1,\"Forecasted value\":fv,\"Error\":array})\r\n",
        "  return arr"
      ],
      "execution_count": 22,
      "outputs": []
    },
    {
      "cell_type": "code",
      "metadata": {
        "id": "O20tgYH7Qw7M",
        "colab": {
          "base_uri": "https://localhost:8080/"
        },
        "outputId": "2dcad2cc-0966-4501-cf16-517b189ed11a"
      },
      "source": [
        "interval = [1,2,4,8,12,24]\r\n",
        "mse1=[]\r\n",
        "mae1=[]\r\n",
        "for i in interval:\r\n",
        "  a = single_exp(df.iloc[:,0],i,0.9)\r\n",
        "  mse_val = ((a.Error)**2).sum()/(len(a.Error)-i)\r\n",
        "  mae_val = (abs(a.Error)).sum()/(len(a.Error)-i)\r\n",
        "  mse1.append(round(mse_val,6))\r\n",
        "  mae1.append(round(mae_val,6))\r\n",
        "\r\n",
        "print('MSE for each interval respectively \\n',mse1)\r\n",
        "print('MSE for each interval respectively \\n',mae1)"
      ],
      "execution_count": 23,
      "outputs": [
        {
          "output_type": "stream",
          "text": [
            "MSE for each interval respectively \n",
            " [34.803908, 72.657139, 144.964821, 278.795799, 393.186704, 800.041788]\n",
            "MSE for each interval respectively \n",
            " [1.644295, 2.357519, 3.476447, 5.107317, 6.420738, 9.984419]\n"
          ],
          "name": "stdout"
        }
      ]
    },
    {
      "cell_type": "code",
      "metadata": {
        "colab": {
          "base_uri": "https://localhost:8080/",
          "height": 295
        },
        "id": "CMKGbOi0Jcnb",
        "outputId": "ce20d8b1-a238-4ead-9206-fd088f602042"
      },
      "source": [
        "plotting_function(mse1,mae1,'single exponential smoothing')"
      ],
      "execution_count": 24,
      "outputs": [
        {
          "output_type": "display_data",
          "data": {
            "image/png": "[encoded data removed]",
            "text/plain": [
              "<Figure size 432x288 with 1 Axes>"
            ]
          },
          "metadata": {
            "tags": [],
            "needs_background": "light"
          }
        }
      ]
    },
    {
      "cell_type": "markdown",
      "metadata": {
        "id": "z2vWzVqJs9Y8"
      },
      "source": [
        "**Double Exponential Smoothing**"
      ]
    },
    {
      "cell_type": "code",
      "metadata": {
        "id": "pR1gtCEzQw4E"
      },
      "source": [
        "def double_exp(data,interval,alpha,beta):\r\n",
        "  array=data\r\n",
        "  f = np.array([None] * len(array))\r\n",
        "  a = np.array([None] * len(array))\r\n",
        "  b = np.array([None] * len(array))\r\n",
        "  \r\n",
        "\r\n",
        "  f[0]=data[0]\r\n",
        "  a[0] = array[0]\r\n",
        "  b[0] = (array[(len(array)-1)] - array[0])/(len(array)-1)\r\n",
        "\r\n",
        "  if interval<2:\r\n",
        "    f[1] = a[0]+b[0]\r\n",
        "    for i in range(2, len(array)):\r\n",
        "      a[i-1] = alpha*array[i-1] + (1-alpha)*(a[i-2]+b[i-2])\r\n",
        "      b[i-1] = beta*(a[i-1]-a[i-2]) + (1-beta)*b[i-2]\r\n",
        "      f[i] = a[i-1] + b[i-1]\r\n",
        "    arr = pd.DataFrame.from_dict({\"yahoo\":array,\"Forecasted value\":f,\"Error\":array-f})\r\n",
        "  else:\r\n",
        "    for i in range(2,interval):\r\n",
        "      a[i-1] = alpha*array[i-1] + (1-alpha)*(a[i-2]+b[i-2])\r\n",
        "      b[i-1] = beta*(a[i-1]-a[i-2]) + (1-beta)*b[i-2]\r\n",
        "\r\n",
        "    for i in range(1,interval):\r\n",
        "      f[i] = a[i-1] + b[i-1]\r\n",
        "\r\n",
        "    for i in range(interval, len(array)):\r\n",
        "      a[i-1] = alpha*array[i-1] + (1-alpha)*(a[i-2]+b[i-2])\r\n",
        "      b[i-1] = beta*(a[i-1]-a[i-2]) + (1-beta)*b[i-2]\r\n",
        "      f[i] = a[i-1] + b[i-1]\r\n",
        "    arr = pd.DataFrame.from_dict({\"yahoo\":array,\"Forecasted value\":f,\"Error\":array-f})\r\n",
        "  return arr"
      ],
      "execution_count": 25,
      "outputs": []
    },
    {
      "cell_type": "code",
      "metadata": {
        "colab": {
          "base_uri": "https://localhost:8080/"
        },
        "id": "sz9h8HQL4OR1",
        "outputId": "2a306405-9d13-4502-c23d-e0d84e93c481"
      },
      "source": [
        "interval = [1,2,4,8,12,24]\r\n",
        "mse2=[]\r\n",
        "mae2=[]\r\n",
        "for i in interval:\r\n",
        "  a = double_exp(df.iloc[:,0],i,0.9,0.01)\r\n",
        "  mse_val = ((a.Error)**2).sum()/(len(a.Error)-i)\r\n",
        "  mae_val = (abs(a.Error)).sum()/(len(a.Error)-i)\r\n",
        "  mse2.append(round(mse_val,6))\r\n",
        "  mae2.append(round(mae_val,6))\r\n",
        "\r\n",
        "print('MSE for each interval respectively \\n',mse2)\r\n",
        "print('MSE for each interval respectively \\n',mae2)"
      ],
      "execution_count": 26,
      "outputs": [
        {
          "output_type": "stream",
          "text": [
            "MSE for each interval respectively \n",
            " [35.05401, 35.061613, 35.076827, 35.107295, 35.137817, 35.229701]\n",
            "MSE for each interval respectively \n",
            " [1.647777, 1.648134, 1.64885, 1.650282, 1.651717, 1.656036]\n"
          ],
          "name": "stdout"
        }
      ]
    },
    {
      "cell_type": "code",
      "metadata": {
        "colab": {
          "base_uri": "https://localhost:8080/",
          "height": 295
        },
        "id": "np9zyNuZMfgV",
        "outputId": "6bc06e91-5141-45a5-e7d4-20fcb604db27"
      },
      "source": [
        "plotting_function(mse2,mae2,'double exponential smoothing')"
      ],
      "execution_count": 27,
      "outputs": [
        {
          "output_type": "display_data",
          "data": {
            "image/png": "[encoded data removed]",
            "text/plain": [
              "<Figure size 432x288 with 1 Axes>"
            ]
          },
          "metadata": {
            "tags": [],
            "needs_background": "light"
          }
        }
      ]
    },
    {
      "cell_type": "markdown",
      "metadata": {
        "id": "UE-Ob6iByCO5"
      },
      "source": [
        "**Triple Exponential Smoothing**"
      ]
    },
    {
      "cell_type": "code",
      "metadata": {
        "id": "Hzpd0J0pB8sJ"
      },
      "source": [
        "def initial_trend(data, season_len):\r\n",
        "    sum = 0.0\r\n",
        "    for i in range(season_len):\r\n",
        "        sum += float(data[i+season_len] - data[i]) / season_len\r\n",
        "    return sum / season_len\r\n",
        "\r\n",
        "def initial_seasonal(data, season_len):\r\n",
        "  seasonals = {}\r\n",
        "  season_averages = []\r\n",
        "  n_seasons = int(len(data)/season_len)\r\n",
        "  # compute season averages\r\n",
        "  for j in range(n_seasons):\r\n",
        "    avg = ((data[(season_len*j):(season_len*j)+season_len]).sum())/float(season_len)\r\n",
        "    season_averages.append(avg)\r\n",
        "  # initial values\r\n",
        "  for i in range(season_len):\r\n",
        "    sum = 0.0\r\n",
        "    for j in range(n_seasons):\r\n",
        "      sum += data[season_len*j+i]-season_averages[j]\r\n",
        "    seasonals[i] = sum/n_seasons\r\n",
        "  return seasonals\r\n",
        "\r\n",
        "def triple_exp(data, season_len, alpha, beta, gamma, n_preds):\r\n",
        "  result = []\r\n",
        "  error = []\r\n",
        "  seasonals = initial_seasonal(data, season_len)\r\n",
        "  for i in range(len(data)+n_preds):\r\n",
        "    if i == 0: # initial values\r\n",
        "      smooth = data[0]\r\n",
        "      trend = initial_trend(data, season_len)\r\n",
        "      result.append(data[0])\r\n",
        "      continue\r\n",
        "    if i >= len(data): # we are forecasting\r\n",
        "      m = i - len(data) + 1\r\n",
        "      result.append((smooth + m*trend) + seasonals[i%season_len])\r\n",
        "    else:\r\n",
        "      val = data[i]\r\n",
        "      last_smooth, smooth = smooth, alpha*(val-seasonals[i%season_len]) + (1-alpha)*(smooth+trend)\r\n",
        "      trend = beta * (smooth-last_smooth) + (1-beta)*trend\r\n",
        "      seasonals[i%season_len] = gamma*(val-smooth) + (1-gamma)*seasonals[i%season_len]\r\n",
        "      forecast = smooth+trend+seasonals[i%season_len]\r\n",
        "      error = data - forecast\r\n",
        "      result.append(forecast)\r\n",
        "      \r\n",
        "  SE = np.square(error)\r\n",
        "  SSE = 0\r\n",
        "  for i in SE:\r\n",
        "    SSE+= i\r\n",
        "  mse_val = SSE/(len(data)-1)\r\n",
        "  mae_val = np.sum(abs(error)/len(error))\r\n",
        "  return mse_val,mae_val"
      ],
      "execution_count": 28,
      "outputs": []
    },
    {
      "cell_type": "code",
      "metadata": {
        "colab": {
          "base_uri": "https://localhost:8080/"
        },
        "id": "J_h0dT874PaB",
        "outputId": "5318c3e4-da90-4797-d800-b69dee7433b5"
      },
      "source": [
        "mse3 = []\r\n",
        "mae3 = []\r\n",
        "final_forecasted_list = []\r\n",
        "for dataframe in dataset_array1:\r\n",
        "  mse_val,mae_val = triple_exp(dataframe,1,0.9,0.02,0.95,1)\r\n",
        "  mse3.append(round(mse_val,6))\r\n",
        "  mae3.append(round(mae_val,6))\r\n",
        "\r\n",
        "print('MSE for each interval respectively \\n',mse3)\r\n",
        "print('MSE for each interval respectively \\n',mae3)"
      ],
      "execution_count": 29,
      "outputs": [
        {
          "output_type": "stream",
          "text": [
            "MSE for each interval respectively \n",
            " [3552.580348, 3543.295624, 3523.204961, 3735.714043, 3565.366598, 3906.277824]\n",
            "MSE for each interval respectively \n",
            " [28.984869, 28.948945, 28.810303, 28.239777, 27.888529, 28.517306]\n"
          ],
          "name": "stdout"
        }
      ]
    },
    {
      "cell_type": "code",
      "metadata": {
        "colab": {
          "base_uri": "https://localhost:8080/",
          "height": 295
        },
        "id": "dmpRCtkrMrSA",
        "outputId": "da214d55-9110-4446-9edf-fcd65a13ae65"
      },
      "source": [
        "plotting_function(mse3,mae3,'triple exponential smoothing')"
      ],
      "execution_count": 30,
      "outputs": [
        {
          "output_type": "display_data",
          "data": {
            "image/png": "[encoded data removed]",
            "text/plain": [
              "<Figure size 432x288 with 1 Axes>"
            ]
          },
          "metadata": {
            "tags": [],
            "needs_background": "light"
          }
        }
      ]
    },
    {
      "cell_type": "markdown",
      "metadata": {
        "id": "l1TbBf_36RHQ"
      },
      "source": [
        "**ACF PACF Plot**"
      ]
    },
    {
      "cell_type": "code",
      "metadata": {
        "colab": {
          "base_uri": "https://localhost:8080/",
          "height": 545
        },
        "id": "yfsntbp135f0",
        "outputId": "d06efccc-1e70-4eec-c212-fd990a659bbe"
      },
      "source": [
        "plot_acf(df.iloc[:,1].dropna(), lags=10)\r\n",
        "plt.show()\r\n",
        "plot_pacf(df.iloc[:,1].dropna(), lags=10)\r\n",
        "plt.show()"
      ],
      "execution_count": 31,
      "outputs": [
        {
          "output_type": "display_data",
          "data": {
            "image/png": "[encoded data removed]",
            "text/plain": [
              "<Figure size 432x288 with 1 Axes>"
            ]
          },
          "metadata": {
            "tags": [],
            "needs_background": "light"
          }
        },
        {
          "output_type": "display_data",
          "data": {
            "image/png": "[encoded data removed]",
            "text/plain": [
              "<Figure size 432x288 with 1 Axes>"
            ]
          },
          "metadata": {
            "tags": [],
            "needs_background": "light"
          }
        }
      ]
    },
    {
      "cell_type": "markdown",
      "metadata": {
        "id": "uHFh9P7_yHfs"
      },
      "source": [
        "pmdarima package install"
      ]
    },
    {
      "cell_type": "code",
      "metadata": {
        "colab": {
          "base_uri": "https://localhost:8080/"
        },
        "id": "v_agQdKEVRM2",
        "outputId": "e3c149cb-15e6-4f7e-9d2d-d5b9f1f7fda7"
      },
      "source": [
        "!pip3 install pmdarima"
      ],
      "execution_count": 1,
      "outputs": [
        {
          "output_type": "stream",
          "text": [
            "Collecting pmdarima\n",
            "\u001b[?25l  Downloading https://files.pythonhosted.org/packages/e4/a8/bdf15174e35d072e145d16388b1d3bc7605b752610170cb022a290411427/pmdarima-1.8.0-cp37-cp37m-manylinux1_x86_64.whl (1.5MB)\n",
            "\u001b[K     |████████████████████████████████| 1.5MB 6.8MB/s \n",
            "\u001b[?25hRequirement already satisfied: scikit-learn>=0.22 in /usr/local/lib/python3.7/dist-packages (from pmdarima) (0.22.2.post1)\n",
            "Collecting statsmodels!=0.12.0,>=0.11\n",
            "\u001b[?25l  Downloading https://files.pythonhosted.org/packages/da/69/8eef30a6237c54f3c0b524140e2975f4b1eea3489b45eb3339574fc8acee/statsmodels-0.12.2-cp37-cp37m-manylinux1_x86_64.whl (9.5MB)\n",
            "\u001b[K     |████████████████████████████████| 9.5MB 34.3MB/s \n",
            "\u001b[?25hRequirement already satisfied: setuptools!=50.0.0,>=38.6.0 in /usr/local/lib/python3.7/dist-packages (from pmdarima) (53.0.0)\n",
            "Requirement already satisfied: scipy>=1.3.2 in /usr/local/lib/python3.7/dist-packages (from pmdarima) (1.4.1)\n",
            "Requirement already satisfied: numpy>=1.17.3 in /usr/local/lib/python3.7/dist-packages (from pmdarima) (1.19.5)\n",
            "Requirement already satisfied: joblib>=0.11 in /usr/local/lib/python3.7/dist-packages (from pmdarima) (1.0.1)\n",
            "Collecting Cython<0.29.18,>=0.29\n",
            "\u001b[?25l  Downloading https://files.pythonhosted.org/packages/dc/6c/198da24bf0a1d5b5ee6119e891c5300bb1b0b8904832fac9ff62d4e381c9/Cython-0.29.17-cp37-cp37m-manylinux1_x86_64.whl (2.1MB)\n",
            "\u001b[K     |████████████████████████████████| 2.1MB 36.4MB/s \n",
            "\u001b[?25hRequirement already satisfied: urllib3 in /usr/local/lib/python3.7/dist-packages (from pmdarima) (1.24.3)\n",
            "Requirement already satisfied: pandas>=0.19 in /usr/local/lib/python3.7/dist-packages (from pmdarima) (1.1.5)\n",
            "Requirement already satisfied: patsy>=0.5 in /usr/local/lib/python3.7/dist-packages (from statsmodels!=0.12.0,>=0.11->pmdarima) (0.5.1)\n",
            "Requirement already satisfied: python-dateutil>=2.7.3 in /usr/local/lib/python3.7/dist-packages (from pandas>=0.19->pmdarima) (2.8.1)\n",
            "Requirement already satisfied: pytz>=2017.2 in /usr/local/lib/python3.7/dist-packages (from pandas>=0.19->pmdarima) (2018.9)\n",
            "Requirement already satisfied: six in /usr/local/lib/python3.7/dist-packages (from patsy>=0.5->statsmodels!=0.12.0,>=0.11->pmdarima) (1.15.0)\n",
            "Installing collected packages: statsmodels, Cython, pmdarima\n",
            "  Found existing installation: statsmodels 0.10.2\n",
            "    Uninstalling statsmodels-0.10.2:\n",
            "      Successfully uninstalled statsmodels-0.10.2\n",
            "  Found existing installation: Cython 0.29.22\n",
            "    Uninstalling Cython-0.29.22:\n",
            "      Successfully uninstalled Cython-0.29.22\n",
            "Successfully installed Cython-0.29.17 pmdarima-1.8.0 statsmodels-0.12.2\n"
          ],
          "name": "stdout"
        }
      ]
    },
    {
      "cell_type": "code",
      "metadata": {
        "colab": {
          "base_uri": "https://localhost:8080/"
        },
        "id": "BFInJMkLzpfr",
        "outputId": "62df73b3-e786-4c4d-d6f4-1694d394f209"
      },
      "source": [
        "import pmdarima as pm\r\n",
        "model = pm.auto_arima(df.iloc[:,0], start_p=1, start_q=1,test='adf',max_p=5, max_q=3,m=1,d=None,seasonal=False,start_P=0, D=0, \r\n",
        "                      trace=True,error_action='ignore',  suppress_warnings=True,stepwise=True)\r\n",
        "print(model.summary())"
      ],
      "execution_count": 32,
      "outputs": [
        {
          "output_type": "stream",
          "text": [
            "Performing stepwise search to minimize aic\n",
            " ARIMA(1,0,1)(0,0,0)[0]             : AIC=29358.877, Time=0.41 sec\n",
            " ARIMA(0,0,0)(0,0,0)[0]             : AIC=52832.194, Time=0.08 sec\n",
            " ARIMA(1,0,0)(0,0,0)[0]             : AIC=inf, Time=0.19 sec\n",
            " ARIMA(0,0,1)(0,0,0)[0]             : AIC=46916.004, Time=0.59 sec\n",
            " ARIMA(2,0,1)(0,0,0)[0]             : AIC=29360.811, Time=0.73 sec\n",
            " ARIMA(1,0,2)(0,0,0)[0]             : AIC=29357.882, Time=0.44 sec\n",
            " ARIMA(0,0,2)(0,0,0)[0]             : AIC=42222.823, Time=2.78 sec\n",
            " ARIMA(2,0,2)(0,0,0)[0]             : AIC=29345.809, Time=2.04 sec\n",
            " ARIMA(3,0,2)(0,0,0)[0]             : AIC=29290.882, Time=4.44 sec\n",
            " ARIMA(3,0,1)(0,0,0)[0]             : AIC=29348.048, Time=1.95 sec\n",
            " ARIMA(4,0,2)(0,0,0)[0]             : AIC=29298.511, Time=3.84 sec\n",
            " ARIMA(3,0,3)(0,0,0)[0]             : AIC=29296.227, Time=4.40 sec\n",
            " ARIMA(2,0,3)(0,0,0)[0]             : AIC=29340.140, Time=1.19 sec\n",
            " ARIMA(4,0,1)(0,0,0)[0]             : AIC=29340.710, Time=1.20 sec\n",
            " ARIMA(4,0,3)(0,0,0)[0]             : AIC=29294.725, Time=5.08 sec\n",
            " ARIMA(3,0,2)(0,0,0)[0] intercept   : AIC=29295.962, Time=8.83 sec\n",
            "\n",
            "Best model:  ARIMA(3,0,2)(0,0,0)[0]          \n",
            "Total fit time: 38.223 seconds\n",
            "                               SARIMAX Results                                \n",
            "==============================================================================\n",
            "Dep. Variable:                      y   No. Observations:                 4613\n",
            "Model:               SARIMAX(3, 0, 2)   Log Likelihood              -14639.441\n",
            "Date:                Mon, 01 Mar 2021   AIC                          29290.882\n",
            "Time:                        05:48:54   BIC                          29329.502\n",
            "Sample:                             0   HQIC                         29304.473\n",
            "                               - 4613                                         \n",
            "Covariance Type:                  opg                                         \n",
            "==============================================================================\n",
            "                 coef    std err          z      P>|z|      [0.025      0.975]\n",
            "------------------------------------------------------------------------------\n",
            "ar.L1          0.6191      0.008     77.475      0.000       0.603       0.635\n",
            "ar.L2         -0.5112      0.010    -49.807      0.000      -0.531      -0.491\n",
            "ar.L3          0.8846      0.008    105.040      0.000       0.868       0.901\n",
            "ma.L1          0.4173      0.007     55.685      0.000       0.403       0.432\n",
            "ma.L2          0.9431      0.008    123.834      0.000       0.928       0.958\n",
            "sigma2        33.4673      0.092    363.507      0.000      33.287      33.648\n",
            "===================================================================================\n",
            "Ljung-Box (L1) (Q):                   1.46   Jarque-Bera (JB):          36931252.63\n",
            "Prob(Q):                              0.23   Prob(JB):                         0.00\n",
            "Heteroskedasticity (H):             442.37   Skew:                            13.32\n",
            "Prob(H) (two-sided):                  0.00   Kurtosis:                       440.53\n",
            "===================================================================================\n",
            "\n",
            "Warnings:\n",
            "[1] Covariance matrix calculated using the outer product of gradients (complex-step).\n"
          ],
          "name": "stdout"
        }
      ]
    },
    {
      "cell_type": "markdown",
      "metadata": {
        "id": "BqZRnHcM_usY"
      },
      "source": [
        "**AR model**"
      ]
    },
    {
      "cell_type": "code",
      "metadata": {
        "id": "EoeO0hP73ppj"
      },
      "source": [
        "from statsmodels.tsa.arima_model import ARIMA\r\n",
        "def ar_model(data):\r\n",
        "  model=ARIMA(data,order=(3,0,0)).fit()\r\n",
        "  prediction = model.fittedvalues\r\n",
        "  error = data - prediction\r\n",
        "  mse_val = np.sum((error)**2)/len(error)\r\n",
        "  mae_val = np.sum(abs(error))/len(error)\r\n",
        "  return mse_val,mae_val,prediction"
      ],
      "execution_count": 33,
      "outputs": []
    },
    {
      "cell_type": "code",
      "metadata": {
        "colab": {
          "base_uri": "https://localhost:8080/"
        },
        "id": "h240IiIs2D_i",
        "outputId": "5cfa6b26-525f-48c9-a301-ed037ab3011f"
      },
      "source": [
        "mse4 = []\r\n",
        "mae4 = []\r\n",
        "final_forecasted_list = []\r\n",
        "for dataframe in dataset_array1:\r\n",
        "  mse_val,mae_val,prediction = ar_model(dataframe)\r\n",
        "  mse4.append(round(mse_val,6))\r\n",
        "  mae4.append(round(mae_val,6))\r\n",
        "  final_forecasted_list.append(prediction)\r\n",
        "\r\n",
        "print('MSE for each interval respectively \\n',mse4)\r\n",
        "print('MSE for each interval respectively \\n',mae4)"
      ],
      "execution_count": 34,
      "outputs": [
        {
          "output_type": "stream",
          "text": [
            "MSE for each interval respectively \n",
            " [33.891316, 66.843616, 131.952269, 269.411971, 321.422517, 736.109907]\n",
            "MSE for each interval respectively \n",
            " [1.631458, 2.352141, 3.517077, 5.128436, 6.037979, 10.267325]\n"
          ],
          "name": "stdout"
        }
      ]
    },
    {
      "cell_type": "code",
      "metadata": {
        "colab": {
          "base_uri": "https://localhost:8080/",
          "height": 295
        },
        "id": "7vRy7w0cM2fT",
        "outputId": "06903270-d850-478d-9746-cb214c8262fd"
      },
      "source": [
        "plotting_function(mse4,mae4,'AR Model')"
      ],
      "execution_count": 35,
      "outputs": [
        {
          "output_type": "display_data",
          "data": {
            "image/png": "[encoded data removed]",
            "text/plain": [
              "<Figure size 432x288 with 1 Axes>"
            ]
          },
          "metadata": {
            "tags": [],
            "needs_background": "light"
          }
        }
      ]
    },
    {
      "cell_type": "markdown",
      "metadata": {
        "id": "sv42iqpP_zxA"
      },
      "source": [
        "**MA Model**"
      ]
    },
    {
      "cell_type": "code",
      "metadata": {
        "id": "An5M7F2zDRzF"
      },
      "source": [
        "def ma_model(data):\r\n",
        "  model=ARIMA(data,order=(0,0,1)).fit()\r\n",
        "  prediction = model.fittedvalues\r\n",
        "  error = data - prediction\r\n",
        "  mse_val = np.sum((error)**2)/len(error)\r\n",
        "  mae_val = np.sum(abs(error))/len(error)\r\n",
        "  return mse_val,mae_val,prediction"
      ],
      "execution_count": 38,
      "outputs": []
    },
    {
      "cell_type": "code",
      "metadata": {
        "colab": {
          "base_uri": "https://localhost:8080/"
        },
        "id": "W38JKzhU8puF",
        "outputId": "5b10c8b8-4e4f-4217-d450-2ea3a2ab54b9"
      },
      "source": [
        "mse5 = []\r\n",
        "mae5 = []\r\n",
        "final_forecasted_list = []\r\n",
        "for dataframe in dataset_array1:\r\n",
        "  mse_val,mae_val,prediction = ma_model(dataframe)\r\n",
        "  mse5.append(round(mse_val,6))\r\n",
        "  mae5.append(round(mae_val,6))\r\n",
        "  final_forecasted_list.append(prediction)\r\n",
        "\r\n",
        "print('MSE for each interval respectively \\n',mse5)\r\n",
        "print('MSE for each interval respectively \\n',mae5)"
      ],
      "execution_count": 39,
      "outputs": [
        {
          "output_type": "stream",
          "text": [
            "MSE for each interval respectively \n",
            " [967.860348, 1022.814595, 1050.152419, 1229.579787, 1227.452797, 1408.777788]\n",
            "MSE for each interval respectively \n",
            " [18.452403, 18.830714, 18.760088, 19.604586, 19.721267, 20.764311]\n"
          ],
          "name": "stdout"
        }
      ]
    },
    {
      "cell_type": "code",
      "metadata": {
        "colab": {
          "base_uri": "https://localhost:8080/",
          "height": 295
        },
        "id": "n9H88t0HNHwf",
        "outputId": "6a8529b2-ca1d-4aa6-a6e3-b0323c6c7237"
      },
      "source": [
        "plotting_function(mse5,mae5,'MA Model')"
      ],
      "execution_count": 40,
      "outputs": [
        {
          "output_type": "display_data",
          "data": {
            "image/png": "[encoded data removed]",
            "text/plain": [
              "<Figure size 432x288 with 1 Axes>"
            ]
          },
          "metadata": {
            "tags": [],
            "needs_background": "light"
          }
        }
      ]
    },
    {
      "cell_type": "markdown",
      "metadata": {
        "id": "xeNbZWGP_31g"
      },
      "source": [
        "**ARIMA Model**"
      ]
    },
    {
      "cell_type": "code",
      "metadata": {
        "id": "puFXKa2HDeFC"
      },
      "source": [
        "def arima_model(data):\r\n",
        "  model=ARIMA(data,order=(3,1,1)).fit()\r\n",
        "  prediction = model.fittedvalues\r\n",
        "  data = np.delete(data,[0])\r\n",
        "  error = data - prediction\r\n",
        "  mse_val = np.sum((error)**2)/len(error)\r\n",
        "  mae_val = np.sum(abs(error))/len(error)\r\n",
        "  return mse_val,mae_val,prediction"
      ],
      "execution_count": 45,
      "outputs": []
    },
    {
      "cell_type": "code",
      "metadata": {
        "colab": {
          "base_uri": "https://localhost:8080/"
        },
        "id": "x9Vqk9WJ9BeM",
        "outputId": "0cf945f8-1a70-42f7-e19e-200a461871e0"
      },
      "source": [
        "mse6 = []\r\n",
        "mae6 = []\r\n",
        "final_forecasted_list = []\r\n",
        "for dataframe in dataset_array1:\r\n",
        "  mse_val,mae_val,prediction = arima_model(dataframe)\r\n",
        "  mse6.append(round(mse_val,6))\r\n",
        "  mae6.append(round(mae_val,6))\r\n",
        "  final_forecasted_list.append(prediction)\r\n",
        "\r\n",
        "print('MSE for each interval respectively \\n',mse6)\r\n",
        "print('MSE for each interval respectively \\n',mae6)"
      ],
      "execution_count": 46,
      "outputs": [
        {
          "output_type": "stream",
          "text": [
            "MSE for each interval respectively \n",
            " [5512.115779, 5505.175013, 5462.983116, 5690.096, 5501.030922, 6076.652971]\n",
            "MSE for each interval respectively \n",
            " [46.140924, 46.115317, 46.056424, 46.204468, 45.920331, 46.613547]\n"
          ],
          "name": "stdout"
        }
      ]
    },
    {
      "cell_type": "code",
      "metadata": {
        "id": "z9CIdpgvXwhu",
        "colab": {
          "base_uri": "https://localhost:8080/",
          "height": 295
        },
        "outputId": "e7655d74-aac4-4587-e216-e0812ae89d72"
      },
      "source": [
        "plotting_function(mse6,mae6,'ARIMA Model')"
      ],
      "execution_count": 47,
      "outputs": [
        {
          "output_type": "display_data",
          "data": {
            "image/png": "[encoded data removed]",
            "text/plain": [
              "<Figure size 432x288 with 1 Axes>"
            ]
          },
          "metadata": {
            "tags": [],
            "needs_background": "light"
          }
        }
      ]
    },
    {
      "cell_type": "code",
      "metadata": {
        "id": "n9dbl6cRNjw8"
      },
      "source": [
        ""
      ],
      "execution_count": null,
      "outputs": []
    }
  ]
}