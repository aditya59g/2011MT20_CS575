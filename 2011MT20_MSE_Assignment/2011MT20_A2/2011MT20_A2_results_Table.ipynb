{
 "cells": [
  {
   "cell_type": "markdown",
   "metadata": {},
   "source": [
    "## Dataset 1"
   ]
  },
  {
   "cell_type": "markdown",
   "metadata": {},
   "source": [
    "|   Questions related to dataset stationarity    |  Answers |\n",
    "|:-----------------:|:-----------------:|\n",
    "| Dataset |Dataset1_global_mean_temp|\n",
    "|Is Dataset Stationery? |    No                |\n",
    "|If yes, why,? and if not, why not? |ADF test: The test statistic is greater than the critical value, so we fail to reject the null hypothesis. So it is non-stationary series. lso P value is greater than 0.05 so, from that also we can say it in non-stationary.  <br> KPSS Test: The test statistic is greater than the critical value so we can reject the null hypothesis. So it is non-stationary series.| \n",
    "|If differencing was done, how many times it was done? |        1 time done.|"
   ]
  },
  {
   "cell_type": "markdown",
   "metadata": {},
   "source": [
    "\n",
    " | Method | model detail  |  MSE <br> 1   | <br> 2   | <br> 4  | <br>  8 | <br> 12 | <br> 24  | MAE <br> 1   | <br> 2   | <br> 4   | <br>  8 | <br> 12   | <br>  24   |\n",
    "|:-----------------:|:-----------:|:-----|:-----|:-----|:-----|:-----|:-----|:-----|:-----|:-----|:-----|:-----|:-----|\n",
    "| Single Exponential Smoothing | alpha(0.9) | 0.019031   |  0.025219  |  0.026015  |  0.0361  | 0.052196 |0.113739 | 0.110927 |0.128802 |  0.130324 | 0.153946  |   0.187459  |   0.271281  |     \n",
    "| Double Exponential Smoothing| alpha(0.9), beta(0.01) |  0.019111    |  0.019255   |   0.019552      |  0.020172   |  0.020834    |  0.023106   |   0.110918     |   0.111758   |  0.113478    |  0.11708   |   0.120919     | 0.13411   |\n",
    "|Triple Exponential Smoothing| alpha(0.9), beta(0.02), gamma(0.95) |  0.802031    |  0.808338   |  0.650656      | 0.645892    |  0.687599    |0.484885     |   0.814571     |  0.818127    | 0.717812     | 0.71658    |   0.700221     |  0.577785  |\n",
    "|Only AR| AR(2) |  0.019258    |  0.024927   |  254.507765      |  0.03431   |  0.06364    |  0.112656   |  0.109618      |        0.121866   |  2.8611   |   0.134471     |  0.193079  |0.265223|\n",
    "|Only MA| MA(2) | 0.039539     | 0.045166    |  0.045009      | 0.035656    |   0.063314   |   0.094376  |   0.157431     |        0.170707   |  0.168767   |   0.151652     |  0.188364  |0.277943|\n",
    "|ARIMA| ARIMA(0,1,1) |  0.158667    |   0.157589   |   0.142108     |   0.108257  | 0.158486     |  0.146731]   |  0.31091      |   0.315315    |  0.322333    |  0.272688   |   0.346297     | 0.321971   |"
   ]
  },
  {
   "cell_type": "markdown",
   "metadata": {},
   "source": [
    "## Dataset 2"
   ]
  },
  {
   "cell_type": "markdown",
   "metadata": {},
   "source": [
    "|   Questions related to dataset stationarity    |  Answers |\n",
    "|:-----------------:|:-----------------:|\n",
    "| Dataset |Dataset2_month_temp.csv|\n",
    "|Is Dataset Stationery? |    Yes  (Differencing stationary)             |\n",
    "|If yes, why,? and if not, why not? |ADF test: The test statistic is less than the critical value, so we can reject the null hypothesis. So it is stationary series. Also P value is less than 0.05 so, from that also we can say it is stationary. <br> KPSS Test: The test statistic is greater than the critical value so we can reject the null hypothesis. So it is non-stationary series. <br> SO from both tests, we can say it is differencing stationary series.  | \n",
    "|If differencing was done, how many times it was done? |        1 time done.(As it is differencing stationary)|"
   ]
  },
  {
   "cell_type": "markdown",
   "metadata": {},
   "source": [
    "\n",
    " | Method | model detail  |  MSE <br> 1   | <br> 2   | <br> 4  | <br>  8 | <br> 12 | <br> 24  | MAE <br> 1   | <br> 2   | <br> 4   | <br>  8 | <br> 12   | <br>  24   |\n",
    "|:-----------------:|:-----------:|:-----|:-----|:-----|:-----|:-----|:-----|:-----|:-----|:-----|:-----|:-----|:-----|\n",
    "| Single Exponential Smoothing | alpha(0.9) | 0.013647   |  0.016664  |  0.020484  | 0.027139  | 0.030466 |0.030698 | 0.092136 |0.100468 |  0.116237 | 0.133239  |   0.138717  |   0.139302 | \n",
    "| Double Exponential Smoothing| alpha(0.9), beta(0.01) |  0.013771   |  0.013833   |  0.013959      |  0.014219   | 0.014489    |  0.015362   | 0.092392| 0.09281| 0.093658| 0.0954| 0.097209| 0.103071| \n",
    "|Triple Exponential Smoothing| alpha(0.9), beta(0.02), gamma(0.95) | 0.019402| 0.021931| 0.093266| 0.056315|0.084807| 0.330376|0.112635| 0.118614| 0.265638| 0.182602| 0.233556| 0.512892|\n",
    "|Only AR| AR(2) |0.011325| 0.014669| 0.016696| 0.018922| 0.034283| 0.02252|0.085273| 0.095156| 0.097788| 0.109238| 0.152433| 0.121277|\n",
    "|Only MA| MA(3) | 0.0122 |0.015474| 0.016045| 0.018175|0.030591| 0.019547|0.087731| 0.097666| 0.098421| 0.103227| 0.146241| 0.113056|\n",
    "|ARIMA| ARIMA(0,1,1) | 0.323165| 0.33308| 0.312935| 0.311519| 0.354497|0.263685|0.545577| 0.551101| 0.531739| 0.523724| 0.550318| 0.490124|"
   ]
  },
  {
   "cell_type": "markdown",
   "metadata": {},
   "source": [
    "## Dataset 3"
   ]
  },
  {
   "cell_type": "markdown",
   "metadata": {},
   "source": [
    "|   Questions related to dataset stationarity    |  Answers |\n",
    "|:-----------------:|:-----------------:|\n",
    "| Dataset |Dataset3_nasdaq_1985_2014|\n",
    "|Is Dataset Stationery? |    No                |\n",
    "|If yes, why,? and if not, why not? |From data plot, we can say that it is a non-stationary data series. <br> ADF test: The test statistic is greater than the critical value, so we fail to reject the null hypothesis. So it is non-stationary series. Also P value is greater than 0.05 so, from that also we can say it is non-stationary. <br> KPSS Test: The test statistic is greater than the critical value so we can reject the null hypothesis. So it is non-stationary series. <br> SO from both tests, we can say it is non-stationary series. |\n",
    "|If differencing was done, how many times it was done? |        1 time done.|"
   ]
  },
  {
   "cell_type": "markdown",
   "metadata": {},
   "source": [
    "\n",
    " | Method | model detail  |  MSE <br> 1   | <br> 2   | <br> 4  | <br>  8 | <br> 12 | <br> 24  | MAE <br> 1   | <br> 2   | <br> 4   | <br>  8 | <br> 12   | <br>  24   |\n",
    "|:-----------------:|:-----------:|:-----|:-----|:-----|:-----|:-----|:-----|:-----|:-----|:-----|:-----|:-----|:-----|\n",
    "| Single Exponential Smoothing | alpha(0.9) | 1101.340197| 2057.483943| 3713.54713| 6914.831946| 9844.658568| 20992.987747 |17.540286| 24.758787| 34.261581| 47.628966| 57.559496| 85.368321 |   \n",
    "| Double Exponential Smoothing| alpha(0.9), beta(0.01) |  1104.909446| 1105.061344| 1105.365267| 1105.973613| 1106.582629| 1108.413709|17.538233| 17.540644| 17.545468| 17.555124| 17.564791| 17.593856|\n",
    "|Triple Exponential Smoothing| alpha(0.9), beta(0.02), gamma(0.95) | 2223876.830126| 2233298.026276| 2238596.825256| 2241838.580041| 2258817.85846| 2263772.859663|1151.951487| 1155.328765| 1157.497431| 1158.619594| 1161.902892| 1163.71419|\n",
    "|Only AR| AR(1) | 2345.005951| 4563.709955| 8485.987729| 11755.640896| 19184.194585| 39116.178197|17.872703| 25.39514| 35.067027| 49.806639| 61.587377| 96.491148|\n",
    "|Only MA| MA(1) |235534.933452| 244132.714161| 246639.938514| 248921.766789| 275789.188768| 280409.268583|392.66799| 396.733616| 399.199812| 399.997749| 412.406107| 414.608433|\n",
    "|ARIMA| ARIMA(1,1,1) | 2788888.821033| 2790846.143661| 2790384.01042| 2789698.004334| 2803715.77028| 2790607.664282| 1375.857424| 1376.361219| 1376.869147| 1377.949929| 1381.091798| 1381.500301|"
   ]
  },
  {
   "cell_type": "markdown",
   "metadata": {},
   "source": [
    "## Dataset 4"
   ]
  },
  {
   "cell_type": "markdown",
   "metadata": {},
   "source": [
    "|   Questions related to dataset stationarity    |  Answers |\n",
    "|:-----------------:|:-----------------:|\n",
    "| Dataset |Dataset4_yahoo304.96.8.14.csv|\n",
    "|Is Dataset Stationery? |    No  (Differencing stationary)              |\n",
    "|If yes, why,? and if not, why not? |ADF test: The test statistic is less than the critical value, so we can reject the null hypothesis. So it is stationary series. Also P value is less than 0.05 so, from that also we can say it is stationary. <br> KPSS Test: The test statistic is greater than the critical value so we can reject the null hypothesis. So it is non-stationary series. <br> SO from both tests, we can say it is differential stationary series.| \n",
    "|If differencing was done, how many times it was done? |  1 time done. (As it is Differencing stationary)"
   ]
  },
  {
   "cell_type": "markdown",
   "metadata": {},
   "source": [
    "\n",
    " | Method | model detail  |  MSE <br> 1   | <br> 2   | <br> 4  | <br>  8 | <br> 12 | <br> 24  | MAE <br> 1   | <br> 2   | <br> 4   | <br>  8 | <br> 12   | <br>  24   |\n",
    "|:-----------------:|:-----------:|:-----|:-----|:-----|:-----|:-----|:-----|:-----|:-----|:-----|:-----|:-----|:-----|\n",
    "| Single Exponential Smoothing | alpha(0.9) |34.803908| 72.657139| 144.964821| 278.795799| 393.186704| 800.041788|1.644295| 2.357519| 3.476447| 5.107317| 6.420738| 9.984419|     \n",
    "| Double Exponential Smoothing| alpha(0.9), beta(0.01)|35.05401| 35.061613| 35.076827| 35.107295| 35.137817| 35.229701|1.647777| 1.648134| 1.64885| 1.650282| 1.651717| 1.656036| \n",
    "|Triple Exponential Smoothing| alpha(0.9), beta(0.02), gamma(0.95)|3552.580348| 3543.295624| 3523.204961| 3735.714043| 3565.366598| 3906.277824|28.984869| 28.948945| 28.810303| 28.239777| 27.888529| 28.517306|\n",
    "|Only AR| AR(3) |33.891316| 66.843616| 131.952269| 269.411971| 321.422517| 736.109907|1.631458| 2.352141| 3.517077| 5.128436| 6.037979| 10.267325|\n",
    "|Only MA| MA(1) |967.860348| 1022.814595| 1050.152419| 1229.579787| 1227.452797| 1408.777788|18.452403| 18.830714| 18.760088| 19.604586| 19.721267| 20.764311|\n",
    "|ARIMA| ARIMA(3,1,1) |5512.115779| 5505.175013| 5462.983116| 5690.096| 5501.030922| 6076.652971|46.140924| 46.115317| 46.056424| 46.204468| 45.920331| 46.613547|"
   ]
  },
  {
   "cell_type": "markdown",
   "metadata": {},
   "source": [
    "## Dataset 5"
   ]
  },
  {
   "cell_type": "markdown",
   "metadata": {},
   "source": [
    "|   Questions related to dataset stationarity    |  Answers |\n",
    "|:-----------------:|:-----------------:|\n",
    "| Dataset |Dataset5_yearssn|\n",
    "|Is Dataset Stationery? |    No                |\n",
    "|If yes, why,? and if not, why not? |ADF test: The test statistic is greater than the critical value, so we fail to reject the null hypothesis. So it is non-stationary series fro test stastics point. Also P value is approxly 0.05 so, it is stationary for some part. <br> KPSS Test: The test statistic is greater than the critical value so we can reject the null hypothesis. So it is non-stationary series. So, from both tests, we can say it is non-stationary series or differencing stationary series.| \n",
    "|If differencing was done, how many times it was done? |        1 time done.|"
   ]
  },
  {
   "cell_type": "markdown",
   "metadata": {},
   "source": [
    "\n",
    " | Method | model detail  |  MSE <br> 1   | <br> 2   | <br> 4  | <br>  8 | <br> 12 | <br> 24  | MAE <br> 1   | <br> 2   | <br> 4   | <br>  8 | <br> 12   | <br>  24   |\n",
    "|:-----------------:|:-----------:|:-----|:-----|:-----|:-----|:-----|:-----|:-----|:-----|:-----|:-----|:-----|:-----|\n",
    "| Single Exponential Smoothing | alpha(0.9) |640.427465| 1820.229222| 3637.500673| 2674.403937| 1698.970669| 2885.055401|19.307837| 34.077243| 50.385216| 42.382721| 29.492005| 41.200779|    \n",
    "| Double Exponential Smoothing| alpha(0.9), beta(0.01) |647.442345| 649.517481| 653.707916| 662.253118| 671.024682| 698.791221|19.460323| 19.522696| 19.648649| 19.905494| 20.169143| 21.003728|\n",
    "|Triple Exponential Smoothing| alpha(0.9), beta(0.02), gamma(0.95) |1859.837866| 1676.813214| 1818.433333| 1841.780593| 1245.483599| 1739.051595|36.669901| 34.438454| 36.060498| 34.655532| 29.688633| 32.711629|\n",
    "|Only AR| AR(3) |274.28825| 766.403566| 976.782218| 1398.170454| 622.622517| 740.405754|12.526752| 20.742997| 23.641919| 30.591974| 21.544379| 22.979367|\n",
    "|Only MA| MA(1) |650.099791| 959.551032| 1488.515324| 1578.967539| 688.0532| 806.695362|20.186382| 24.604281| 31.851828| 33.21121| 21.847007| 25.169265|\n",
    "|ARIMA| ARIMA(0,1,1) |3816.130912| 3466.886242| 4684.998232| 6731.963921| 2785.175261| 3180.320488|49.531845| 49.363181| 54.497571| 60.591768| 40.355934| 47.698302|"
   ]
  },
  {
   "cell_type": "markdown",
   "metadata": {},
   "source": [
    "## Dataset 6"
   ]
  },
  {
   "cell_type": "markdown",
   "metadata": {},
   "source": [
    "|   Questions related to dataset stationarity    |  Answers |\n",
    "|:-----------------:|:-----------------:|\n",
    "| Dataset |Dataset6_ftse|\n",
    "|Is Dataset Stationery? |    Yes                |\n",
    "|If yes, why,? and if not, why not? |ADF test: The test statistic is less than the critical value, so we can reject the null hypothesis. So it is stationary series. Also P value is approxly 0.05 so, it is stationary. <br> KPSS Test: The test statistic is less than the critical value so we can't reject the null hypothesis. So it is stationary series. <br> SO from both tests, we can say it is stationary series.| \n",
    "|If differencing was done, how many times it was done? |        No|"
   ]
  },
  {
   "cell_type": "markdown",
   "metadata": {},
   "source": [
    "\n",
    " | Method | model detail  |  MSE <br> 1   | <br> 2   | <br> 4  | <br>  8 | <br> 12 | <br> 24  | MAE <br> 1   | <br> 2   | <br> 4   | <br>  8 | <br> 12   | <br>  24   |\n",
    "|:-----------------:|:-----------:|:-----|:-----|:-----|:-----|:-----|:-----|:-----|:-----|:-----|:-----|:-----|:-----|\n",
    "| Single Exponential Smoothing | alpha(0.9) |1672.458875| 3568.779268| 7969.041959| 14638.153482| 19277.444792| 21381.6381|31.634948| 46.9068| 70.370794| 93.437646| 107.826145| 121.276231|   \n",
    "| Double Exponential Smoothing| alpha(0.9), beta(0.01) |1682.50687| 1694.611236| 1719.350086| 1771.059863| 1825.976448| 2013.256084|31.869107| 32.098381| 32.56697| 33.546428| 34.586627| 38.133974|\n",
    "|Triple Exponential Smoothing| alpha(0.9), beta(0.02), gamma(0.95)|26286.024081| 30660.42042| 43527.306202| 30415.754299| 14350.665188| 101794.332426|122.967619| 138.367839| 174.860681| 131.252106| 100.679956| 269.542665|\n",
    "|Only AR| AR(1) |1730.607587| 3210.008755| 6453.695408| 10696.92366| 11705.442952| 12114.504671|31.415877| 45.041177| 63.757767| 80.411194| 99.169848| 93.264671|\n",
    "|Only MA| MA(1) |5014.512369| 5273.467598| 7307.293902| 10669.574975| 10118.782027| 10302.931515|60.56038| 60.328257| 66.371851| 81.354384| 93.497286| 92.023897|\n",
    "|ARIMA| ARIMA(0,1,1)|45204998.890783| 45168394.212525| 45162378.929808| 45512173.106636| 45236884.038448| 44708347.847302|6722.580322| 6719.947219| 6719.519122| 6744.397919| 6725.209219| 6686.076323|"
   ]
  },
  {
   "cell_type": "code",
   "execution_count": null,
   "metadata": {},
   "outputs": [],
   "source": []
  }
 ],
 "metadata": {
  "kernelspec": {
   "display_name": "Python 3",
   "language": "python",
   "name": "python3"
  },
  "language_info": {
   "codemirror_mode": {
    "name": "ipython",
    "version": 3
   },
   "file_extension": ".py",
   "mimetype": "text/x-python",
   "name": "python",
   "nbconvert_exporter": "python",
   "pygments_lexer": "ipython3",
   "version": "3.8.5"
  }
 },
 "nbformat": 4,
 "nbformat_minor": 4
}
