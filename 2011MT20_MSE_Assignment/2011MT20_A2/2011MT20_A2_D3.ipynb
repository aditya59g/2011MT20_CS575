{
  "nbformat": 4,
  "nbformat_minor": 0,
  "metadata": {
    "colab": {
      "name": "2011MT20_A3_D3.ipynb",
      "provenance": [],
      "collapsed_sections": []
    },
    "kernelspec": {
      "name": "python3",
      "display_name": "Python 3"
    }
  },
  "cells": [
    {
      "cell_type": "markdown",
      "metadata": {
        "id": "x44iqQmVYC7z"
      },
      "source": [
        "## Dataset3_nasdaq"
      ]
    },
    {
      "cell_type": "code",
      "metadata": {
        "id": "zVMJhNwLmhrz"
      },
      "source": [
        "import pandas as pd\r\n",
        "import numpy as np\r\n",
        "from statsmodels.tsa.stattools import adfuller,kpss\r\n",
        "from statsmodels.graphics.tsaplots import plot_acf,plot_pacf\r\n",
        "import matplotlib.pyplot as plt\r\n",
        "import warnings\r\n",
        "warnings.simplefilter('ignore')"
      ],
      "execution_count": 1,
      "outputs": []
    },
    {
      "cell_type": "code",
      "metadata": {
        "id": "hscsKoS-pYeH"
      },
      "source": [
        "df = pd.read_csv('Dataset3_nasdaq_1985_2014.csv', names = [\"nasdaq\"])"
      ],
      "execution_count": 2,
      "outputs": []
    },
    {
      "cell_type": "code",
      "metadata": {
        "colab": {
          "base_uri": "https://localhost:8080/",
          "height": 195
        },
        "id": "CB59CAtDqArV",
        "outputId": "e2bc93d7-1625-4567-fc5c-9ecdb414a5f4"
      },
      "source": [
        "df.head()"
      ],
      "execution_count": 3,
      "outputs": [
        {
          "output_type": "execute_result",
          "data": {
            "text/html": [
              "<div>\n",
              "<style scoped>\n",
              "    .dataframe tbody tr th:only-of-type {\n",
              "        vertical-align: middle;\n",
              "    }\n",
              "\n",
              "    .dataframe tbody tr th {\n",
              "        vertical-align: top;\n",
              "    }\n",
              "\n",
              "    .dataframe thead th {\n",
              "        text-align: right;\n",
              "    }\n",
              "</style>\n",
              "<table border=\"1\" class=\"dataframe\">\n",
              "  <thead>\n",
              "    <tr style=\"text-align: right;\">\n",
              "      <th></th>\n",
              "      <th>nasdaq</th>\n",
              "    </tr>\n",
              "  </thead>\n",
              "  <tbody>\n",
              "    <tr>\n",
              "      <th>0</th>\n",
              "      <td>3888.09</td>\n",
              "    </tr>\n",
              "    <tr>\n",
              "      <th>1</th>\n",
              "      <td>3857.94</td>\n",
              "    </tr>\n",
              "    <tr>\n",
              "      <th>2</th>\n",
              "      <td>3874.27</td>\n",
              "    </tr>\n",
              "    <tr>\n",
              "      <th>3</th>\n",
              "      <td>3874.94</td>\n",
              "    </tr>\n",
              "    <tr>\n",
              "      <th>4</th>\n",
              "      <td>3908.77</td>\n",
              "    </tr>\n",
              "  </tbody>\n",
              "</table>\n",
              "</div>"
            ],
            "text/plain": [
              "    nasdaq\n",
              "0  3888.09\n",
              "1  3857.94\n",
              "2  3874.27\n",
              "3  3874.94\n",
              "4  3908.77"
            ]
          },
          "metadata": {
            "tags": []
          },
          "execution_count": 3
        }
      ]
    },
    {
      "cell_type": "code",
      "metadata": {
        "colab": {
          "base_uri": "https://localhost:8080/",
          "height": 282
        },
        "id": "2NVEfs-itbGT",
        "outputId": "825d1698-6210-48f2-ef45-73a12b8c6cd6"
      },
      "source": [
        "plt.plot(df['nasdaq'])"
      ],
      "execution_count": 4,
      "outputs": [
        {
          "output_type": "execute_result",
          "data": {
            "text/plain": [
              "[<matplotlib.lines.Line2D at 0x7f4a51f9b610>]"
            ]
          },
          "metadata": {
            "tags": []
          },
          "execution_count": 4
        },
        {
          "output_type": "display_data",
          "data": {
            "image/png": "[encoded data removed]",
            "text/plain": [
              "<Figure size 432x288 with 1 Axes>"
            ]
          },
          "metadata": {
            "tags": [],
            "needs_background": "light"
          }
        }
      ]
    },
    {
      "cell_type": "markdown",
      "metadata": {
        "id": "7MM7yZlsvTsr"
      },
      "source": [
        "From data plot, we can say that it is a non-stationary data series."
      ]
    },
    {
      "cell_type": "markdown",
      "metadata": {
        "id": "zLuzarVVp8On"
      },
      "source": [
        "**ADF Test**"
      ]
    },
    {
      "cell_type": "code",
      "metadata": {
        "colab": {
          "base_uri": "https://localhost:8080/"
        },
        "id": "35g3Q7B1p09S",
        "outputId": "1c387793-417d-457a-c7db-af567f4da28d"
      },
      "source": [
        "def adf_test(atr):\r\n",
        "    #Perform Dickey-Fuller test:\r\n",
        "    timeseries = df[atr].dropna()\r\n",
        "    print ('Results of Dickey-Fuller Test for ',atr,'\\n')\r\n",
        "    dftest = adfuller(timeseries, autolag='AIC')\r\n",
        "    dfoutput = pd.Series(dftest[0:4], index=['Test Statistic','p-value','#Lags Used','Number of Observations Used'])\r\n",
        "    for key,value in dftest[4].items():\r\n",
        "       dfoutput['Critical Value (%s)'%key] = value\r\n",
        "    print(dfoutput)\r\n",
        "\r\n",
        "#apply adf test on the series\r\n",
        "adf_test('nasdaq')"
      ],
      "execution_count": 5,
      "outputs": [
        {
          "output_type": "stream",
          "text": [
            "Results of Dickey-Fuller Test for  nasdaq \n",
            "\n",
            "Test Statistic                   -2.381102\n",
            "p-value                           0.147141\n",
            "#Lags Used                       35.000000\n",
            "Number of Observations Used    7240.000000\n",
            "Critical Value (1%)              -3.431254\n",
            "Critical Value (5%)              -2.861939\n",
            "Critical Value (10%)             -2.566983\n",
            "dtype: float64\n"
          ],
          "name": "stdout"
        }
      ]
    },
    {
      "cell_type": "markdown",
      "metadata": {
        "id": "c50w669Kuatb"
      },
      "source": [
        "ADF test: The test statistic is greater than the critical value, so we fail to reject the null hypothesis. So it is non-stationary series.\r\n",
        "Also P value is greater than 0.05 so, from that also we can say it is non-stationary. "
      ]
    },
    {
      "cell_type": "markdown",
      "metadata": {
        "id": "ZjDyJwqKtoN0"
      },
      "source": [
        "**KPSS Test**"
      ]
    },
    {
      "cell_type": "code",
      "metadata": {
        "colab": {
          "base_uri": "https://localhost:8080/"
        },
        "id": "Ilqq78RRtAiP",
        "outputId": "4f8f71d1-8955-45fe-9db7-ee58bcd9a7f1"
      },
      "source": [
        "def kpss_test(atr):\r\n",
        "    timeseries = df[atr].dropna()\r\n",
        "    print ('Results of KPSS Test for ',atr)\r\n",
        "    kpsstest = kpss(timeseries, regression='c')\r\n",
        "    kpss_output = pd.Series(kpsstest[0:3], index=['Test Statistic','p-value','Lags Used'])\r\n",
        "    for key,value in kpsstest[3].items():\r\n",
        "        kpss_output['Critical Value (%s)'%key] = value\r\n",
        "    print (kpss_output)\r\n",
        "kpss_test('nasdaq')"
      ],
      "execution_count": 6,
      "outputs": [
        {
          "output_type": "stream",
          "text": [
            "Results of KPSS Test for  nasdaq\n",
            "Test Statistic           12.143812\n",
            "p-value                   0.010000\n",
            "Lags Used                36.000000\n",
            "Critical Value (10%)      0.347000\n",
            "Critical Value (5%)       0.463000\n",
            "Critical Value (2.5%)     0.574000\n",
            "Critical Value (1%)       0.739000\n",
            "dtype: float64\n"
          ],
          "name": "stdout"
        }
      ]
    },
    {
      "cell_type": "markdown",
      "metadata": {
        "id": "V7yvqiNNutVZ"
      },
      "source": [
        "KPSS Test: The test statistic is greater than the critical value so we can reject the null hypothesis. So it is non-stationary series.\r\n"
      ]
    },
    {
      "cell_type": "markdown",
      "metadata": {
        "id": "fwdHipuZOl5O"
      },
      "source": [
        "SO from both tests, we can say it is non-stationary series."
      ]
    },
    {
      "cell_type": "markdown",
      "metadata": {
        "id": "_6Z08HImsJvj"
      },
      "source": [
        "**Differencing with period 1 to make non-stationary data to stationary dataseries.**"
      ]
    },
    {
      "cell_type": "code",
      "metadata": {
        "id": "VP6ZodUktI_T"
      },
      "source": [
        "df['Diff'] = df['nasdaq'].diff(periods=1)"
      ],
      "execution_count": 7,
      "outputs": []
    },
    {
      "cell_type": "code",
      "metadata": {
        "colab": {
          "base_uri": "https://localhost:8080/",
          "height": 402
        },
        "id": "lG1HYwKHGAH0",
        "outputId": "71a0e0e2-54aa-4f88-ced9-052a705d7854"
      },
      "source": [
        "df"
      ],
      "execution_count": 8,
      "outputs": [
        {
          "output_type": "execute_result",
          "data": {
            "text/html": [
              "<div>\n",
              "<style scoped>\n",
              "    .dataframe tbody tr th:only-of-type {\n",
              "        vertical-align: middle;\n",
              "    }\n",
              "\n",
              "    .dataframe tbody tr th {\n",
              "        vertical-align: top;\n",
              "    }\n",
              "\n",
              "    .dataframe thead th {\n",
              "        text-align: right;\n",
              "    }\n",
              "</style>\n",
              "<table border=\"1\" class=\"dataframe\">\n",
              "  <thead>\n",
              "    <tr style=\"text-align: right;\">\n",
              "      <th></th>\n",
              "      <th>nasdaq</th>\n",
              "      <th>Diff</th>\n",
              "    </tr>\n",
              "  </thead>\n",
              "  <tbody>\n",
              "    <tr>\n",
              "      <th>0</th>\n",
              "      <td>3888.09</td>\n",
              "      <td>NaN</td>\n",
              "    </tr>\n",
              "    <tr>\n",
              "      <th>1</th>\n",
              "      <td>3857.94</td>\n",
              "      <td>-30.15</td>\n",
              "    </tr>\n",
              "    <tr>\n",
              "      <th>2</th>\n",
              "      <td>3874.27</td>\n",
              "      <td>16.33</td>\n",
              "    </tr>\n",
              "    <tr>\n",
              "      <th>3</th>\n",
              "      <td>3874.94</td>\n",
              "      <td>0.67</td>\n",
              "    </tr>\n",
              "    <tr>\n",
              "      <th>4</th>\n",
              "      <td>3908.77</td>\n",
              "      <td>33.83</td>\n",
              "    </tr>\n",
              "    <tr>\n",
              "      <th>...</th>\n",
              "      <td>...</td>\n",
              "      <td>...</td>\n",
              "    </tr>\n",
              "    <tr>\n",
              "      <th>7271</th>\n",
              "      <td>216.40</td>\n",
              "      <td>2.08</td>\n",
              "    </tr>\n",
              "    <tr>\n",
              "      <th>7272</th>\n",
              "      <td>220.15</td>\n",
              "      <td>3.75</td>\n",
              "    </tr>\n",
              "    <tr>\n",
              "      <th>7273</th>\n",
              "      <td>221.74</td>\n",
              "      <td>1.59</td>\n",
              "    </tr>\n",
              "    <tr>\n",
              "      <th>7274</th>\n",
              "      <td>221.65</td>\n",
              "      <td>-0.09</td>\n",
              "    </tr>\n",
              "    <tr>\n",
              "      <th>7275</th>\n",
              "      <td>224.28</td>\n",
              "      <td>2.63</td>\n",
              "    </tr>\n",
              "  </tbody>\n",
              "</table>\n",
              "<p>7276 rows × 2 columns</p>\n",
              "</div>"
            ],
            "text/plain": [
              "       nasdaq   Diff\n",
              "0     3888.09    NaN\n",
              "1     3857.94 -30.15\n",
              "2     3874.27  16.33\n",
              "3     3874.94   0.67\n",
              "4     3908.77  33.83\n",
              "...       ...    ...\n",
              "7271   216.40   2.08\n",
              "7272   220.15   3.75\n",
              "7273   221.74   1.59\n",
              "7274   221.65  -0.09\n",
              "7275   224.28   2.63\n",
              "\n",
              "[7276 rows x 2 columns]"
            ]
          },
          "metadata": {
            "tags": []
          },
          "execution_count": 8
        }
      ]
    },
    {
      "cell_type": "code",
      "metadata": {
        "colab": {
          "base_uri": "https://localhost:8080/"
        },
        "id": "4RTvI2S37ZRE",
        "outputId": "3b0220c5-ade2-49f4-f6d8-9ff9ebd7e3ac"
      },
      "source": [
        "adf_test('Diff')"
      ],
      "execution_count": 9,
      "outputs": [
        {
          "output_type": "stream",
          "text": [
            "Results of Dickey-Fuller Test for  Diff \n",
            "\n",
            "Test Statistic                -1.305224e+01\n",
            "p-value                        2.130223e-24\n",
            "#Lags Used                     3.600000e+01\n",
            "Number of Observations Used    7.238000e+03\n",
            "Critical Value (1%)           -3.431254e+00\n",
            "Critical Value (5%)           -2.861939e+00\n",
            "Critical Value (10%)          -2.566983e+00\n",
            "dtype: float64\n"
          ],
          "name": "stdout"
        }
      ]
    },
    {
      "cell_type": "markdown",
      "metadata": {
        "id": "8QPoWeu2s2qp"
      },
      "source": [
        "p value is less than the 0.05 so data is stationary."
      ]
    },
    {
      "cell_type": "code",
      "metadata": {
        "colab": {
          "base_uri": "https://localhost:8080/",
          "height": 265
        },
        "id": "3ivGsOXIx-17",
        "outputId": "67149f7f-9ba7-438c-c8f8-7a5ffda8e7de"
      },
      "source": [
        "df['Diff'].plot()\r\n",
        "plt.show()"
      ],
      "execution_count": 10,
      "outputs": [
        {
          "output_type": "display_data",
          "data": {
            "image/png": "[encoded data removed]",
            "text/plain": [
              "<Figure size 432x288 with 1 Axes>"
            ]
          },
          "metadata": {
            "tags": [],
            "needs_background": "light"
          }
        }
      ]
    },
    {
      "cell_type": "code",
      "metadata": {
        "id": "jHuiToDslAOW"
      },
      "source": [
        "data1 = df.iloc[:,0].values\r\n",
        "dataset_array1 = [data1[0::1],data1[0::2],data1[0::4],data1[0::8],data1[0::12],data1[0::24]]"
      ],
      "execution_count": 11,
      "outputs": []
    },
    {
      "cell_type": "code",
      "metadata": {
        "id": "_AeHRsQ6Ig87"
      },
      "source": [
        "def plotting_function(MSE,MAE,name):\r\n",
        "  interval = [1,2,3,4,5,6]\r\n",
        "\r\n",
        "  barWidth = 0.25  \r\n",
        "  r1 = np.arange(len(interval))\r\n",
        "  r2 = [x + barWidth for x in r1]\r\n",
        "  \r\n",
        "  # Make the plot\r\n",
        "  plt.bar(r1, MSE, color='b', width=barWidth, label='MSE')\r\n",
        "  plt.bar(r2, MAE, color='g', width=barWidth, label='MAE')\r\n",
        "\r\n",
        "  plt.xlabel('interval', fontweight='bold')\r\n",
        "  plt.xticks([r + barWidth for r in range(len(interval))], ['1', '2', '4', '8', '12','24'])\r\n",
        "  plt.title('MSE and MAE plot for '+(name))\r\n",
        "  plt.legend()\r\n",
        "  plt.show()\r\n",
        " "
      ],
      "execution_count": 12,
      "outputs": []
    },
    {
      "cell_type": "markdown",
      "metadata": {
        "id": "TGkRrLc62laR"
      },
      "source": [
        "**single exponential smoothing**"
      ]
    },
    {
      "cell_type": "code",
      "metadata": {
        "id": "JGc-Q1YyJppf"
      },
      "source": [
        "def single_exp(data,interval,alpha):\r\n",
        "  array1=data\r\n",
        "  \r\n",
        "  fv = np.array([None] * len(array1))\r\n",
        "  for i in range(interval):\r\n",
        "    fv[i]=array1[i]\r\n",
        "   \r\n",
        "  for i in range(interval, len(array1)):\r\n",
        "    fv[i] = alpha * array1[i-interval] + (1 - alpha) * fv[i - interval]\r\n",
        "  array = array1-fv\r\n",
        "  arr = pd.DataFrame.from_dict({\"nasdaq\":array1,\"Forecasted value\":fv,\"Error\":array})\r\n",
        "  return arr"
      ],
      "execution_count": 13,
      "outputs": []
    },
    {
      "cell_type": "code",
      "metadata": {
        "id": "O20tgYH7Qw7M",
        "colab": {
          "base_uri": "https://localhost:8080/"
        },
        "outputId": "e48360f4-7084-40cf-ed18-648f1a380d0c"
      },
      "source": [
        "interval = [1,2,4,8,12,24]\r\n",
        "mse1=[]\r\n",
        "mae1=[]\r\n",
        "for i in interval:\r\n",
        "  a = single_exp(df.iloc[:,0],i,0.9)\r\n",
        "  mse_val = ((a.Error)**2).sum()/(len(a.Error)-i)\r\n",
        "  mae_val = (abs(a.Error)).sum()/(len(a.Error)-i)\r\n",
        "  mse1.append(round(mse_val,6))\r\n",
        "  mae1.append(round(mae_val,6))\r\n",
        "\r\n",
        "print('MSE for each interval respectively \\n',mse1)\r\n",
        "print('MSE for each interval respectively \\n',mae1)"
      ],
      "execution_count": 14,
      "outputs": [
        {
          "output_type": "stream",
          "text": [
            "MSE for each interval respectively \n",
            " [1101.340197, 2057.483943, 3713.54713, 6914.831946, 9844.658568, 20992.987747]\n",
            "MSE for each interval respectively \n",
            " [17.540286, 24.758787, 34.261581, 47.628966, 57.559496, 85.368321]\n"
          ],
          "name": "stdout"
        }
      ]
    },
    {
      "cell_type": "code",
      "metadata": {
        "colab": {
          "base_uri": "https://localhost:8080/",
          "height": 295
        },
        "id": "CMKGbOi0Jcnb",
        "outputId": "9aa2d876-7b6a-4a80-9faa-0d67af94e63c"
      },
      "source": [
        "plotting_function(mse1,mae1,'single exponential smoothing')"
      ],
      "execution_count": 15,
      "outputs": [
        {
          "output_type": "display_data",
          "data": {
            "image/png": "[encoded data removed]",
            "text/plain": [
              "<Figure size 432x288 with 1 Axes>"
            ]
          },
          "metadata": {
            "tags": [],
            "needs_background": "light"
          }
        }
      ]
    },
    {
      "cell_type": "markdown",
      "metadata": {
        "id": "z2vWzVqJs9Y8"
      },
      "source": [
        "**Double Exponential Smoothing**"
      ]
    },
    {
      "cell_type": "code",
      "metadata": {
        "id": "pR1gtCEzQw4E"
      },
      "source": [
        "def double_exp(data,interval,alpha,beta):\r\n",
        "  array=data\r\n",
        "  f = np.array([None] * len(array))\r\n",
        "  a = np.array([None] * len(array))\r\n",
        "  b = np.array([None] * len(array))\r\n",
        "  \r\n",
        "\r\n",
        "  f[0]=data[0]\r\n",
        "  a[0] = array[0]\r\n",
        "  b[0] = (array[(len(array)-1)] - array[0])/(len(array)-1)\r\n",
        "\r\n",
        "  if interval<2:\r\n",
        "    f[1] = a[0]+b[0]\r\n",
        "    for i in range(2, len(array)):\r\n",
        "      a[i-1] = alpha*array[i-1] + (1-alpha)*(a[i-2]+b[i-2])\r\n",
        "      b[i-1] = beta*(a[i-1]-a[i-2]) + (1-beta)*b[i-2]\r\n",
        "      f[i] = a[i-1] + b[i-1]\r\n",
        "    arr = pd.DataFrame.from_dict({\"nasdaq\":array,\"Forecasted value\":f,\"Error\":array-f})\r\n",
        "  else:\r\n",
        "    for i in range(2,interval):\r\n",
        "      a[i-1] = alpha*array[i-1] + (1-alpha)*(a[i-2]+b[i-2])\r\n",
        "      b[i-1] = beta*(a[i-1]-a[i-2]) + (1-beta)*b[i-2]\r\n",
        "\r\n",
        "    for i in range(1,interval):\r\n",
        "      f[i] = a[i-1] + b[i-1]\r\n",
        "\r\n",
        "    for i in range(interval, len(array)):\r\n",
        "      a[i-1] = alpha*array[i-1] + (1-alpha)*(a[i-2]+b[i-2])\r\n",
        "      b[i-1] = beta*(a[i-1]-a[i-2]) + (1-beta)*b[i-2]\r\n",
        "      f[i] = a[i-1] + b[i-1]\r\n",
        "    arr = pd.DataFrame.from_dict({\"nasdaq\":array,\"Forecasted value\":f,\"Error\":array-f})\r\n",
        "  return arr"
      ],
      "execution_count": 16,
      "outputs": []
    },
    {
      "cell_type": "code",
      "metadata": {
        "colab": {
          "base_uri": "https://localhost:8080/"
        },
        "id": "sz9h8HQL4OR1",
        "outputId": "728acb1a-2d8f-411b-c50b-742cccac44c7"
      },
      "source": [
        "interval = [1,2,4,8,12,24]\r\n",
        "mse2=[]\r\n",
        "mae2=[]\r\n",
        "for i in interval:\r\n",
        "  a = double_exp(df.iloc[:,0],i,0.9,0.01)\r\n",
        "  mse_val = ((a.Error)**2).sum()/(len(a.Error)-i)\r\n",
        "  mae_val = (abs(a.Error)).sum()/(len(a.Error)-i)\r\n",
        "  mse2.append(round(mse_val,6))\r\n",
        "  mae2.append(round(mae_val,6))\r\n",
        "\r\n",
        "print('MSE for each interval respectively \\n',mse2)\r\n",
        "print('MSE for each interval respectively \\n',mae2)"
      ],
      "execution_count": 17,
      "outputs": [
        {
          "output_type": "stream",
          "text": [
            "MSE for each interval respectively \n",
            " [1104.909446, 1105.061344, 1105.365267, 1105.973613, 1106.582629, 1108.413709]\n",
            "MSE for each interval respectively \n",
            " [17.538233, 17.540644, 17.545468, 17.555124, 17.564791, 17.593856]\n"
          ],
          "name": "stdout"
        }
      ]
    },
    {
      "cell_type": "code",
      "metadata": {
        "colab": {
          "base_uri": "https://localhost:8080/",
          "height": 295
        },
        "id": "np9zyNuZMfgV",
        "outputId": "dacb3e49-e3fd-4098-aedc-5d71504aae50"
      },
      "source": [
        "plotting_function(mse2,mae2,'double exponential smoothing')"
      ],
      "execution_count": 18,
      "outputs": [
        {
          "output_type": "display_data",
          "data": {
            "image/png": "[encoded data removed]",
            "text/plain": [
              "<Figure size 432x288 with 1 Axes>"
            ]
          },
          "metadata": {
            "tags": [],
            "needs_background": "light"
          }
        }
      ]
    },
    {
      "cell_type": "markdown",
      "metadata": {
        "id": "UE-Ob6iByCO5"
      },
      "source": [
        "**Triple Exponential Smoothing**"
      ]
    },
    {
      "cell_type": "code",
      "metadata": {
        "id": "Hzpd0J0pB8sJ"
      },
      "source": [
        "def initial_trend(data, season_len):\r\n",
        "    sum = 0.0\r\n",
        "    for i in range(season_len):\r\n",
        "        sum += float(data[i+season_len] - data[i]) / season_len\r\n",
        "    return sum / season_len\r\n",
        "\r\n",
        "def initial_seasonal(data, season_len):\r\n",
        "  seasonals = {}\r\n",
        "  season_averages = []\r\n",
        "  n_seasons = int(len(data)/season_len)\r\n",
        "  # compute season averages\r\n",
        "  for j in range(n_seasons):\r\n",
        "    avg = ((data[(season_len*j):(season_len*j)+season_len]).sum())/float(season_len)\r\n",
        "    season_averages.append(avg)\r\n",
        "  # initial values\r\n",
        "  for i in range(season_len):\r\n",
        "    sum = 0.0\r\n",
        "    for j in range(n_seasons):\r\n",
        "      sum += data[season_len*j+i]-season_averages[j]\r\n",
        "    seasonals[i] = sum/n_seasons\r\n",
        "  return seasonals\r\n",
        "\r\n",
        "def triple_exp(data, season_len, alpha, beta, gamma, n_preds):\r\n",
        "  result = []\r\n",
        "  error = []\r\n",
        "  seasonals = initial_seasonal(data, season_len)\r\n",
        "  for i in range(len(data)+n_preds):\r\n",
        "    if i == 0: # initial values\r\n",
        "      smooth = data[0]\r\n",
        "      trend = initial_trend(data, season_len)\r\n",
        "      result.append(data[0])\r\n",
        "      continue\r\n",
        "    if i >= len(data): # we are forecasting\r\n",
        "      m = i - len(data) + 1\r\n",
        "      result.append((smooth + m*trend) + seasonals[i%season_len])\r\n",
        "    else:\r\n",
        "      val = data[i]\r\n",
        "      last_smooth, smooth = smooth, alpha*(val-seasonals[i%season_len]) + (1-alpha)*(smooth+trend)\r\n",
        "      trend = beta * (smooth-last_smooth) + (1-beta)*trend\r\n",
        "      seasonals[i%season_len] = gamma*(val-smooth) + (1-gamma)*seasonals[i%season_len]\r\n",
        "      forecast = smooth+trend+seasonals[i%season_len]\r\n",
        "      error = data - forecast\r\n",
        "      result.append(forecast)\r\n",
        "      \r\n",
        "  SE = np.square(error)\r\n",
        "  SSE = 0\r\n",
        "  for i in SE:\r\n",
        "    SSE+= i\r\n",
        "  mse_val = SSE/(len(data)-1)\r\n",
        "  mae_val = np.sum(abs(error)/len(error))\r\n",
        "  return mse_val,mae_val"
      ],
      "execution_count": 19,
      "outputs": []
    },
    {
      "cell_type": "code",
      "metadata": {
        "colab": {
          "base_uri": "https://localhost:8080/"
        },
        "id": "J_h0dT874PaB",
        "outputId": "93423a0a-7cd3-498c-cf78-c35f9ef4f903"
      },
      "source": [
        "mse3 = []\r\n",
        "mae3 = []\r\n",
        "final_forecasted_list = []\r\n",
        "for dataframe in dataset_array1:\r\n",
        "  mse_val,mae_val = triple_exp(dataframe,1,0.9,0.02,0.95,1)\r\n",
        "  mse3.append(round(mse_val,6))\r\n",
        "  mae3.append(round(mae_val,6))\r\n",
        "\r\n",
        "print('MSE for each interval respectively \\n',mse3)\r\n",
        "print('MSE for each interval respectively \\n',mae3)"
      ],
      "execution_count": 20,
      "outputs": [
        {
          "output_type": "stream",
          "text": [
            "MSE for each interval respectively \n",
            " [2223876.830126, 2233298.026276, 2238596.825256, 2241838.580041, 2258817.85846, 2263772.859663]\n",
            "MSE for each interval respectively \n",
            " [1151.951487, 1155.328765, 1157.497431, 1158.619594, 1161.902892, 1163.71419]\n"
          ],
          "name": "stdout"
        }
      ]
    },
    {
      "cell_type": "code",
      "metadata": {
        "colab": {
          "base_uri": "https://localhost:8080/",
          "height": 295
        },
        "id": "dmpRCtkrMrSA",
        "outputId": "d3fd83fd-e982-42bc-a072-5ba4fbf6365e"
      },
      "source": [
        "plotting_function(mse3,mae3,'triple exponential smoothing')"
      ],
      "execution_count": 21,
      "outputs": [
        {
          "output_type": "display_data",
          "data": {
            "image/png": "[encoded data removed]",
            "text/plain": [
              "<Figure size 432x288 with 1 Axes>"
            ]
          },
          "metadata": {
            "tags": [],
            "needs_background": "light"
          }
        }
      ]
    },
    {
      "cell_type": "markdown",
      "metadata": {
        "id": "l1TbBf_36RHQ"
      },
      "source": [
        "**ACF PACF Plot**"
      ]
    },
    {
      "cell_type": "code",
      "metadata": {
        "colab": {
          "base_uri": "https://localhost:8080/",
          "height": 545
        },
        "id": "yfsntbp135f0",
        "outputId": "8ba801d9-49d8-4e65-bc18-f70fb3d6d097"
      },
      "source": [
        "plot_acf(df.iloc[:,1].dropna(), lags=10)\r\n",
        "plt.show()\r\n",
        "plot_pacf(df.iloc[:,1].dropna(), lags=10)\r\n",
        "plt.show()"
      ],
      "execution_count": 22,
      "outputs": [
        {
          "output_type": "display_data",
          "data": {
            "image/png": "[encoded data removed]",
            "text/plain": [
              "<Figure size 432x288 with 1 Axes>"
            ]
          },
          "metadata": {
            "tags": [],
            "needs_background": "light"
          }
        },
        {
          "output_type": "display_data",
          "data": {
            "image/png": "[encoded data removed]",
            "text/plain": [
              "<Figure size 432x288 with 1 Axes>"
            ]
          },
          "metadata": {
            "tags": [],
            "needs_background": "light"
          }
        }
      ]
    },
    {
      "cell_type": "markdown",
      "metadata": {
        "id": "uHFh9P7_yHfs"
      },
      "source": [
        "pmdarima package install"
      ]
    },
    {
      "cell_type": "code",
      "metadata": {
        "colab": {
          "base_uri": "https://localhost:8080/",
          "height": 572
        },
        "id": "v_agQdKEVRM2",
        "outputId": "77aec9cd-804d-475f-b1b5-3ed1e02a20dc"
      },
      "source": [
        "!pip3 install pmdarima"
      ],
      "execution_count": 4,
      "outputs": [
        {
          "output_type": "stream",
          "text": [
            "Collecting pmdarima\n",
            "\u001b[?25l  Downloading https://files.pythonhosted.org/packages/e4/a8/bdf15174e35d072e145d16388b1d3bc7605b752610170cb022a290411427/pmdarima-1.8.0-cp37-cp37m-manylinux1_x86_64.whl (1.5MB)\n",
            "\u001b[K     |████████████████████████████████| 1.5MB 5.4MB/s \n",
            "\u001b[?25hRequirement already satisfied: pandas>=0.19 in /usr/local/lib/python3.7/dist-packages (from pmdarima) (1.1.5)\n",
            "Collecting Cython<0.29.18,>=0.29\n",
            "\u001b[?25l  Downloading https://files.pythonhosted.org/packages/dc/6c/198da24bf0a1d5b5ee6119e891c5300bb1b0b8904832fac9ff62d4e381c9/Cython-0.29.17-cp37-cp37m-manylinux1_x86_64.whl (2.1MB)\n",
            "\u001b[K     |████████████████████████████████| 2.1MB 15.9MB/s \n",
            "\u001b[?25hRequirement already satisfied: scipy>=1.3.2 in /usr/local/lib/python3.7/dist-packages (from pmdarima) (1.4.1)\n",
            "Requirement already satisfied: joblib>=0.11 in /usr/local/lib/python3.7/dist-packages (from pmdarima) (1.0.1)\n",
            "Requirement already satisfied: setuptools!=50.0.0,>=38.6.0 in /usr/local/lib/python3.7/dist-packages (from pmdarima) (53.0.0)\n",
            "Requirement already satisfied: urllib3 in /usr/local/lib/python3.7/dist-packages (from pmdarima) (1.24.3)\n",
            "Requirement already satisfied: scikit-learn>=0.22 in /usr/local/lib/python3.7/dist-packages (from pmdarima) (0.22.2.post1)\n",
            "Collecting statsmodels!=0.12.0,>=0.11\n",
            "\u001b[?25l  Downloading https://files.pythonhosted.org/packages/da/69/8eef30a6237c54f3c0b524140e2975f4b1eea3489b45eb3339574fc8acee/statsmodels-0.12.2-cp37-cp37m-manylinux1_x86_64.whl (9.5MB)\n",
            "\u001b[K     |████████████████████████████████| 9.5MB 37.5MB/s \n",
            "\u001b[?25hRequirement already satisfied: numpy>=1.17.3 in /usr/local/lib/python3.7/dist-packages (from pmdarima) (1.19.5)\n",
            "Requirement already satisfied: pytz>=2017.2 in /usr/local/lib/python3.7/dist-packages (from pandas>=0.19->pmdarima) (2018.9)\n",
            "Requirement already satisfied: python-dateutil>=2.7.3 in /usr/local/lib/python3.7/dist-packages (from pandas>=0.19->pmdarima) (2.8.1)\n",
            "Requirement already satisfied: patsy>=0.5 in /usr/local/lib/python3.7/dist-packages (from statsmodels!=0.12.0,>=0.11->pmdarima) (0.5.1)\n",
            "Requirement already satisfied: six>=1.5 in /usr/local/lib/python3.7/dist-packages (from python-dateutil>=2.7.3->pandas>=0.19->pmdarima) (1.15.0)\n",
            "Installing collected packages: Cython, statsmodels, pmdarima\n",
            "  Found existing installation: Cython 0.29.22\n",
            "    Uninstalling Cython-0.29.22:\n",
            "      Successfully uninstalled Cython-0.29.22\n",
            "  Found existing installation: statsmodels 0.10.2\n",
            "    Uninstalling statsmodels-0.10.2:\n",
            "      Successfully uninstalled statsmodels-0.10.2\n",
            "Successfully installed Cython-0.29.17 pmdarima-1.8.0 statsmodels-0.12.2\n"
          ],
          "name": "stdout"
        },
        {
          "output_type": "display_data",
          "data": {
            "application/vnd.colab-display-data+json": {
              "pip_warning": {
                "packages": [
                  "statsmodels"
                ]
              }
            }
          },
          "metadata": {
            "tags": []
          }
        }
      ]
    },
    {
      "cell_type": "code",
      "metadata": {
        "colab": {
          "base_uri": "https://localhost:8080/"
        },
        "id": "BFInJMkLzpfr",
        "outputId": "9043f1d2-c328-41d3-8ee6-cb788b66aa82"
      },
      "source": [
        "import pmdarima as pm\r\n",
        "model = pm.auto_arima(df.iloc[:,0], start_p=1, start_q=1,test='adf',max_p=5, max_q=3,m=1,d=None,seasonal=False,start_P=0, D=0, \r\n",
        "                      trace=True,error_action='ignore',  suppress_warnings=True,stepwise=True)\r\n",
        "print(model.summary())"
      ],
      "execution_count": 23,
      "outputs": [
        {
          "output_type": "stream",
          "text": [
            "Performing stepwise search to minimize aic\n",
            " ARIMA(1,1,1)(0,0,0)[0] intercept   : AIC=71573.519, Time=2.36 sec\n",
            " ARIMA(0,1,0)(0,0,0)[0] intercept   : AIC=71626.005, Time=0.18 sec\n",
            " ARIMA(1,1,0)(0,0,0)[0] intercept   : AIC=71602.481, Time=0.22 sec\n",
            " ARIMA(0,1,1)(0,0,0)[0] intercept   : AIC=71598.884, Time=0.72 sec\n",
            " ARIMA(0,1,0)(0,0,0)[0]             : AIC=71625.676, Time=0.12 sec\n",
            " ARIMA(2,1,1)(0,0,0)[0] intercept   : AIC=71573.861, Time=4.32 sec\n",
            " ARIMA(1,1,2)(0,0,0)[0] intercept   : AIC=71573.643, Time=3.09 sec\n",
            " ARIMA(0,1,2)(0,0,0)[0] intercept   : AIC=71574.051, Time=2.30 sec\n",
            " ARIMA(2,1,0)(0,0,0)[0] intercept   : AIC=71575.909, Time=0.72 sec\n",
            " ARIMA(2,1,2)(0,0,0)[0] intercept   : AIC=71575.157, Time=4.70 sec\n",
            " ARIMA(1,1,1)(0,0,0)[0]             : AIC=71573.985, Time=0.83 sec\n",
            "\n",
            "Best model:  ARIMA(1,1,1)(0,0,0)[0] intercept\n",
            "Total fit time: 19.593 seconds\n",
            "                               SARIMAX Results                                \n",
            "==============================================================================\n",
            "Dep. Variable:                      y   No. Observations:                 7276\n",
            "Model:               SARIMAX(1, 1, 1)   Log Likelihood              -35782.760\n",
            "Date:                Mon, 01 Mar 2021   AIC                          71573.519\n",
            "Time:                        05:41:16   BIC                          71601.088\n",
            "Sample:                             0   HQIC                         71583.001\n",
            "                               - 7276                                         \n",
            "Covariance Type:                  opg                                         \n",
            "==============================================================================\n",
            "                 coef    std err          z      P>|z|      [0.025      0.975]\n",
            "------------------------------------------------------------------------------\n",
            "intercept     -0.2041      0.131     -1.552      0.121      -0.462       0.054\n",
            "ar.L1          0.5947      0.030     19.738      0.000       0.536       0.654\n",
            "ma.L1         -0.6657      0.028    -23.530      0.000      -0.721      -0.610\n",
            "sigma2      1096.2903      5.118    214.201      0.000    1086.259    1106.322\n",
            "===================================================================================\n",
            "Ljung-Box (L1) (Q):                   0.26   Jarque-Bera (JB):            167022.66\n",
            "Prob(Q):                              0.61   Prob(JB):                         0.00\n",
            "Heteroskedasticity (H):               0.15   Skew:                             0.19\n",
            "Prob(H) (two-sided):                  0.00   Kurtosis:                        26.47\n",
            "===================================================================================\n",
            "\n",
            "Warnings:\n",
            "[1] Covariance matrix calculated using the outer product of gradients (complex-step).\n"
          ],
          "name": "stdout"
        }
      ]
    },
    {
      "cell_type": "markdown",
      "metadata": {
        "id": "BqZRnHcM_usY"
      },
      "source": [
        "**AR model**"
      ]
    },
    {
      "cell_type": "code",
      "metadata": {
        "id": "EoeO0hP73ppj"
      },
      "source": [
        "from statsmodels.tsa.arima_model import ARIMA\r\n",
        "def ar_model(data):\r\n",
        "  model=ARIMA(data,order=(1,0,0)).fit()\r\n",
        "  prediction = model.fittedvalues\r\n",
        "  error = data - prediction\r\n",
        "  mse_val = np.sum((error)**2)/len(error)\r\n",
        "  mae_val = np.sum(abs(error))/len(error)\r\n",
        "  return mse_val,mae_val,prediction"
      ],
      "execution_count": 24,
      "outputs": []
    },
    {
      "cell_type": "code",
      "metadata": {
        "colab": {
          "base_uri": "https://localhost:8080/"
        },
        "id": "h240IiIs2D_i",
        "outputId": "2e28a5bf-c7e6-408a-d586-391becf8e572"
      },
      "source": [
        "mse4 = []\r\n",
        "mae4 = []\r\n",
        "final_forecasted_list = []\r\n",
        "for dataframe in dataset_array1:\r\n",
        "  mse_val,mae_val,prediction = ar_model(dataframe)\r\n",
        "  mse4.append(round(mse_val,6))\r\n",
        "  mae4.append(round(mae_val,6))\r\n",
        "  final_forecasted_list.append(prediction)\r\n",
        "\r\n",
        "print('MSE for each interval respectively \\n',mse4)\r\n",
        "print('MSE for each interval respectively \\n',mae4)"
      ],
      "execution_count": 25,
      "outputs": [
        {
          "output_type": "stream",
          "text": [
            "MSE for each interval respectively \n",
            " [2345.005951, 4563.709955, 8485.987729, 11755.640896, 19184.194585, 39116.178197]\n",
            "MSE for each interval respectively \n",
            " [17.872703, 25.39514, 35.067027, 49.806639, 61.587377, 96.491148]\n"
          ],
          "name": "stdout"
        }
      ]
    },
    {
      "cell_type": "code",
      "metadata": {
        "colab": {
          "base_uri": "https://localhost:8080/",
          "height": 295
        },
        "id": "7vRy7w0cM2fT",
        "outputId": "2e189ea0-62e4-4a0e-b520-59f48a0312ab"
      },
      "source": [
        "plotting_function(mse4,mae4,'AR Model')"
      ],
      "execution_count": 26,
      "outputs": [
        {
          "output_type": "display_data",
          "data": {
            "image/png": "[encoded data removed]",
            "text/plain": [
              "<Figure size 432x288 with 1 Axes>"
            ]
          },
          "metadata": {
            "tags": [],
            "needs_background": "light"
          }
        }
      ]
    },
    {
      "cell_type": "markdown",
      "metadata": {
        "id": "sv42iqpP_zxA"
      },
      "source": [
        "**MA Model**"
      ]
    },
    {
      "cell_type": "code",
      "metadata": {
        "id": "An5M7F2zDRzF"
      },
      "source": [
        "def ma_model(data):\r\n",
        "  model=ARIMA(data,order=(0,0,1)).fit()\r\n",
        "  prediction = model.fittedvalues\r\n",
        "  error = data - prediction\r\n",
        "  mse_val = np.sum((error)**2)/len(error)\r\n",
        "  mae_val = np.sum(abs(error))/len(error)\r\n",
        "  return mse_val,mae_val,prediction"
      ],
      "execution_count": 27,
      "outputs": []
    },
    {
      "cell_type": "code",
      "metadata": {
        "colab": {
          "base_uri": "https://localhost:8080/"
        },
        "id": "W38JKzhU8puF",
        "outputId": "58eb361a-5508-4e2e-c671-84a7770bcec8"
      },
      "source": [
        "mse5 = []\r\n",
        "mae5 = []\r\n",
        "final_forecasted_list = []\r\n",
        "for dataframe in dataset_array1:\r\n",
        "  mse_val,mae_val,prediction = ma_model(dataframe)\r\n",
        "  mse5.append(round(mse_val,6))\r\n",
        "  mae5.append(round(mae_val,6))\r\n",
        "  final_forecasted_list.append(prediction)\r\n",
        "\r\n",
        "print('MSE for each interval respectively \\n',mse5)\r\n",
        "print('MSE for each interval respectively \\n',mae5)"
      ],
      "execution_count": 28,
      "outputs": [
        {
          "output_type": "stream",
          "text": [
            "MSE for each interval respectively \n",
            " [235534.933452, 244132.714161, 246639.938514, 248921.766789, 275789.188768, 280409.268583]\n",
            "MSE for each interval respectively \n",
            " [392.66799, 396.733616, 399.199812, 399.997749, 412.406107, 414.608433]\n"
          ],
          "name": "stdout"
        }
      ]
    },
    {
      "cell_type": "code",
      "metadata": {
        "colab": {
          "base_uri": "https://localhost:8080/",
          "height": 295
        },
        "id": "n9H88t0HNHwf",
        "outputId": "9ecef62e-60cf-40ad-cffd-41ea4ead9662"
      },
      "source": [
        "plotting_function(mse5,mae5,'MA Model')"
      ],
      "execution_count": 29,
      "outputs": [
        {
          "output_type": "display_data",
          "data": {
            "image/png": "[encoded data removed]",
            "text/plain": [
              "<Figure size 432x288 with 1 Axes>"
            ]
          },
          "metadata": {
            "tags": [],
            "needs_background": "light"
          }
        }
      ]
    },
    {
      "cell_type": "markdown",
      "metadata": {
        "id": "xeNbZWGP_31g"
      },
      "source": [
        "**ARIMA Model**"
      ]
    },
    {
      "cell_type": "code",
      "metadata": {
        "id": "puFXKa2HDeFC"
      },
      "source": [
        "def arima_model(data):\r\n",
        "  model=ARIMA(data,order=(1,1,1)).fit()\r\n",
        "  prediction = model.fittedvalues\r\n",
        "  data = np.delete(data,[0])\r\n",
        "  error = data - prediction\r\n",
        "  mse_val = np.sum((error)**2)/len(error)\r\n",
        "  mae_val = np.sum(abs(error))/len(error)\r\n",
        "  return mse_val,mae_val,prediction"
      ],
      "execution_count": 30,
      "outputs": []
    },
    {
      "cell_type": "code",
      "metadata": {
        "colab": {
          "base_uri": "https://localhost:8080/"
        },
        "id": "x9Vqk9WJ9BeM",
        "outputId": "053853b9-57e5-43ff-f8e1-1c0247e3ee52"
      },
      "source": [
        "mse6 = []\r\n",
        "mae6 = []\r\n",
        "final_forecasted_list = []\r\n",
        "for dataframe in dataset_array1:\r\n",
        "  mse_val,mae_val,prediction = arima_model(dataframe)\r\n",
        "  mse6.append(round(mse_val,6))\r\n",
        "  mae6.append(round(mae_val,6))\r\n",
        "  final_forecasted_list.append(prediction)\r\n",
        "\r\n",
        "print('MSE for each interval respectively \\n',mse6)\r\n",
        "print('MSE for each interval respectively \\n',mae6)"
      ],
      "execution_count": 31,
      "outputs": [
        {
          "output_type": "stream",
          "text": [
            "MSE for each interval respectively \n",
            " [2788888.821033, 2790846.143661, 2790384.01042, 2789698.004334, 2803715.77028, 2790607.664282]\n",
            "MSE for each interval respectively \n",
            " [1375.857424, 1376.361219, 1376.869147, 1377.949929, 1381.091798, 1381.500301]\n"
          ],
          "name": "stdout"
        }
      ]
    },
    {
      "cell_type": "code",
      "metadata": {
        "id": "z9CIdpgvXwhu",
        "colab": {
          "base_uri": "https://localhost:8080/",
          "height": 295
        },
        "outputId": "920a1031-b751-4c2f-ee26-7da8bc1c3786"
      },
      "source": [
        "plotting_function(mse6,mae6,'ARIMA Model')"
      ],
      "execution_count": 32,
      "outputs": [
        {
          "output_type": "display_data",
          "data": {
            "image/png": "[encoded data removed]",
            "text/plain": [
              "<Figure size 432x288 with 1 Axes>"
            ]
          },
          "metadata": {
            "tags": [],
            "needs_background": "light"
          }
        }
      ]
    },
    {
      "cell_type": "code",
      "metadata": {
        "id": "n9dbl6cRNjw8"
      },
      "source": [
        ""
      ],
      "execution_count": null,
      "outputs": []
    }
  ]
}