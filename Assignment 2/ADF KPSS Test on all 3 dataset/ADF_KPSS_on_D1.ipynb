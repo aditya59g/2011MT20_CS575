{
  "nbformat": 4,
  "nbformat_minor": 0,
  "metadata": {
    "colab": {
      "name": "ADF KPSS on D1.ipynb",
      "provenance": [],
      "collapsed_sections": []
    },
    "kernelspec": {
      "name": "python3",
      "display_name": "Python 3"
    }
  },
  "cells": [
    {
      "cell_type": "code",
      "metadata": {
        "id": "2olQb29bPvVB",
        "colab": {
          "base_uri": "https://localhost:8080/"
        },
        "outputId": "72684fd7-7ca6-4bf9-e6dd-2d18577ec447"
      },
      "source": [
        "import pandas as pd\r\n",
        "from statsmodels.tsa.stattools import adfuller,kpss"
      ],
      "execution_count": 1,
      "outputs": [
        {
          "output_type": "stream",
          "text": [
            "/usr/local/lib/python3.6/dist-packages/statsmodels/tools/_testing.py:19: FutureWarning: pandas.util.testing is deprecated. Use the functions in the public API at pandas.testing instead.\n",
            "  import pandas.util.testing as tm\n"
          ],
          "name": "stderr"
        }
      ]
    },
    {
      "cell_type": "code",
      "metadata": {
        "id": "yHwE2uylP7ej"
      },
      "source": [
        "url = 'https://raw.githubusercontent.com/cs575ts/Assignments/main/Assignment_2/D1.csv'\r\n",
        "\r\n",
        "df = pd.read_csv(url)"
      ],
      "execution_count": 2,
      "outputs": []
    },
    {
      "cell_type": "markdown",
      "metadata": {
        "id": "WG8KVSf-SpLB"
      },
      "source": [
        "**ADF Test**"
      ]
    },
    {
      "cell_type": "code",
      "metadata": {
        "colab": {
          "base_uri": "https://localhost:8080/"
        },
        "id": "aPwguHaFP7S-",
        "outputId": "af813371-92d7-42a9-ff17-1fcc96b8edb0"
      },
      "source": [
        "def adf_test(atr):\r\n",
        "    #Perform Dickey-Fuller test:\r\n",
        "    timeseries = df[atr].dropna()\r\n",
        "    print ('Results of Dickey-Fuller Test for ',atr,'\\n')\r\n",
        "    dftest = adfuller(timeseries, autolag='AIC')\r\n",
        "    dfoutput = pd.Series(dftest[0:4], index=['Test Statistic','p-value','#Lags Used','Number of Observations Used'])\r\n",
        "    for key,value in dftest[4].items():\r\n",
        "       dfoutput['Critical Value (%s)'%key] = value\r\n",
        "    print(dfoutput)\r\n",
        "\r\n",
        "#apply adf test on the series\r\n",
        "adf_test('Ads')"
      ],
      "execution_count": 3,
      "outputs": [
        {
          "output_type": "stream",
          "text": [
            "Results of Dickey-Fuller Test for  Ads \n",
            "\n",
            "Test Statistic                -7.089634e+00\n",
            "p-value                        4.444804e-10\n",
            "#Lags Used                     9.000000e+00\n",
            "Number of Observations Used    2.060000e+02\n",
            "Critical Value (1%)           -3.462499e+00\n",
            "Critical Value (5%)           -2.875675e+00\n",
            "Critical Value (10%)          -2.574304e+00\n",
            "dtype: float64\n"
          ],
          "name": "stdout"
        }
      ]
    },
    {
      "cell_type": "markdown",
      "metadata": {
        "id": "aWqhAU0pS5k-"
      },
      "source": [
        "The test statistic is less than the critical value, so we can reject the null hypothesis. So we can say that it is stationary series from ADF test."
      ]
    },
    {
      "cell_type": "markdown",
      "metadata": {
        "id": "OunqbV-LaQrM"
      },
      "source": [
        "**KPSS Test**"
      ]
    },
    {
      "cell_type": "code",
      "metadata": {
        "colab": {
          "base_uri": "https://localhost:8080/"
        },
        "id": "tvl8Tej6RzQK",
        "outputId": "40723fac-d1b5-4099-c39e-622881486a3a"
      },
      "source": [
        "def kpss_test(atr):\r\n",
        "    timeseries = df[atr].dropna()\r\n",
        "    print ('Results of KPSS Test for ',atr)\r\n",
        "    kpsstest = kpss(timeseries, regression='c')\r\n",
        "    kpss_output = pd.Series(kpsstest[0:3], index=['Test Statistic','p-value','Lags Used'])\r\n",
        "    for key,value in kpsstest[3].items():\r\n",
        "        kpss_output['Critical Value (%s)'%key] = value\r\n",
        "    print (kpss_output)\r\n",
        "kpss_test('Ads')"
      ],
      "execution_count": 4,
      "outputs": [
        {
          "output_type": "stream",
          "text": [
            "Results of KPSS Test for  Ads\n",
            "Test Statistic            0.085159\n",
            "p-value                   0.100000\n",
            "Lags Used                15.000000\n",
            "Critical Value (10%)      0.347000\n",
            "Critical Value (5%)       0.463000\n",
            "Critical Value (2.5%)     0.574000\n",
            "Critical Value (1%)       0.739000\n",
            "dtype: float64\n"
          ],
          "name": "stdout"
        },
        {
          "output_type": "stream",
          "text": [
            "/usr/local/lib/python3.6/dist-packages/statsmodels/tsa/stattools.py:1685: FutureWarning: The behavior of using lags=None will change in the next release. Currently lags=None is the same as lags='legacy', and so a sample-size lag length is used. After the next release, the default will change to be the same as lags='auto' which uses an automatic lag length selection method. To silence this warning, either use 'auto' or 'legacy'\n",
            "  warn(msg, FutureWarning)\n",
            "/usr/local/lib/python3.6/dist-packages/statsmodels/tsa/stattools.py:1711: InterpolationWarning: p-value is greater than the indicated p-value\n",
            "  warn(\"p-value is greater than the indicated p-value\", InterpolationWarning)\n"
          ],
          "name": "stderr"
        }
      ]
    },
    {
      "cell_type": "markdown",
      "metadata": {
        "id": "DUITEB9fhyqA"
      },
      "source": [
        "The test statistic is less than the critical value so we fail to reject the null hypothesis. So we can say that it is stationary series from KPSS test. "
      ]
    },
    {
      "cell_type": "markdown",
      "metadata": {
        "id": "-yT3e1ywi9iU"
      },
      "source": [
        "Both tests are giving stationary so series is stationary."
      ]
    }
  ]
}