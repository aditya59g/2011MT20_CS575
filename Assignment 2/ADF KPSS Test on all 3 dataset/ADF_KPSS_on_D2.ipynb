{
  "nbformat": 4,
  "nbformat_minor": 0,
  "metadata": {
    "colab": {
      "name": "ADF KPSS on D2.ipynb",
      "provenance": [],
      "collapsed_sections": []
    },
    "kernelspec": {
      "name": "python3",
      "display_name": "Python 3"
    }
  },
  "cells": [
    {
      "cell_type": "code",
      "metadata": {
        "id": "2olQb29bPvVB",
        "colab": {
          "base_uri": "https://localhost:8080/"
        },
        "outputId": "6257c659-84f0-4998-ccef-e189ec761be6"
      },
      "source": [
        "import pandas as pd\r\n",
        "from statsmodels.tsa.stattools import adfuller,kpss"
      ],
      "execution_count": 1,
      "outputs": [
        {
          "output_type": "stream",
          "text": [
            "/usr/local/lib/python3.6/dist-packages/statsmodels/tools/_testing.py:19: FutureWarning: pandas.util.testing is deprecated. Use the functions in the public API at pandas.testing instead.\n",
            "  import pandas.util.testing as tm\n"
          ],
          "name": "stderr"
        }
      ]
    },
    {
      "cell_type": "code",
      "metadata": {
        "id": "yHwE2uylP7ej"
      },
      "source": [
        "url = 'https://raw.githubusercontent.com/cs575ts/Assignments/main/Assignment_2/D2.csv'\r\n",
        "\r\n",
        "df = pd.read_csv(url)"
      ],
      "execution_count": 2,
      "outputs": []
    },
    {
      "cell_type": "markdown",
      "metadata": {
        "id": "WG8KVSf-SpLB"
      },
      "source": [
        "**ADF Test**"
      ]
    },
    {
      "cell_type": "code",
      "metadata": {
        "colab": {
          "base_uri": "https://localhost:8080/"
        },
        "id": "aPwguHaFP7S-",
        "outputId": "392b83fe-5086-4fde-c2fb-a6250625dd67"
      },
      "source": [
        "def adf_test(atr):\r\n",
        "    #Perform Dickey-Fuller test:\r\n",
        "    timeseries = df[atr].dropna()\r\n",
        "    print ('Results of Dickey-Fuller Test for ',atr,'\\n')\r\n",
        "    dftest = adfuller(timeseries, autolag='AIC')\r\n",
        "    dfoutput = pd.Series(dftest[0:4], index=['Test Statistic','p-value','#Lags Used','Number of Observations Used'])\r\n",
        "    for key,value in dftest[4].items():\r\n",
        "       dfoutput['Critical Value (%s)'%key] = value\r\n",
        "    print(dfoutput)\r\n",
        "\r\n",
        "#apply adf test on the series\r\n",
        "adf_test('Sales of shampoo over a three year period')"
      ],
      "execution_count": 4,
      "outputs": [
        {
          "output_type": "stream",
          "text": [
            "Results of Dickey-Fuller Test for  Sales of shampoo over a three year period \n",
            "\n",
            "Test Statistic                  3.060142\n",
            "p-value                         1.000000\n",
            "#Lags Used                     10.000000\n",
            "Number of Observations Used    25.000000\n",
            "Critical Value (1%)            -3.723863\n",
            "Critical Value (5%)            -2.986489\n",
            "Critical Value (10%)           -2.632800\n",
            "dtype: float64\n"
          ],
          "name": "stdout"
        }
      ]
    },
    {
      "cell_type": "markdown",
      "metadata": {
        "id": "aWqhAU0pS5k-"
      },
      "source": [
        "The test statistic is greater than the critical value, so we fail to reject the null hypothesis. So we can say that it is non-stationary series from ADF test."
      ]
    },
    {
      "cell_type": "markdown",
      "metadata": {
        "id": "OunqbV-LaQrM"
      },
      "source": [
        "**KPSS Test**"
      ]
    },
    {
      "cell_type": "code",
      "metadata": {
        "colab": {
          "base_uri": "https://localhost:8080/"
        },
        "id": "tvl8Tej6RzQK",
        "outputId": "c5335eac-49c5-45ec-cdb3-f674197d5371"
      },
      "source": [
        "def kpss_test(atr):\r\n",
        "    timeseries = df[atr].dropna()\r\n",
        "    print ('Results of KPSS Test for ',atr)\r\n",
        "    kpsstest = kpss(timeseries, regression='c')\r\n",
        "    kpss_output = pd.Series(kpsstest[0:3], index=['Test Statistic','p-value','Lags Used'])\r\n",
        "    for key,value in kpsstest[3].items():\r\n",
        "        kpss_output['Critical Value (%s)'%key] = value\r\n",
        "    print (kpss_output)\r\n",
        "kpss_test('Sales of shampoo over a three year period')"
      ],
      "execution_count": 5,
      "outputs": [
        {
          "output_type": "stream",
          "text": [
            "Results of KPSS Test for  Sales of shampoo over a three year period\n",
            "Test Statistic            0.439388\n",
            "p-value                   0.060178\n",
            "Lags Used                10.000000\n",
            "Critical Value (10%)      0.347000\n",
            "Critical Value (5%)       0.463000\n",
            "Critical Value (2.5%)     0.574000\n",
            "Critical Value (1%)       0.739000\n",
            "dtype: float64\n"
          ],
          "name": "stdout"
        },
        {
          "output_type": "stream",
          "text": [
            "/usr/local/lib/python3.6/dist-packages/statsmodels/tsa/stattools.py:1685: FutureWarning: The behavior of using lags=None will change in the next release. Currently lags=None is the same as lags='legacy', and so a sample-size lag length is used. After the next release, the default will change to be the same as lags='auto' which uses an automatic lag length selection method. To silence this warning, either use 'auto' or 'legacy'\n",
            "  warn(msg, FutureWarning)\n"
          ],
          "name": "stderr"
        }
      ]
    },
    {
      "cell_type": "markdown",
      "metadata": {
        "id": "DUITEB9fhyqA"
      },
      "source": [
        "The test statistic is less than the critical value except at 10% confidence level, so we fail to reject the null hypothesis. So we can say that it is stationary series from KPSS test. "
      ]
    },
    {
      "cell_type": "markdown",
      "metadata": {
        "id": "-yT3e1ywi9iU"
      },
      "source": [
        "KPSS giving stationary and ADF giving non-stationary, so series is trend stationary."
      ]
    }
  ]
}