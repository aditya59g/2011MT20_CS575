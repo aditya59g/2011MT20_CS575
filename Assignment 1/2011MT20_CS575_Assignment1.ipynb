{
  "nbformat": 4,
  "nbformat_minor": 0,
  "metadata": {
    "colab": {
      "name": "2011MT20_CS575_Assignment1.ipynb",
      "provenance": [],
      "collapsed_sections": []
    },
    "kernelspec": {
      "name": "python3",
      "display_name": "Python 3"
    }
  },
  "cells": [
    {
      "cell_type": "markdown",
      "metadata": {
        "id": "5UVv_bwue7JE"
      },
      "source": [
        "#Basic Descriptive Stats"
      ]
    },
    {
      "cell_type": "markdown",
      "metadata": {
        "id": "r1WSk4v2pabB"
      },
      "source": [
        "##Load Numpy, Pandas and other Libraries"
      ]
    },
    {
      "cell_type": "code",
      "metadata": {
        "id": "V9N7T6YNAUSR"
      },
      "source": [
        "import numpy as np\r\n",
        "import pandas as pd\r\n",
        "import statistics\r\n",
        "import scipy\r\n",
        "from scipy import stats\r\n",
        "import math"
      ],
      "execution_count": 104,
      "outputs": []
    },
    {
      "cell_type": "markdown",
      "metadata": {
        "id": "0E_fqWDcpk1S"
      },
      "source": [
        "### Load Dataset \"Inc_Exp_Data.csv\" using Pandas"
      ]
    },
    {
      "cell_type": "code",
      "metadata": {
        "id": "O6uJ3yC2AZcs"
      },
      "source": [
        "url = 'https://raw.githubusercontent.com/cs575ts/Assignments/main/Assignment_1/Inc_Exp_Data.csv'\r\n",
        "\r\n",
        "df = pd.read_csv(url)"
      ],
      "execution_count": 105,
      "outputs": []
    },
    {
      "cell_type": "code",
      "metadata": {
        "colab": {
          "base_uri": "https://localhost:8080/",
          "height": 196
        },
        "id": "Dc9k71N1Gaf1",
        "outputId": "841d3bc7-73dc-4e31-8580-058eafe00f05"
      },
      "source": [
        "df.head()"
      ],
      "execution_count": 106,
      "outputs": [
        {
          "output_type": "execute_result",
          "data": {
            "text/html": [
              "<div>\n",
              "<style scoped>\n",
              "    .dataframe tbody tr th:only-of-type {\n",
              "        vertical-align: middle;\n",
              "    }\n",
              "\n",
              "    .dataframe tbody tr th {\n",
              "        vertical-align: top;\n",
              "    }\n",
              "\n",
              "    .dataframe thead th {\n",
              "        text-align: right;\n",
              "    }\n",
              "</style>\n",
              "<table border=\"1\" class=\"dataframe\">\n",
              "  <thead>\n",
              "    <tr style=\"text-align: right;\">\n",
              "      <th></th>\n",
              "      <th>Mthly_HH_Income</th>\n",
              "      <th>Mthly_HH_Expense</th>\n",
              "      <th>No_of_Fly_Members</th>\n",
              "      <th>Emi_or_Rent_Amt</th>\n",
              "      <th>Annual_HH_Income</th>\n",
              "      <th>Highest_Qualified_Member</th>\n",
              "      <th>No_of_Earning_Members</th>\n",
              "    </tr>\n",
              "  </thead>\n",
              "  <tbody>\n",
              "    <tr>\n",
              "      <th>0</th>\n",
              "      <td>5000</td>\n",
              "      <td>8000</td>\n",
              "      <td>3</td>\n",
              "      <td>2000</td>\n",
              "      <td>64200</td>\n",
              "      <td>Under-Graduate</td>\n",
              "      <td>1</td>\n",
              "    </tr>\n",
              "    <tr>\n",
              "      <th>1</th>\n",
              "      <td>6000</td>\n",
              "      <td>7000</td>\n",
              "      <td>2</td>\n",
              "      <td>3000</td>\n",
              "      <td>79920</td>\n",
              "      <td>Illiterate</td>\n",
              "      <td>1</td>\n",
              "    </tr>\n",
              "    <tr>\n",
              "      <th>2</th>\n",
              "      <td>10000</td>\n",
              "      <td>4500</td>\n",
              "      <td>2</td>\n",
              "      <td>0</td>\n",
              "      <td>112800</td>\n",
              "      <td>Under-Graduate</td>\n",
              "      <td>1</td>\n",
              "    </tr>\n",
              "    <tr>\n",
              "      <th>3</th>\n",
              "      <td>10000</td>\n",
              "      <td>2000</td>\n",
              "      <td>1</td>\n",
              "      <td>0</td>\n",
              "      <td>97200</td>\n",
              "      <td>Illiterate</td>\n",
              "      <td>1</td>\n",
              "    </tr>\n",
              "    <tr>\n",
              "      <th>4</th>\n",
              "      <td>12500</td>\n",
              "      <td>12000</td>\n",
              "      <td>2</td>\n",
              "      <td>3000</td>\n",
              "      <td>147000</td>\n",
              "      <td>Graduate</td>\n",
              "      <td>1</td>\n",
              "    </tr>\n",
              "  </tbody>\n",
              "</table>\n",
              "</div>"
            ],
            "text/plain": [
              "   Mthly_HH_Income  ...  No_of_Earning_Members\n",
              "0             5000  ...                      1\n",
              "1             6000  ...                      1\n",
              "2            10000  ...                      1\n",
              "3            10000  ...                      1\n",
              "4            12500  ...                      1\n",
              "\n",
              "[5 rows x 7 columns]"
            ]
          },
          "metadata": {
            "tags": []
          },
          "execution_count": 106
        }
      ]
    },
    {
      "cell_type": "markdown",
      "metadata": {
        "id": "26a653XTpsrL"
      },
      "source": [
        "Analyze the data using pandas info() *function*"
      ]
    },
    {
      "cell_type": "code",
      "metadata": {
        "id": "HbA5rIO4qJSS",
        "colab": {
          "base_uri": "https://localhost:8080/"
        },
        "outputId": "0b29232a-86c2-484f-ab8a-e490075a2fe3"
      },
      "source": [
        "df.info()"
      ],
      "execution_count": 107,
      "outputs": [
        {
          "output_type": "stream",
          "text": [
            "<class 'pandas.core.frame.DataFrame'>\n",
            "RangeIndex: 50 entries, 0 to 49\n",
            "Data columns (total 7 columns):\n",
            " #   Column                    Non-Null Count  Dtype \n",
            "---  ------                    --------------  ----- \n",
            " 0   Mthly_HH_Income           50 non-null     int64 \n",
            " 1   Mthly_HH_Expense          50 non-null     int64 \n",
            " 2   No_of_Fly_Members         50 non-null     int64 \n",
            " 3   Emi_or_Rent_Amt           50 non-null     int64 \n",
            " 4   Annual_HH_Income          50 non-null     int64 \n",
            " 5   Highest_Qualified_Member  50 non-null     object\n",
            " 6   No_of_Earning_Members     50 non-null     int64 \n",
            "dtypes: int64(6), object(1)\n",
            "memory usage: 2.9+ KB\n"
          ],
          "name": "stdout"
        }
      ]
    },
    {
      "cell_type": "markdown",
      "metadata": {
        "id": "0bfcP5Twp4Sr"
      },
      "source": [
        "Analyze the data using pandas describe() *function*"
      ]
    },
    {
      "cell_type": "code",
      "metadata": {
        "id": "wf08Cv0cqJ-K",
        "colab": {
          "base_uri": "https://localhost:8080/",
          "height": 286
        },
        "outputId": "5b24b596-738f-4de5-f546-42b62c8de502"
      },
      "source": [
        "df.describe()"
      ],
      "execution_count": 108,
      "outputs": [
        {
          "output_type": "execute_result",
          "data": {
            "text/html": [
              "<div>\n",
              "<style scoped>\n",
              "    .dataframe tbody tr th:only-of-type {\n",
              "        vertical-align: middle;\n",
              "    }\n",
              "\n",
              "    .dataframe tbody tr th {\n",
              "        vertical-align: top;\n",
              "    }\n",
              "\n",
              "    .dataframe thead th {\n",
              "        text-align: right;\n",
              "    }\n",
              "</style>\n",
              "<table border=\"1\" class=\"dataframe\">\n",
              "  <thead>\n",
              "    <tr style=\"text-align: right;\">\n",
              "      <th></th>\n",
              "      <th>Mthly_HH_Income</th>\n",
              "      <th>Mthly_HH_Expense</th>\n",
              "      <th>No_of_Fly_Members</th>\n",
              "      <th>Emi_or_Rent_Amt</th>\n",
              "      <th>Annual_HH_Income</th>\n",
              "      <th>No_of_Earning_Members</th>\n",
              "    </tr>\n",
              "  </thead>\n",
              "  <tbody>\n",
              "    <tr>\n",
              "      <th>count</th>\n",
              "      <td>50.000000</td>\n",
              "      <td>50.000000</td>\n",
              "      <td>50.000000</td>\n",
              "      <td>50.000000</td>\n",
              "      <td>5.000000e+01</td>\n",
              "      <td>50.000000</td>\n",
              "    </tr>\n",
              "    <tr>\n",
              "      <th>mean</th>\n",
              "      <td>41558.000000</td>\n",
              "      <td>18818.000000</td>\n",
              "      <td>4.060000</td>\n",
              "      <td>3060.000000</td>\n",
              "      <td>4.900190e+05</td>\n",
              "      <td>1.460000</td>\n",
              "    </tr>\n",
              "    <tr>\n",
              "      <th>std</th>\n",
              "      <td>26097.908979</td>\n",
              "      <td>12090.216824</td>\n",
              "      <td>1.517382</td>\n",
              "      <td>6241.434948</td>\n",
              "      <td>3.201358e+05</td>\n",
              "      <td>0.734291</td>\n",
              "    </tr>\n",
              "    <tr>\n",
              "      <th>min</th>\n",
              "      <td>5000.000000</td>\n",
              "      <td>2000.000000</td>\n",
              "      <td>1.000000</td>\n",
              "      <td>0.000000</td>\n",
              "      <td>6.420000e+04</td>\n",
              "      <td>1.000000</td>\n",
              "    </tr>\n",
              "    <tr>\n",
              "      <th>25%</th>\n",
              "      <td>23550.000000</td>\n",
              "      <td>10000.000000</td>\n",
              "      <td>3.000000</td>\n",
              "      <td>0.000000</td>\n",
              "      <td>2.587500e+05</td>\n",
              "      <td>1.000000</td>\n",
              "    </tr>\n",
              "    <tr>\n",
              "      <th>50%</th>\n",
              "      <td>35000.000000</td>\n",
              "      <td>15500.000000</td>\n",
              "      <td>4.000000</td>\n",
              "      <td>0.000000</td>\n",
              "      <td>4.474200e+05</td>\n",
              "      <td>1.000000</td>\n",
              "    </tr>\n",
              "    <tr>\n",
              "      <th>75%</th>\n",
              "      <td>50375.000000</td>\n",
              "      <td>25000.000000</td>\n",
              "      <td>5.000000</td>\n",
              "      <td>3500.000000</td>\n",
              "      <td>5.947200e+05</td>\n",
              "      <td>2.000000</td>\n",
              "    </tr>\n",
              "    <tr>\n",
              "      <th>max</th>\n",
              "      <td>100000.000000</td>\n",
              "      <td>50000.000000</td>\n",
              "      <td>7.000000</td>\n",
              "      <td>35000.000000</td>\n",
              "      <td>1.404000e+06</td>\n",
              "      <td>4.000000</td>\n",
              "    </tr>\n",
              "  </tbody>\n",
              "</table>\n",
              "</div>"
            ],
            "text/plain": [
              "       Mthly_HH_Income  ...  No_of_Earning_Members\n",
              "count        50.000000  ...              50.000000\n",
              "mean      41558.000000  ...               1.460000\n",
              "std       26097.908979  ...               0.734291\n",
              "min        5000.000000  ...               1.000000\n",
              "25%       23550.000000  ...               1.000000\n",
              "50%       35000.000000  ...               1.000000\n",
              "75%       50375.000000  ...               2.000000\n",
              "max      100000.000000  ...               4.000000\n",
              "\n",
              "[8 rows x 6 columns]"
            ]
          },
          "metadata": {
            "tags": []
          },
          "execution_count": 108
        }
      ]
    },
    {
      "cell_type": "markdown",
      "metadata": {
        "id": "Gy_Q1psDp3K0"
      },
      "source": [
        "Analyze the data using pandas shape object"
      ]
    },
    {
      "cell_type": "code",
      "metadata": {
        "id": "lskKTYblqKUC",
        "colab": {
          "base_uri": "https://localhost:8080/"
        },
        "outputId": "ed5ced92-8649-4999-da1b-94a8fb29ab15"
      },
      "source": [
        "df.shape"
      ],
      "execution_count": 109,
      "outputs": [
        {
          "output_type": "execute_result",
          "data": {
            "text/plain": [
              "(50, 7)"
            ]
          },
          "metadata": {
            "tags": []
          },
          "execution_count": 109
        }
      ]
    },
    {
      "cell_type": "markdown",
      "metadata": {
        "id": "bTQjekrUp9LW"
      },
      "source": [
        "Check for missing values"
      ]
    },
    {
      "cell_type": "code",
      "metadata": {
        "id": "e9FUUTH7qKtq",
        "colab": {
          "base_uri": "https://localhost:8080/"
        },
        "outputId": "9feb0451-f743-47fd-c719-f5fc53cb0515"
      },
      "source": [
        "df.isna().any().any()"
      ],
      "execution_count": 110,
      "outputs": [
        {
          "output_type": "execute_result",
          "data": {
            "text/plain": [
              "False"
            ]
          },
          "metadata": {
            "tags": []
          },
          "execution_count": 110
        }
      ]
    },
    {
      "cell_type": "markdown",
      "metadata": {
        "id": "VSfKC-bgqLFC"
      },
      "source": [
        "What is the Mean Expense of a Household? Compute mean using Inbuilt pandas function and write your own function for the same."
      ]
    },
    {
      "cell_type": "code",
      "metadata": {
        "id": "DCRfeoKZqMzP",
        "colab": {
          "base_uri": "https://localhost:8080/"
        },
        "outputId": "98e9a897-3e7c-4dc0-ef89-174bd5631ff3"
      },
      "source": [
        "# without Inbuilt function\r\n",
        "def meanfunction():\r\n",
        "  sum=0\r\n",
        "  for i in df.Mthly_HH_Expense:\r\n",
        "    sum += i\r\n",
        "  meanvalue = sum/df.Mthly_HH_Expense.shape[0]\r\n",
        "  return meanvalue\r\n",
        "m= meanfunction()\r\n",
        "print(\"Mean Expense of a Household without inbuilt function:\", m)\r\n",
        "\r\n",
        "# with Inbuilt function\r\n",
        "n = df[\"Mthly_HH_Expense\"].mean()\r\n",
        "print(\"Mean Expense of a Household with inbuilt function:\", n)"
      ],
      "execution_count": 111,
      "outputs": [
        {
          "output_type": "stream",
          "text": [
            "Mean Expense of a Household without inbuilt function: 18818.0\n",
            "Mean Expense of a Household with inbuilt function: 18818.0\n"
          ],
          "name": "stdout"
        }
      ]
    },
    {
      "cell_type": "markdown",
      "metadata": {
        "id": "f9YrCDbZqNH6"
      },
      "source": [
        "What is the Median Household Expense? Compute Median using Inbuilt pandas function and write your own function for the same."
      ]
    },
    {
      "cell_type": "code",
      "metadata": {
        "id": "wYWaDFM2qPxq",
        "colab": {
          "base_uri": "https://localhost:8080/"
        },
        "outputId": "29998b1f-d6c7-4360-c0c0-b8a019775b6c"
      },
      "source": [
        "## without Inbuilt function\r\n",
        "def medianfunction():\r\n",
        "  m = df[\"Mthly_HH_Expense\"].copy()\r\n",
        "  length = df.Mthly_HH_Expense.shape[0]\r\n",
        "\r\n",
        "#  for i in range(length-1):           #sorting of column\r\n",
        "#    for j in range(0,length-i-1):\r\n",
        "#      if(m[j]>m[j+1]):\r\n",
        "#        m[j], m[j+1] = m[j+1], m[j]    \r\n",
        "  m1 = sorted(m)\r\n",
        "  num = length//2\r\n",
        "  if length % 2 != 0:\r\n",
        "    med = m1[num]\r\n",
        "  else:\r\n",
        "    left  = m1[num-1]\r\n",
        "    right = m1[num] \r\n",
        "    med = (left+right)/2\r\n",
        "  return med\r\n",
        "med_func= medianfunction()\r\n",
        "print(\"Median Household Expense using own function:\", med_func)\r\n",
        "\r\n",
        "\r\n",
        "## with Inbuilt function\r\n",
        "n = df[\"Mthly_HH_Expense\"].median()\r\n",
        "print(\"Median Household Expense using inbuilt function:\", n)"
      ],
      "execution_count": 112,
      "outputs": [
        {
          "output_type": "stream",
          "text": [
            "Median Household Expense using own function: 15500.0\n",
            "Median Household Expense using inbuilt function: 15500.0\n"
          ],
          "name": "stdout"
        }
      ]
    },
    {
      "cell_type": "markdown",
      "metadata": {
        "id": "jD4gKP8IqRFT"
      },
      "source": [
        "What is the Monthly Expense for most of the Households?\r\n"
      ]
    },
    {
      "cell_type": "code",
      "metadata": {
        "id": "OrUkGIVlqUJb",
        "colab": {
          "base_uri": "https://localhost:8080/"
        },
        "outputId": "c7db149f-f1af-4903-e578-2751dd58a151"
      },
      "source": [
        "print(\"Monthly Expense for most of the households is % s\" % (statistics.mode(df.Mthly_HH_Expense)))"
      ],
      "execution_count": 113,
      "outputs": [
        {
          "output_type": "stream",
          "text": [
            "Monthly Expense for most of the households is 25000\n"
          ],
          "name": "stdout"
        }
      ]
    },
    {
      "cell_type": "markdown",
      "metadata": {
        "id": "CZtVOZxJqXzz"
      },
      "source": [
        "Calculate IQR(difference between 75% and 25% quartile)"
      ]
    },
    {
      "cell_type": "code",
      "metadata": {
        "id": "sxPVuHYrqX8s",
        "colab": {
          "base_uri": "https://localhost:8080/"
        },
        "outputId": "3fbaf107-d469-4e6d-f53f-1fa7a5037162"
      },
      "source": [
        "q75, q25 = np.percentile(df.Mthly_HH_Expense, [75 ,25])\r\n",
        "iqr = q75 - q25\r\n",
        "print(\"IQR for monthly househld income is\",iqr)"
      ],
      "execution_count": 114,
      "outputs": [
        {
          "output_type": "stream",
          "text": [
            "IQR for monthly househld income is 15000.0\n"
          ],
          "name": "stdout"
        }
      ]
    },
    {
      "cell_type": "markdown",
      "metadata": {
        "id": "jElORm3tqblT"
      },
      "source": [
        "Calculate Standard Deviation for first 4 columns. Compute Standard Deviation using Inbuilt pandas function and write your own function for the same."
      ]
    },
    {
      "cell_type": "code",
      "metadata": {
        "id": "ZYA56UIHqbsD",
        "colab": {
          "base_uri": "https://localhost:8080/"
        },
        "outputId": "02cc5ac5-5c2f-4c0a-bde7-93cd3e66d910"
      },
      "source": [
        "# without Inbuilt function\r\n",
        "def meanfunction(col):\r\n",
        "  sum=0\r\n",
        "  for i in col:\r\n",
        "    sum += i\r\n",
        "  meanvalue = sum/col.shape[0]\r\n",
        "  return meanvalue\r\n",
        "\r\n",
        "def stdfunction(single_column):\r\n",
        "  mean_value = meanfunction(single_column)\r\n",
        "  x = single_column - mean_value\r\n",
        "  y = np.square(x)\r\n",
        "  z=0\r\n",
        "  for i in y:\r\n",
        "    z += i\r\n",
        "  #z = np.sum(y)\r\n",
        "  var_value = z/(single_column.shape[0]-1)\r\n",
        "  std_value = np.sqrt(var_value)\r\n",
        "  return std_value\r\n",
        "\r\n",
        "std_a = []\r\n",
        "for column in df.columns[0:4]:\r\n",
        "  s1= stdfunction(df[column])\r\n",
        "  std_a.append(s1)\r\n",
        "print(\"standard deviation of first four columns using own function:\", std_a)\r\n",
        "\r\n",
        "# with Inbuilt function\r\n",
        "std_b = []\r\n",
        "for column in df.columns[0:4]:\r\n",
        "  s2 = df[column].std()\r\n",
        "  std_b.append(s2)\r\n",
        "print(\"standard deviation of first four columns using inbuilt function:\", std_b)"
      ],
      "execution_count": 115,
      "outputs": [
        {
          "output_type": "stream",
          "text": [
            "standard deviation of first four columns using own function: [26097.908978713687, 12090.216824240286, 1.5173822786601394, 6241.434947516607]\n",
            "standard deviation of first four columns using inbuilt function: [26097.908978713687, 12090.216824240286, 1.5173822786601394, 6241.434947516607]\n"
          ],
          "name": "stdout"
        }
      ]
    },
    {
      "cell_type": "markdown",
      "metadata": {
        "id": "UHL1TLkPqfNX"
      },
      "source": [
        "Calculate Variance for first 3 columns. Compute Variance using Inbuilt pandas \r\n",
        "function and write your own function for the same."
      ]
    },
    {
      "cell_type": "code",
      "metadata": {
        "colab": {
          "base_uri": "https://localhost:8080/"
        },
        "id": "LrkrTPt-cEa0",
        "outputId": "c10233bc-4546-433f-d6bd-c6178a4e31c5"
      },
      "source": [
        "# without Inbuilt function\r\n",
        "def meanfunction(col):\r\n",
        "  sum=0\r\n",
        "  for i in col:\r\n",
        "    sum += i\r\n",
        "  meanvalue = sum/col.shape[0]\r\n",
        "  return meanvalue\r\n",
        "\r\n",
        "def variancefunction(single_column):\r\n",
        "  mean_value = meanfunction(single_column)\r\n",
        "  x = single_column - mean_value\r\n",
        "  y = np.square(x)\r\n",
        "  z=0\r\n",
        "  for i in y:\r\n",
        "    z += i\r\n",
        "  variance = z/(single_column.shape[0]-1)\r\n",
        "  return variance\r\n",
        "\r\n",
        "var_a = []\r\n",
        "for column in df.columns[0:3]:\r\n",
        "  v1= variancefunction(df[column])\r\n",
        "  var_a.append(v1)\r\n",
        "print(\"variance of first three columns using own function:\", var_a)\r\n",
        "\r\n",
        "# with Inbuilt function\r\n",
        "var_b = []\r\n",
        "for column in df.columns[0:3]:\r\n",
        "  v2 = df[column].var()\r\n",
        "  var_b.append(v2)\r\n",
        "print(\"variance of first three columns using inbuilt function:\", var_b)"
      ],
      "execution_count": 116,
      "outputs": [
        {
          "output_type": "stream",
          "text": [
            "variance of first three columns using own function: [681100853.0612245, 146173342.85714287, 2.302448979591837]\n",
            "variance of first three columns using inbuilt function: [681100853.0612245, 146173342.85714287, 2.302448979591837]\n"
          ],
          "name": "stdout"
        }
      ]
    },
    {
      "cell_type": "markdown",
      "metadata": {
        "id": "ASY9WWAAuIx-"
      },
      "source": [
        "Calculate Skewness for first 3 columns. Compute Skewness using Inbuilt pandas function and write your own function for the same.\r\n"
      ]
    },
    {
      "cell_type": "code",
      "metadata": {
        "id": "Sl4uw-jouI88",
        "colab": {
          "base_uri": "https://localhost:8080/"
        },
        "outputId": "9f8f2b84-12d4-4866-8285-8c92ebc48ffa"
      },
      "source": [
        "# without Inbuilt function\r\n",
        "\r\n",
        "def skewnessfunction(single_column):\r\n",
        "  mean_value = meanfunction(single_column)  #meanfunction is created in earlier cell\r\n",
        "  x = single_column - mean_value\r\n",
        "  y = np.power(x,3)\r\n",
        "  z1=0\r\n",
        "  for i in y:\r\n",
        "    z1 += i\r\n",
        "  z = z1/(single_column.shape[0])\r\n",
        "  std_val = stdfunction(single_column)\r\n",
        "  skewness = z/(std_val)**3                 #stdfunction created in std problem cell\r\n",
        "  return skewness\r\n",
        "\r\n",
        "sk_a = []\r\n",
        "for column in df.columns[0:3]:\r\n",
        "  sk1= skewnessfunction(df[column])\r\n",
        "  sk_a.append(sk1)\r\n",
        "print(\"skewness of first three columns using own function:\", sk_a)\r\n",
        "\r\n",
        "from scipy.stats import skew\r\n",
        "\r\n",
        "# with Inbuilt function\r\n",
        "sk_b = []\r\n",
        "for column in df.columns[0:3]:\r\n",
        "  #sk2 = skew(df[column])     #scipy.state inbuilt function\r\n",
        "  sk2 = df[column].skew()     #pandas inbuilt function\r\n",
        "  sk_b.append(sk2)\r\n",
        "print(\"skewness of first three columns using inbuilt function:\", sk_b)"
      ],
      "execution_count": 117,
      "outputs": [
        {
          "output_type": "stream",
          "text": [
            "skewness of first three columns using own function: [0.8698776756961618, 1.1284527234715376, 0.10694464460870662]\n",
            "skewness of first three columns using inbuilt function: [0.9246148763777229, 1.1994608030097127, 0.11367415455857431]\n"
          ],
          "name": "stdout"
        }
      ]
    },
    {
      "cell_type": "markdown",
      "metadata": {
        "id": "bHm8S-umuKV9"
      },
      "source": [
        "Calculate Kurtosis for first 3 columns. Compute Kurtosis using Inbuilt pandas function and write your own function for the same."
      ]
    },
    {
      "cell_type": "code",
      "metadata": {
        "id": "_7DYdHt3uKkd",
        "colab": {
          "base_uri": "https://localhost:8080/"
        },
        "outputId": "4d760f72-c85e-429e-cf0d-7f3f8428c5b5"
      },
      "source": [
        "# without inbuilt function\r\n",
        "\r\n",
        "def kurtosisfunction(single_column):\r\n",
        "  mean_value = meanfunction(single_column)  #meanfunction is created in earlier cell\r\n",
        "  x = single_column - mean_value\r\n",
        "  y = np.power(x,4)\r\n",
        "  z1=0\r\n",
        "  for i in y:\r\n",
        "    z1 += i\r\n",
        "  z = z1/(single_column.shape[0])\r\n",
        "  std_val = stdfunction(single_column)\r\n",
        "  kurtosis = (z/(std_val)**4)-3             #stdfunction created in std problem cell\r\n",
        "  return kurtosis\r\n",
        "\r\n",
        "kurt_a = []\r\n",
        "for column in df.columns[0:3]:\r\n",
        "  k1= kurtosisfunction(df[column])\r\n",
        "  kurt_a.append(k1)\r\n",
        "print(\"kurtosis of first three columns using own function:\", kurt_a)\r\n",
        "\r\n",
        "#from scipy.stats import kurtosis\r\n",
        "# with Inbuilt function\r\n",
        "kurt_b = []\r\n",
        "for column in df.columns[0:3]:\r\n",
        "  #k2 = kurtosis(df[column])              #scipy.stats inbuilt function\r\n",
        "  k2 = df[column].kurtosis()              #pandas inbuilt function\r\n",
        "  kurt_b.append(k2)\r\n",
        "print(\"kurtosis of first three columns using inbuilt function:\", kurt_b)"
      ],
      "execution_count": 118,
      "outputs": [
        {
          "output_type": "stream",
          "text": [
            "kurtosis of first three columns using own function: [-0.13160496392043397, 0.5853614995676502, -0.970000684053971]\n",
            "kurtosis of first three columns using inbuilt function: [0.11555007146606489, 0.9424897886350738, -0.8514445579758396]\n"
          ],
          "name": "stdout"
        }
      ]
    },
    {
      "cell_type": "markdown",
      "metadata": {
        "id": "Mg32NdXwtCM6"
      },
      "source": [
        "Find the correlation coeeficient between the \"Mthly_HH_Income\" and\t\"Mthly_HH_Expense\". Compute correlation coeeficient using Inbuilt pandas function and write your own function for the same.\r\n"
      ]
    },
    {
      "cell_type": "code",
      "metadata": {
        "id": "my0YjieUq2A6",
        "colab": {
          "base_uri": "https://localhost:8080/"
        },
        "outputId": "2301214e-e995-461e-bd65-f2ad9761fb63"
      },
      "source": [
        "# with own function\r\n",
        "def meanfunction(col):\r\n",
        "  sum=0\r\n",
        "  for i in col:\r\n",
        "    sum += i\r\n",
        "  meanvalue = sum/col.shape[0]\r\n",
        "  return meanvalue\r\n",
        "\r\n",
        "def covariancefunction(col1,col2):\r\n",
        "  mean_value1 = meanfunction(col1)\r\n",
        "  mean_value2 = meanfunction(col2)\r\n",
        "  x1 = col1 - mean_value1\r\n",
        "  x2 = col2 - mean_value2\r\n",
        "  y = x1*x2\r\n",
        "  z=0\r\n",
        "  for i in y:\r\n",
        "    z += i\r\n",
        "  covariance = z/(col1.shape[0]-1)\r\n",
        "  return covariance\r\n",
        "\r\n",
        "def correlationfunction(column1,column2):\r\n",
        "  cov = covariancefunction(column1,column2)\r\n",
        "  std1 = stdfunction(column1)\r\n",
        "  std2 = stdfunction(column2)\r\n",
        "  correlation = cov / (std1 * std2)\r\n",
        "  return correlation\r\n",
        "\r\n",
        "cr= correlationfunction(df[\"Mthly_HH_Income\"],df[\"Mthly_HH_Expense\"])\r\n",
        "print(\"correlation using own function:\", cr)\r\n",
        "\r\n",
        "# with inbuilt function\r\n",
        "correlation = df[\"Mthly_HH_Income\"].corr(df[\"Mthly_HH_Expense\"])\r\n",
        "print(\"correlation using inbuilt function:\",correlation)"
      ],
      "execution_count": 119,
      "outputs": [
        {
          "output_type": "stream",
          "text": [
            "correlation using own function: 0.6492152549316461\n",
            "correlation using inbuilt function: 0.6492152549316462\n"
          ],
          "name": "stdout"
        }
      ]
    },
    {
      "cell_type": "markdown",
      "metadata": {
        "id": "sNTnuxS3q2kD"
      },
      "source": [
        "Calculate the total counts under each qualification"
      ]
    },
    {
      "cell_type": "code",
      "metadata": {
        "id": "9uYeQk_xq2si",
        "colab": {
          "base_uri": "https://localhost:8080/",
          "height": 226
        },
        "outputId": "776d64ce-7915-40d6-b19a-e0fb1fd2dc44"
      },
      "source": [
        "df.groupby(by=\"Highest_Qualified_Member\").count()"
      ],
      "execution_count": 120,
      "outputs": [
        {
          "output_type": "execute_result",
          "data": {
            "text/html": [
              "<div>\n",
              "<style scoped>\n",
              "    .dataframe tbody tr th:only-of-type {\n",
              "        vertical-align: middle;\n",
              "    }\n",
              "\n",
              "    .dataframe tbody tr th {\n",
              "        vertical-align: top;\n",
              "    }\n",
              "\n",
              "    .dataframe thead th {\n",
              "        text-align: right;\n",
              "    }\n",
              "</style>\n",
              "<table border=\"1\" class=\"dataframe\">\n",
              "  <thead>\n",
              "    <tr style=\"text-align: right;\">\n",
              "      <th></th>\n",
              "      <th>Mthly_HH_Income</th>\n",
              "      <th>Mthly_HH_Expense</th>\n",
              "      <th>No_of_Fly_Members</th>\n",
              "      <th>Emi_or_Rent_Amt</th>\n",
              "      <th>Annual_HH_Income</th>\n",
              "      <th>No_of_Earning_Members</th>\n",
              "    </tr>\n",
              "    <tr>\n",
              "      <th>Highest_Qualified_Member</th>\n",
              "      <th></th>\n",
              "      <th></th>\n",
              "      <th></th>\n",
              "      <th></th>\n",
              "      <th></th>\n",
              "      <th></th>\n",
              "    </tr>\n",
              "  </thead>\n",
              "  <tbody>\n",
              "    <tr>\n",
              "      <th>Graduate</th>\n",
              "      <td>19</td>\n",
              "      <td>19</td>\n",
              "      <td>19</td>\n",
              "      <td>19</td>\n",
              "      <td>19</td>\n",
              "      <td>19</td>\n",
              "    </tr>\n",
              "    <tr>\n",
              "      <th>Illiterate</th>\n",
              "      <td>5</td>\n",
              "      <td>5</td>\n",
              "      <td>5</td>\n",
              "      <td>5</td>\n",
              "      <td>5</td>\n",
              "      <td>5</td>\n",
              "    </tr>\n",
              "    <tr>\n",
              "      <th>Post-Graduate</th>\n",
              "      <td>6</td>\n",
              "      <td>6</td>\n",
              "      <td>6</td>\n",
              "      <td>6</td>\n",
              "      <td>6</td>\n",
              "      <td>6</td>\n",
              "    </tr>\n",
              "    <tr>\n",
              "      <th>Professional</th>\n",
              "      <td>10</td>\n",
              "      <td>10</td>\n",
              "      <td>10</td>\n",
              "      <td>10</td>\n",
              "      <td>10</td>\n",
              "      <td>10</td>\n",
              "    </tr>\n",
              "    <tr>\n",
              "      <th>Under-Graduate</th>\n",
              "      <td>10</td>\n",
              "      <td>10</td>\n",
              "      <td>10</td>\n",
              "      <td>10</td>\n",
              "      <td>10</td>\n",
              "      <td>10</td>\n",
              "    </tr>\n",
              "  </tbody>\n",
              "</table>\n",
              "</div>"
            ],
            "text/plain": [
              "                          Mthly_HH_Income  ...  No_of_Earning_Members\n",
              "Highest_Qualified_Member                   ...                       \n",
              "Graduate                               19  ...                     19\n",
              "Illiterate                              5  ...                      5\n",
              "Post-Graduate                           6  ...                      6\n",
              "Professional                           10  ...                     10\n",
              "Under-Graduate                         10  ...                     10\n",
              "\n",
              "[5 rows x 6 columns]"
            ]
          },
          "metadata": {
            "tags": []
          },
          "execution_count": 120
        }
      ]
    },
    {
      "cell_type": "markdown",
      "metadata": {
        "id": "vQT6RPqOyvi8"
      },
      "source": [
        "Compute logarithmic mean of the first two cols using your own function"
      ]
    },
    {
      "cell_type": "code",
      "metadata": {
        "id": "EUy4s5fjyzuh",
        "colab": {
          "base_uri": "https://localhost:8080/"
        },
        "outputId": "3c56e428-d827-4a07-ec4b-ef0465f2770c"
      },
      "source": [
        "def logarithmicmean_function(single_column):\r\n",
        "  max_val = max(single_column)\r\n",
        "  min_val = min(single_column)\r\n",
        "  log_max = math.log(max_val)\r\n",
        "  log_min = math.log(min_val)\r\n",
        "  if min_val == max_val:\r\n",
        "    logarithmicmean = min_val\r\n",
        "  else:\r\n",
        "    logarithmicmean = (max_val - min_val)/(log_max - log_min)\r\n",
        "  return logarithmicmean\r\n",
        "\r\n",
        "logmean = []\r\n",
        "for column in df.columns[0:2]:\r\n",
        "  l= logarithmicmean_function(df[column])\r\n",
        "  logmean.append(l)  \r\n",
        "print (\"The logarithmic Mean of first two columns using own function is:\", logmean)\r\n"
      ],
      "execution_count": 121,
      "outputs": [
        {
          "output_type": "stream",
          "text": [
            "The logarithmic Mean of first two columns using own function is: [31711.77906605674, 14912.038429430682]\n"
          ],
          "name": "stdout"
        }
      ]
    },
    {
      "cell_type": "markdown",
      "metadata": {
        "id": "LG4ph_BXyzmq"
      },
      "source": [
        "Compute geometric mean of the first two cols using your own  function and verify using inbuilt Python function"
      ]
    },
    {
      "cell_type": "code",
      "metadata": {
        "id": "5uCUqqOUyvpz",
        "colab": {
          "base_uri": "https://localhost:8080/"
        },
        "outputId": "d9311dee-7804-456b-aa23-ccc85f3dfaeb"
      },
      "source": [
        "#without inbuilt function\r\n",
        "def geomericmean_function(single_column):\r\n",
        "  n = len(single_column)\r\n",
        "  multiply = 1\r\n",
        "  for i in single_column:\r\n",
        "    multiply = (multiply)*(i)\r\n",
        "  geometricmean1 = (multiply)**(1/n)\r\n",
        "  return geometricmean1\r\n",
        "\r\n",
        "geomean = []\r\n",
        "for column in df.columns[0:2]:\r\n",
        "  g1= geomericmean_function(df[column])\r\n",
        "  geomean.append(g1)  \r\n",
        "print (\"The Geometric Mean of first two columns using own function is:\", geomean)\r\n",
        "\r\n",
        "#with inbuilt function\r\n",
        "geometricmean2 = scipy.stats.gmean(df.iloc[:,0:2],axis=0)\r\n",
        "print ('The Geometric Mean of first two columns using inbuilt function is:'+ str(geometricmean2))"
      ],
      "execution_count": 122,
      "outputs": [
        {
          "output_type": "stream",
          "text": [
            "The Geometric Mean of first two columns using own function is: [33590.377540213965, 15391.899582223135]\n",
            "The Geometric Mean of first two columns using inbuilt function is:[33590.37754021 15391.89958222]\n"
          ],
          "name": "stdout"
        }
      ]
    },
    {
      "cell_type": "markdown",
      "metadata": {
        "id": "Sgq9FwT-y7vC"
      },
      "source": [
        "Compute *Mean Deviation from the Mean* of the first two cols using your own  function and verify using inbuilt Python function"
      ]
    },
    {
      "cell_type": "code",
      "metadata": {
        "id": "ImCyk2CAy7zJ",
        "colab": {
          "base_uri": "https://localhost:8080/"
        },
        "outputId": "e75cef70-3e0b-4d98-bd62-b6b16faca82a"
      },
      "source": [
        "#without inbuilt function\r\n",
        "def meandeviationfunction(single_column):\r\n",
        "  mean_value = meanfunction(single_column)      #meanfunction is created earlier\r\n",
        "  x = single_column - mean_value\r\n",
        "  z=0\r\n",
        "  for i in x:\r\n",
        "    z += i\r\n",
        "  meandeviation = z/(len(single_column))\r\n",
        "  return meandeviation\r\n",
        "\r\n",
        "md_a = []\r\n",
        "for column in df.columns[0:2]:\r\n",
        "  md1= meandeviationfunction(df[column])\r\n",
        "  md_a.append(md1)\r\n",
        "print(\"mean deviation from the mean of first two columns using own function:\", md_a)\r\n"
      ],
      "execution_count": 123,
      "outputs": [
        {
          "output_type": "stream",
          "text": [
            "mean deviation from the mean of first two columns using own function: [0.0, 0.0]\n"
          ],
          "name": "stdout"
        }
      ]
    },
    {
      "cell_type": "markdown",
      "metadata": {
        "id": "IPbeTeSlzEEi"
      },
      "source": [
        "Compute *Mean Absolute Deviation from the Mean* of the first two cols using your own function and verify using inbuilt Python function"
      ]
    },
    {
      "cell_type": "code",
      "metadata": {
        "id": "hITjKV8QzENJ",
        "colab": {
          "base_uri": "https://localhost:8080/"
        },
        "outputId": "9474933c-9d09-4f68-8874-fd45cc0f577e"
      },
      "source": [
        "#without inbuilt function\r\n",
        "def madfunction(single_column):\r\n",
        "  mean_value = meanfunction(single_column)      #meanfunction is created earlier\r\n",
        "  x = np.absolute(single_column - mean_value)\r\n",
        "  z=0\r\n",
        "  for i in x:\r\n",
        "    z += i\r\n",
        "  mad = z/(single_column.shape[0])\r\n",
        "  return mad\r\n",
        "\r\n",
        "mad_a = []\r\n",
        "for column in df.columns[0:2]:\r\n",
        "  mad1= madfunction(df[column])\r\n",
        "  mad_a.append(mad1)\r\n",
        "print(\"mean absolute deviation of first two columns using own function:\", mad_a)\r\n",
        "\r\n",
        "#with inbuilt function\r\n",
        "mad_b = []\r\n",
        "for column in df.columns[0:2]: \r\n",
        "  mad2 = df[column].mad()\r\n",
        "  mad_b.append(mad2)\r\n",
        "print(\"mean absolute deviation of first two columns using inbuilt function:\", mad_b)"
      ],
      "execution_count": 124,
      "outputs": [
        {
          "output_type": "stream",
          "text": [
            "mean absolute deviation of first two columns using own function: [20288.96, 9247.44]\n",
            "mean absolute deviation of first two columns using inbuilt function: [20288.96, 9247.44]\n"
          ],
          "name": "stdout"
        }
      ]
    },
    {
      "cell_type": "markdown",
      "metadata": {
        "id": "OVoo_Mc0zMfS"
      },
      "source": [
        "Compute *Coefficient of Variation* of the first two cols using your own function and verify using inbuilt Python function"
      ]
    },
    {
      "cell_type": "code",
      "metadata": {
        "id": "3Xw8Xa0czMly",
        "colab": {
          "base_uri": "https://localhost:8080/"
        },
        "outputId": "6fe2a669-925a-4940-a5df-c8d99afa601b"
      },
      "source": [
        "def std_function(single_column):\r\n",
        "  mean_value = meanfunction(single_column)\r\n",
        "  x = single_column - mean_value\r\n",
        "  y = np.square(x)\r\n",
        "  z=0\r\n",
        "  for i in y:\r\n",
        "    z += i\r\n",
        "  var_value = z/(single_column.shape[0])\r\n",
        "  std_value = np.sqrt(var_value)\r\n",
        "  return std_value\r\n",
        "\r\n",
        "def coeff_var_function(single_column):\r\n",
        "  mean_value = meanfunction(single_column)      #meanfunction is created earlier\r\n",
        "  std_val = std_function(single_column)\r\n",
        "  cv = (std_val/mean_value)\r\n",
        "  return cv\r\n",
        "\r\n",
        "cv_a = []\r\n",
        "for column in df.columns[0:2]:\r\n",
        "  cv1= coeff_var_function(df[column])\r\n",
        "  cv_a.append(cv1)\r\n",
        "print(\"coefficient of variation of first two columns using own function:\", cv_a)\r\n",
        "\r\n",
        "#with inbuilt function\r\n",
        "cv_b = []\r\n",
        "for column in df.columns[0:2]: \r\n",
        "  cv2 = scipy.stats.variation(df[column])\r\n",
        "  #cv2 = df[column].()\r\n",
        "  cv_b.append(cv2)\r\n",
        "print(\"coefficient of variation of first two columns using inbuilt function:\", cv_b)"
      ],
      "execution_count": 125,
      "outputs": [
        {
          "output_type": "stream",
          "text": [
            "coefficient of variation of first two columns using own function: [0.6216760137420672, 0.636024233362227]\n",
            "coefficient of variation of first two columns using inbuilt function: [0.6216760137420672, 0.636024233362227]\n"
          ],
          "name": "stdout"
        }
      ]
    },
    {
      "cell_type": "markdown",
      "metadata": {
        "id": "zXC0DSBH0WFV"
      },
      "source": [
        "Compute z score  for all numerical cols using your own function  and verify using inbuilt Python function"
      ]
    },
    {
      "cell_type": "code",
      "metadata": {
        "id": "cMykdLB20WOM",
        "colab": {
          "base_uri": "https://localhost:8080/"
        },
        "outputId": "a0e0b209-30a2-4467-87a2-ffcb70f24055"
      },
      "source": [
        "def zscore_function(single_column):\r\n",
        "  mean_value = meanfunction(single_column)      #meanfunction is created earlier\r\n",
        "  std_val = std_function(single_column)\r\n",
        "  x = (single_column - mean_value)\r\n",
        "  zscore = np.array(x/std_val) \r\n",
        "  return zscore\r\n",
        "\r\n",
        "z_a = []\r\n",
        "for column in df.columns[0:5]:\r\n",
        "  z1= zscore_function(df[column])\r\n",
        "  z_a.append(z1)\r\n",
        "#print(\"zscore of first five columns (all numerical cols) using own function:\", z_a)\r\n",
        "\r\n",
        "#with inbuilt function\r\n",
        "z_b = []\r\n",
        "for column in df.columns[0:5]: \r\n",
        "  z2 = scipy.stats.zscore(df[column])\r\n",
        "  z_b.append(z2)\r\n",
        "#print(\"zscore of first five columns (all numerical cols) using inbuilt function:\", z_b)\r\n",
        "\r\n",
        "for i in range(5):\r\n",
        "  if z_a[i].all() == z_b[i].all() : print(\"Z score of column \"+ str(i+1) +\" is matching with own function and inbuilt funtion\")"
      ],
      "execution_count": 126,
      "outputs": [
        {
          "output_type": "stream",
          "text": [
            "Z score of column 1 is matching with own function and inbuilt funtion\n",
            "Z score of column 2 is matching with own function and inbuilt funtion\n",
            "Z score of column 3 is matching with own function and inbuilt funtion\n",
            "Z score of column 4 is matching with own function and inbuilt funtion\n",
            "Z score of column 5 is matching with own function and inbuilt funtion\n"
          ],
          "name": "stdout"
        }
      ]
    },
    {
      "cell_type": "markdown",
      "metadata": {
        "id": "EkbYcbGJ0ddc"
      },
      "source": [
        "Compute mode using your own function for the first two columns and verify using inbuilt Python function"
      ]
    },
    {
      "cell_type": "code",
      "metadata": {
        "id": "JAOXOaQw0djV",
        "colab": {
          "base_uri": "https://localhost:8080/"
        },
        "outputId": "b61bc9ba-5bbb-437b-ee70-e111a98fbab5"
      },
      "source": [
        "#without inbuilt function\r\n",
        "def modefunction(single_column):\r\n",
        "  max_count = (0,0)\r\n",
        "  for num in single_column:\r\n",
        "    single_column = list(single_column)\r\n",
        "    occurances = single_column.count(num)\r\n",
        "    if occurances > max_count[0]:\r\n",
        "      max_count = (occurances,num)\r\n",
        "  return max_count\r\n",
        "\r\n",
        "mode_a = []\r\n",
        "for column in df.columns[0:2]: \r\n",
        "  mode1 = modefunction(df[column])\r\n",
        "  mode_a.append(mode1)\r\n",
        "print(\"mode of first column using own function:\", mode_a[0][1])  \r\n",
        "print(\"mode of second column using own function:\", mode_a[1][1])\r\n",
        "\r\n",
        "#with inbuilt function\r\n",
        "mode_b = []\r\n",
        "for column in df.columns[0:2]: \r\n",
        "  #mode2 = scipy.stats.mode(df[column])\r\n",
        "  mode2 = df[column].mode()\r\n",
        "  mode_b.append(mode2)\r\n",
        "print(\"mode of first column using inbuilt function:\", mode_b[0][0])  \r\n",
        "print(\"mode of second column using inbuilt function:\", mode_b[1][0])\r\n"
      ],
      "execution_count": 127,
      "outputs": [
        {
          "output_type": "stream",
          "text": [
            "mode of first column using own function: 45000\n",
            "mode of second column using own function: 25000\n",
            "mode of first column using inbuilt function: 45000\n",
            "mode of second column using inbuilt function: 25000\n"
          ],
          "name": "stdout"
        }
      ]
    },
    {
      "cell_type": "markdown",
      "metadata": {
        "id": "HGPGOGDo04O1"
      },
      "source": [
        "Comment if the data for the first two cols is bi-modal, multi-modal or single modal"
      ]
    },
    {
      "cell_type": "code",
      "metadata": {
        "id": "blysYEAQ04Vs",
        "colab": {
          "base_uri": "https://localhost:8080/"
        },
        "outputId": "2cb7b3a3-1eca-4265-bf4c-80ec6fce233b"
      },
      "source": [
        "print(\"mode of first two column:\",mode_a)\r\n",
        "print(\"mode in both the columns is not repeating. So it is singlemodal.\") "
      ],
      "execution_count": 128,
      "outputs": [
        {
          "output_type": "stream",
          "text": [
            "mode of first two column: [(4, 45000), (8, 25000)]\n",
            "mode in both the columns is not repeating. So it is singlemodal.\n"
          ],
          "name": "stdout"
        }
      ]
    }
  ]
}